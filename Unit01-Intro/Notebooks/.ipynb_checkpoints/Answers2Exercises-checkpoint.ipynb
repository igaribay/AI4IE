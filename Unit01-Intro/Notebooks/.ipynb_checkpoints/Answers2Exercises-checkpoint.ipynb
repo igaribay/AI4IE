{
 "cells": [
  {
   "cell_type": "markdown",
   "id": "2509a5ba",
   "metadata": {},
   "source": [
    "# Solutions to Exercises 4, 5 and 6 from the Jupyter Notebook 2B \n",
    "\n",
    "Note that computing primes is not required, just find a list from anywhere and create a list\n",
    "\n",
    "## Optional for advanced students only : your are not required to compute primes, just to type a list, you can skip to Solutions section\n",
    "\n",
    "Here we show how to compute it, just as an advance option"
   ]
  },
  {
   "cell_type": "code",
   "execution_count": 1,
   "id": "cb0a0239",
   "metadata": {},
   "outputs": [],
   "source": [
    "# Just test how to define a \"function\"\n",
    "\n",
    "def Is_this_prime2(number):\n",
    "    print(number)"
   ]
  },
  {
   "cell_type": "code",
   "execution_count": 2,
   "id": "a4b61c4b",
   "metadata": {},
   "outputs": [
    {
     "name": "stdout",
     "output_type": "stream",
     "text": [
      "5\n"
     ]
    }
   ],
   "source": [
    "Is_this_prime2(5)"
   ]
  },
  {
   "cell_type": "code",
   "execution_count": 3,
   "id": "914b58ab",
   "metadata": {},
   "outputs": [],
   "source": [
    "# define a function to check if a number is prime or not\n",
    "def Is_this_prime(num):\n",
    "\n",
    "#num = input number to check\n",
    "\n",
    "# define a flag variable, initialize it to \"False\"\n",
    "    flag = False\n",
    "\n",
    "    if num == 1:\n",
    "        print(num, \"is not a prime number\")\n",
    "    elif num > 1:\n",
    "        # check for factors\n",
    "        for i in range(2, num):\n",
    "            if (num % i) == 0:\n",
    "                # if factor is found, set flag to True (not prime)\n",
    "                flag = True\n",
    "                # break out of loop\n",
    "                break\n",
    "        # check if flag is True\n",
    "        if flag:\n",
    "            print(num, \"is not a prime number\")\n",
    "            return(False)\n",
    "        else:\n",
    "            print(num, \"is a prime number\")\n",
    "            return(True)"
   ]
  },
  {
   "cell_type": "code",
   "execution_count": 5,
   "id": "5b317600",
   "metadata": {},
   "outputs": [
    {
     "name": "stdout",
     "output_type": "stream",
     "text": [
      "4 is not a prime number\n"
     ]
    },
    {
     "data": {
      "text/plain": [
       "False"
      ]
     },
     "execution_count": 5,
     "metadata": {},
     "output_type": "execute_result"
    }
   ],
   "source": [
    "Is_this_prime(4)"
   ]
  },
  {
   "cell_type": "code",
   "execution_count": 6,
   "id": "b6ed3ccd",
   "metadata": {},
   "outputs": [
    {
     "name": "stdout",
     "output_type": "stream",
     "text": [
      "1 is not a prime number\n",
      "nothing to append\n",
      "2 is a prime number\n",
      "[2]\n",
      "3 is a prime number\n",
      "[2, 3]\n",
      "4 is not a prime number\n",
      "nothing to append\n",
      "5 is a prime number\n",
      "[2, 3, 5]\n",
      "6 is not a prime number\n",
      "nothing to append\n",
      "7 is a prime number\n",
      "[2, 3, 5, 7]\n",
      "8 is not a prime number\n",
      "nothing to append\n",
      "9 is not a prime number\n",
      "nothing to append\n",
      "10 is not a prime number\n",
      "nothing to append\n",
      "11 is a prime number\n",
      "[2, 3, 5, 7, 11]\n",
      "12 is not a prime number\n",
      "nothing to append\n",
      "13 is a prime number\n",
      "[2, 3, 5, 7, 11, 13]\n",
      "14 is not a prime number\n",
      "nothing to append\n",
      "15 is not a prime number\n",
      "nothing to append\n",
      "16 is not a prime number\n",
      "nothing to append\n",
      "17 is a prime number\n",
      "[2, 3, 5, 7, 11, 13, 17]\n",
      "18 is not a prime number\n",
      "nothing to append\n",
      "19 is a prime number\n",
      "[2, 3, 5, 7, 11, 13, 17, 19]\n",
      "20 is not a prime number\n",
      "nothing to append\n",
      "21 is not a prime number\n",
      "nothing to append\n",
      "22 is not a prime number\n",
      "nothing to append\n",
      "23 is a prime number\n",
      "[2, 3, 5, 7, 11, 13, 17, 19, 23]\n",
      "24 is not a prime number\n",
      "nothing to append\n",
      "25 is not a prime number\n",
      "nothing to append\n",
      "26 is not a prime number\n",
      "nothing to append\n",
      "27 is not a prime number\n",
      "nothing to append\n",
      "28 is not a prime number\n",
      "nothing to append\n",
      "29 is a prime number\n",
      "[2, 3, 5, 7, 11, 13, 17, 19, 23, 29]\n"
     ]
    }
   ],
   "source": [
    "#First version: just keep increasing numMAx until you get ten\n",
    "# hint: use 30 \n",
    "\n",
    "numMax = 30\n",
    "MyPrimeList = []\n",
    "for j in range(1, numMax):\n",
    "    if Is_this_prime(j):\n",
    "        MyPrimeList.append(j)\n",
    "        print(MyPrimeList)\n",
    "    else:\n",
    "        print(\"nothing to append\")\n",
    "    \n",
    "    \n"
   ]
  },
  {
   "cell_type": "code",
   "execution_count": 43,
   "id": "cab3ec88",
   "metadata": {},
   "outputs": [
    {
     "name": "stdout",
     "output_type": "stream",
     "text": [
      "1 is not a prime number\n",
      "nothing to append\n",
      "2 is a prime number\n",
      "[2]\n",
      "3 is a prime number\n",
      "[2, 3]\n",
      "4 is not a prime number\n",
      "nothing to append\n",
      "5 is a prime number\n",
      "[2, 3, 5]\n",
      "6 is not a prime number\n",
      "nothing to append\n",
      "7 is a prime number\n",
      "[2, 3, 5, 7]\n",
      "8 is not a prime number\n",
      "nothing to append\n",
      "9 is not a prime number\n",
      "nothing to append\n",
      "10 is not a prime number\n",
      "nothing to append\n",
      "11 is a prime number\n",
      "[2, 3, 5, 7, 11]\n",
      "12 is not a prime number\n",
      "nothing to append\n",
      "13 is a prime number\n",
      "[2, 3, 5, 7, 11, 13]\n",
      "14 is not a prime number\n",
      "nothing to append\n",
      "15 is not a prime number\n",
      "nothing to append\n",
      "16 is not a prime number\n",
      "nothing to append\n",
      "17 is a prime number\n",
      "[2, 3, 5, 7, 11, 13, 17]\n",
      "18 is not a prime number\n",
      "nothing to append\n",
      "19 is a prime number\n",
      "[2, 3, 5, 7, 11, 13, 17, 19]\n",
      "20 is not a prime number\n",
      "nothing to append\n",
      "21 is not a prime number\n",
      "nothing to append\n",
      "22 is not a prime number\n",
      "nothing to append\n",
      "23 is a prime number\n",
      "[2, 3, 5, 7, 11, 13, 17, 19, 23]\n",
      "24 is not a prime number\n",
      "nothing to append\n",
      "25 is not a prime number\n",
      "nothing to append\n",
      "26 is not a prime number\n",
      "nothing to append\n",
      "27 is not a prime number\n",
      "nothing to append\n",
      "28 is not a prime number\n",
      "nothing to append\n",
      "29 is a prime number\n",
      "[2, 3, 5, 7, 11, 13, 17, 19, 23, 29]\n",
      "30 is not a prime number\n",
      "nothing to append\n",
      "31 is a prime number\n",
      "BREAK: Found  10  primes!\n"
     ]
    },
    {
     "data": {
      "text/plain": [
       "[2, 3, 5, 7, 11, 13, 17, 19, 23, 29]"
      ]
     },
     "execution_count": 43,
     "metadata": {},
     "output_type": "execute_result"
    }
   ],
   "source": [
    "#second version: test size of list until size = 10, then stop\n",
    "\n",
    "numMax = 35 #no max is how far are we going to seach for primes\n",
    "listSize = 10 \n",
    "MyPrimeList = []\n",
    "for j in range(1, numMax):\n",
    "    if Is_this_prime(j):\n",
    "        if len(MyPrimeList) < listSize:\n",
    "            MyPrimeList.append(j)\n",
    "            print(MyPrimeList)\n",
    "        else:\n",
    "            print(\"BREAK: Found \", listSize, \" primes!\")\n",
    "            break\n",
    "    else:\n",
    "        print(\"nothing to append\")\n",
    "MyPrimeList"
   ]
  },
  {
   "cell_type": "markdown",
   "id": "18539773",
   "metadata": {},
   "source": [
    "## Solution 4"
   ]
  },
  {
   "cell_type": "code",
   "execution_count": 51,
   "id": "df04ab34",
   "metadata": {},
   "outputs": [
    {
     "data": {
      "text/plain": [
       "[2, 3, 5, 7, 11, 13, 17, 19, 23, 29]"
      ]
     },
     "execution_count": 51,
     "metadata": {},
     "output_type": "execute_result"
    }
   ],
   "source": [
    "#option 1: use what we computed above\n",
    "prime10 = MyPrimeList\n",
    "\n",
    "#option 2: just type them\n",
    "prime10 = [2,3,5,7,11,13,17,19,23,29]\n",
    "\n",
    "prime10"
   ]
  },
  {
   "cell_type": "markdown",
   "id": "9f761bf8",
   "metadata": {},
   "source": [
    "## Solution 5"
   ]
  },
  {
   "cell_type": "code",
   "execution_count": 49,
   "id": "2ad1254f",
   "metadata": {},
   "outputs": [
    {
     "data": {
      "text/plain": [
       "[2, 3, 5, 7, 11]"
      ]
     },
     "execution_count": 49,
     "metadata": {},
     "output_type": "execute_result"
    }
   ],
   "source": [
    "prime5 = prime10[:5]\n",
    "prime5"
   ]
  },
  {
   "cell_type": "code",
   "execution_count": 52,
   "id": "b899dc6a",
   "metadata": {},
   "outputs": [
    {
     "name": "stdout",
     "output_type": "stream",
     "text": [
      "2 , 38\n",
      "3 , 57\n",
      "5 , 95\n",
      "7 , 133\n",
      "11 , 209\n",
      "13 , 247\n",
      "17 , 323\n",
      "19 , 361\n",
      "23 , 437\n",
      "29 , 551\n"
     ]
    }
   ],
   "source": [
    "for x in prime10:\n",
    "    print (x, \",\", x*19)"
   ]
  },
  {
   "cell_type": "code",
   "execution_count": 53,
   "id": "6f3bb918",
   "metadata": {},
   "outputs": [
    {
     "name": "stdout",
     "output_type": "stream",
     "text": [
      "2 , 32\n",
      "3 , 243\n",
      "5 , 3125\n",
      "7 , 16807\n",
      "11 , 161051\n"
     ]
    }
   ],
   "source": [
    "for x in prime5:\n",
    "    print (x, \",\", x**5)"
   ]
  },
  {
   "cell_type": "code",
   "execution_count": null,
   "id": "1649d75d",
   "metadata": {},
   "outputs": [],
   "source": []
  }
 ],
 "metadata": {
  "kernelspec": {
   "display_name": "Python 3 (ipykernel)",
   "language": "python",
   "name": "python3"
  },
  "language_info": {
   "codemirror_mode": {
    "name": "ipython",
    "version": 3
   },
   "file_extension": ".py",
   "mimetype": "text/x-python",
   "name": "python",
   "nbconvert_exporter": "python",
   "pygments_lexer": "ipython3",
   "version": "3.9.12"
  }
 },
 "nbformat": 4,
 "nbformat_minor": 5
}
