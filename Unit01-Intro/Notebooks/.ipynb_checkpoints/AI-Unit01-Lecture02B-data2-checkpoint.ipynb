{
 "cells": [
  {
   "cell_type": "markdown",
   "metadata": {},
   "source": [
    "# Unit 1 Lecture 2B -  Data Structures - Collections\n",
    "\n",
    "CAI 4823: Artificial Intelligence for Industrial Engineers<br>\n",
    "University of Central Florida\n",
    "Dr. Ivan Garibay, Ramya Akula.<br> \n"
   ]
  },
  {
   "cell_type": "markdown",
   "metadata": {},
   "source": [
    "## Notebook Learning Objectives\n",
    "After studying this notebook students should be able to:\n",
    "- Undestand, use and manipulate data structures that store __collections__ of items: \n",
    "    - lists, \n",
    "    - tupples, \n",
    "    - dictionaries, and \n",
    "    - sets\n",
    "- Understand the use of __arrays__ to store collections of numbers\n",
    "- Understand the use of __```Range()```__\n",
    "- Understand the use of __files__ to store and retrieve data"
   ]
  },
  {
   "cell_type": "markdown",
   "metadata": {},
   "source": [
    "# List\n",
    "- Lists in Python are simply collections of data\n",
    "- Lists can contain strings, integers, floats, etc.\n",
    "- Lists are ordered: each objects on the list is assigned a number called the index\n",
    "- Lists are \"mutable\": we can update elements of the list at will"
   ]
  },
  {
   "cell_type": "code",
   "execution_count": 70,
   "metadata": {},
   "outputs": [
    {
     "name": "stdout",
     "output_type": "stream",
     "text": [
      "['Python', 'C', 'Java', 'Julia', 'R', 'C++']\n"
     ]
    }
   ],
   "source": [
    "MyExampleList = [\"Python\", \"C\", \"Java\", \"Julia\", \"R\", \"C++\"]\n",
    "print (MyExampleList)"
   ]
  },
  {
   "cell_type": "markdown",
   "metadata": {},
   "source": [
    "### Accessing Values in Lists"
   ]
  },
  {
   "cell_type": "code",
   "execution_count": 71,
   "metadata": {},
   "outputs": [
    {
     "data": {
      "text/plain": [
       "'C'"
      ]
     },
     "execution_count": 71,
     "metadata": {},
     "output_type": "execute_result"
    }
   ],
   "source": [
    "MyExampleList[1]"
   ]
  },
  {
   "cell_type": "code",
   "execution_count": 72,
   "metadata": {},
   "outputs": [
    {
     "data": {
      "text/plain": [
       "'C'"
      ]
     },
     "execution_count": 72,
     "metadata": {},
     "output_type": "execute_result"
    }
   ],
   "source": [
    "MyExampleList[1]"
   ]
  },
  {
   "cell_type": "code",
   "execution_count": 73,
   "metadata": {},
   "outputs": [
    {
     "data": {
      "text/plain": [
       "'Julia'"
      ]
     },
     "execution_count": 73,
     "metadata": {},
     "output_type": "execute_result"
    }
   ],
   "source": [
    "MyExampleList[3]"
   ]
  },
  {
   "cell_type": "code",
   "execution_count": 74,
   "metadata": {},
   "outputs": [
    {
     "data": {
      "text/plain": [
       "['C', 'Java']"
      ]
     },
     "execution_count": 74,
     "metadata": {},
     "output_type": "execute_result"
    }
   ],
   "source": [
    "MyExampleList[1:3]"
   ]
  },
  {
   "cell_type": "code",
   "execution_count": 75,
   "metadata": {},
   "outputs": [
    {
     "data": {
      "text/plain": [
       "['Java', 'Julia', 'R', 'C++']"
      ]
     },
     "execution_count": 75,
     "metadata": {},
     "output_type": "execute_result"
    }
   ],
   "source": [
    "MyExampleList[2:]"
   ]
  },
  {
   "cell_type": "code",
   "execution_count": 76,
   "metadata": {},
   "outputs": [
    {
     "name": "stdout",
     "output_type": "stream",
     "text": [
      "6\n"
     ]
    }
   ],
   "source": [
    "Length = len(MyExampleList)\n",
    "print(Length)"
   ]
  },
  {
   "cell_type": "code",
   "execution_count": 77,
   "metadata": {},
   "outputs": [
    {
     "name": "stdout",
     "output_type": "stream",
     "text": [
      "C++\n"
     ]
    }
   ],
   "source": [
    "print(MyExampleList[Length - 1])"
   ]
  },
  {
   "cell_type": "code",
   "execution_count": 78,
   "metadata": {},
   "outputs": [
    {
     "data": {
      "text/plain": [
       "'y'"
      ]
     },
     "execution_count": 78,
     "metadata": {},
     "output_type": "execute_result"
    }
   ],
   "source": [
    "MyExampleList[0][1]"
   ]
  },
  {
   "cell_type": "code",
   "execution_count": 79,
   "metadata": {},
   "outputs": [
    {
     "data": {
      "text/plain": [
       "('Java', 'Java')"
      ]
     },
     "execution_count": 79,
     "metadata": {},
     "output_type": "execute_result"
    }
   ],
   "source": [
    "MyExampleList[-4] , MyExampleList[2]"
   ]
  },
  {
   "cell_type": "code",
   "execution_count": 80,
   "metadata": {},
   "outputs": [
    {
     "data": {
      "text/plain": [
       "7"
      ]
     },
     "execution_count": 80,
     "metadata": {},
     "output_type": "execute_result"
    }
   ],
   "source": [
    "Day = [\"Sunday\", \"Monday\", \"Tuesday\", \"Wednesday\", \"Thursday\", \"Friday\", \"Saturday\"]\n",
    "len(Day)"
   ]
  },
  {
   "cell_type": "code",
   "execution_count": 81,
   "metadata": {},
   "outputs": [
    {
     "name": "stdout",
     "output_type": "stream",
     "text": [
      "Today is:  Sunday\n"
     ]
    }
   ],
   "source": [
    "count = 0\n",
    "print(\"Today is: \", Day[count])"
   ]
  },
  {
   "cell_type": "code",
   "execution_count": 82,
   "metadata": {},
   "outputs": [
    {
     "name": "stdout",
     "output_type": "stream",
     "text": [
      "Today is:  Thursday\n"
     ]
    }
   ],
   "source": [
    "count = 4\n",
    "print(\"Today is: \", Day[count])"
   ]
  },
  {
   "cell_type": "markdown",
   "metadata": {},
   "source": [
    "### Updating Lists"
   ]
  },
  {
   "cell_type": "code",
   "execution_count": 93,
   "metadata": {},
   "outputs": [
    {
     "name": "stdout",
     "output_type": "stream",
     "text": [
      "['Python', 'Scala', 'Julia', 'R', 'C++']\n"
     ]
    }
   ],
   "source": [
    "MyExampleList[1]=\"Scala\"\n",
    "print (MyExampleList)"
   ]
  },
  {
   "cell_type": "code",
   "execution_count": 94,
   "metadata": {},
   "outputs": [],
   "source": [
    "List1 = [\"chemistry\", \"2024\", \"math\", \"2023\"]"
   ]
  },
  {
   "cell_type": "code",
   "execution_count": 95,
   "metadata": {},
   "outputs": [
    {
     "name": "stdout",
     "output_type": "stream",
     "text": [
      "['physics', '2024', 'math', '2023']\n"
     ]
    }
   ],
   "source": [
    "List1[0] = \"physics\"\n",
    "print(List1)"
   ]
  },
  {
   "cell_type": "code",
   "execution_count": 96,
   "metadata": {},
   "outputs": [
    {
     "name": "stdout",
     "output_type": "stream",
     "text": [
      "['physics', '2024', 'music', '2023']\n"
     ]
    }
   ],
   "source": [
    "List1[2:] = [\"music\", \"2023\"]\n",
    "print(List1)"
   ]
  },
  {
   "cell_type": "code",
   "execution_count": 97,
   "metadata": {},
   "outputs": [],
   "source": [
    "List2 = [\"class1\", \"class2\"]"
   ]
  },
  {
   "cell_type": "code",
   "execution_count": 98,
   "metadata": {},
   "outputs": [
    {
     "name": "stdout",
     "output_type": "stream",
     "text": [
      "['physics', '2024', 'music', '2023', 'class1', 'class2']\n"
     ]
    }
   ],
   "source": [
    "List3 = List1 + List2\n",
    "print(List3)"
   ]
  },
  {
   "cell_type": "code",
   "execution_count": 99,
   "metadata": {},
   "outputs": [
    {
     "name": "stdout",
     "output_type": "stream",
     "text": [
      "['physics', '2024', 'music', '2023', 'class1', 'class2', 'physics', '2024', 'music', '2023', 'class1', 'class2']\n"
     ]
    }
   ],
   "source": [
    "List3 = List3*2\n",
    "print(List3)"
   ]
  },
  {
   "cell_type": "markdown",
   "metadata": {},
   "source": [
    "### Delete List Elements"
   ]
  },
  {
   "cell_type": "code",
   "execution_count": 100,
   "metadata": {},
   "outputs": [
    {
     "name": "stdout",
     "output_type": "stream",
     "text": [
      "['Python', 'Julia', 'R', 'C++']\n"
     ]
    }
   ],
   "source": [
    "del MyExampleList[1]\n",
    "print (MyExampleList)"
   ]
  },
  {
   "cell_type": "code",
   "execution_count": 101,
   "metadata": {},
   "outputs": [
    {
     "name": "stdout",
     "output_type": "stream",
     "text": [
      "['physics', '2024', 'music', '2023']\n"
     ]
    }
   ],
   "source": [
    "print(List1)"
   ]
  },
  {
   "cell_type": "code",
   "execution_count": 102,
   "metadata": {},
   "outputs": [
    {
     "name": "stdout",
     "output_type": "stream",
     "text": [
      "List1 after deleting opperation is: ['physics', '2024', '2023']\n"
     ]
    }
   ],
   "source": [
    "del List1[2:3]\n",
    "print(\"List1 after deleting opperation is:\", List1)"
   ]
  },
  {
   "cell_type": "markdown",
   "metadata": {},
   "source": [
    "### Methods in List"
   ]
  },
  {
   "cell_type": "markdown",
   "metadata": {},
   "source": [
    "```Name.append (x)``` : Add an item to the end of the list.\n",
    "\n",
    "```Name.remove (x)``` : Remove the first item from the list.\n",
    "\n",
    "```Name.index (x)``` : Return zero-based index in the list of the first item.\n",
    "\n",
    "```Name.count (x)``` : Return the number of times x appears in the list.\n",
    "\n",
    "```Name.extend (x)``` : Extend the list by appending all the items from the iterable.\n",
    "\n",
    "```Name.insert (I,x)``` : Insert an item at a given position.\n",
    "\n",
    "```Name.sort ()``` : Sort the items of the list in place. "
   ]
  },
  {
   "cell_type": "markdown",
   "metadata": {},
   "source": [
    "Applying these methods in an example:"
   ]
  },
  {
   "cell_type": "code",
   "execution_count": 103,
   "metadata": {},
   "outputs": [
    {
     "name": "stdout",
     "output_type": "stream",
     "text": [
      "['math', 'physics', 'art', 'algebra']\n"
     ]
    }
   ],
   "source": [
    "Listx = [\"math\" , \"physics\" , \"art\"]\n",
    "Listx.append(\"algebra\")\n",
    "print(Listx)"
   ]
  },
  {
   "cell_type": "code",
   "execution_count": 104,
   "metadata": {},
   "outputs": [
    {
     "name": "stdout",
     "output_type": "stream",
     "text": [
      "['math', 'physics', 'algebra']\n"
     ]
    }
   ],
   "source": [
    "Listx.remove(\"art\")\n",
    "print(Listx)"
   ]
  },
  {
   "cell_type": "code",
   "execution_count": 105,
   "metadata": {},
   "outputs": [
    {
     "data": {
      "text/plain": [
       "1"
      ]
     },
     "execution_count": 105,
     "metadata": {},
     "output_type": "execute_result"
    }
   ],
   "source": [
    "Listx.index(\"physics\")"
   ]
  },
  {
   "cell_type": "code",
   "execution_count": 106,
   "metadata": {},
   "outputs": [
    {
     "data": {
      "text/plain": [
       "1"
      ]
     },
     "execution_count": 106,
     "metadata": {},
     "output_type": "execute_result"
    }
   ],
   "source": [
    "Listx.count(\"algebra\")"
   ]
  },
  {
   "cell_type": "code",
   "execution_count": 107,
   "metadata": {},
   "outputs": [
    {
     "name": "stdout",
     "output_type": "stream",
     "text": [
      "['math', 'physics', 'algebra', '17', '19', '20']\n"
     ]
    }
   ],
   "source": [
    "Listy = [\"17\" , \"19\" , \"20\"]\n",
    "\n",
    "Listx.extend(Listy)\n",
    "print(Listx)"
   ]
  },
  {
   "cell_type": "code",
   "execution_count": 108,
   "metadata": {},
   "outputs": [
    {
     "data": {
      "text/plain": [
       "[1, 2, 3, 4, 7, 9]"
      ]
     },
     "execution_count": 108,
     "metadata": {},
     "output_type": "execute_result"
    }
   ],
   "source": [
    "Listz = [1,4,9,2,3,7]\n",
    "Listz.sort()\n",
    "Listz"
   ]
  },
  {
   "cell_type": "markdown",
   "metadata": {},
   "source": [
    "# Tuples "
   ]
  },
  {
   "cell_type": "markdown",
   "metadata": {},
   "source": [
    "A tuple consist of a number of objects which seperated by commas with or without parentheses, for instance:"
   ]
  },
  {
   "cell_type": "code",
   "execution_count": 109,
   "metadata": {},
   "outputs": [],
   "source": [
    "Tuple = (\"d\", 12, \"b17\", \"21!\")\n",
    "Tuple1 = \"f\", \"bd\", 12"
   ]
  },
  {
   "cell_type": "code",
   "execution_count": 110,
   "metadata": {},
   "outputs": [
    {
     "data": {
      "text/plain": [
       "'d'"
      ]
     },
     "execution_count": 110,
     "metadata": {},
     "output_type": "execute_result"
    }
   ],
   "source": [
    "Tuple[0]"
   ]
  },
  {
   "cell_type": "code",
   "execution_count": 111,
   "metadata": {},
   "outputs": [
    {
     "data": {
      "text/plain": [
       "(12, 'b17')"
      ]
     },
     "execution_count": 111,
     "metadata": {},
     "output_type": "execute_result"
    }
   ],
   "source": [
    "Tuple[1:3]"
   ]
  },
  {
   "cell_type": "markdown",
   "metadata": {},
   "source": [
    " empty tuple is usually constructed by an empty parentheses, while a tuple with one item is constructed by following a value with a comma after it\n"
   ]
  },
  {
   "cell_type": "code",
   "execution_count": 112,
   "metadata": {},
   "outputs": [
    {
     "data": {
      "text/plain": [
       "0"
      ]
     },
     "execution_count": 112,
     "metadata": {},
     "output_type": "execute_result"
    }
   ],
   "source": [
    "Tuple_empty = ()\n",
    "Tuple_single = (123),\n",
    "len(Tuple_empty)"
   ]
  },
  {
   "cell_type": "code",
   "execution_count": 113,
   "metadata": {},
   "outputs": [
    {
     "data": {
      "text/plain": [
       "1"
      ]
     },
     "execution_count": 113,
     "metadata": {},
     "output_type": "execute_result"
    }
   ],
   "source": [
    "len(Tuple_single)"
   ]
  },
  {
   "cell_type": "markdown",
   "metadata": {},
   "source": [
    "Unlike lists, tuples are immutable:"
   ]
  },
  {
   "cell_type": "code",
   "execution_count": 114,
   "metadata": {},
   "outputs": [
    {
     "ename": "TypeError",
     "evalue": "'tuple' object does not support item assignment",
     "output_type": "error",
     "traceback": [
      "\u001b[0;31m---------------------------------------------------------------------------\u001b[0m",
      "\u001b[0;31mTypeError\u001b[0m                                 Traceback (most recent call last)",
      "Input \u001b[0;32mIn [114]\u001b[0m, in \u001b[0;36m<cell line: 2>\u001b[0;34m()\u001b[0m\n\u001b[1;32m      1\u001b[0m T1 \u001b[38;5;241m=\u001b[39m (\u001b[38;5;241m100\u001b[39m,\u001b[38;5;241m200\u001b[39m,\u001b[38;5;241m300\u001b[39m,\u001b[38;5;241m400\u001b[39m,\u001b[38;5;241m500\u001b[39m)\n\u001b[0;32m----> 2\u001b[0m T1[\u001b[38;5;241m0\u001b[39m] \u001b[38;5;241m=\u001b[39m \u001b[38;5;241m700\u001b[39m\n",
      "\u001b[0;31mTypeError\u001b[0m: 'tuple' object does not support item assignment"
     ]
    }
   ],
   "source": [
    "T1 = (100,200,300,400,500)\n",
    "T1[0] = 700"
   ]
  },
  {
   "cell_type": "markdown",
   "metadata": {},
   "source": [
    "This ```error``` shows that tuples are immutable and you are not allowed to replace its objects with new objects. So we can create a new tuple includes new objects."
   ]
  },
  {
   "cell_type": "code",
   "execution_count": 115,
   "metadata": {},
   "outputs": [
    {
     "name": "stdout",
     "output_type": "stream",
     "text": [
      "(700, 200, 300, 400, 500)\n"
     ]
    }
   ],
   "source": [
    "T2 = (700,) + T1[1:]\n",
    "print(T2)"
   ]
  },
  {
   "cell_type": "code",
   "execution_count": 116,
   "metadata": {},
   "outputs": [
    {
     "data": {
      "text/plain": [
       "(100, 200, 300, 400, 500, 800, 900)"
      ]
     },
     "execution_count": 116,
     "metadata": {},
     "output_type": "execute_result"
    }
   ],
   "source": [
    "T1 + (800,900)"
   ]
  },
  {
   "cell_type": "code",
   "execution_count": 117,
   "metadata": {},
   "outputs": [
    {
     "name": "stdout",
     "output_type": "stream",
     "text": [
      "Today is:  Sunday\n"
     ]
    }
   ],
   "source": [
    "Day = (\"Sunday\", \"Monday\", \"Tuesday\", \"Wednesday\")\n",
    "count = 0\n",
    "print(\"Today is: \", Day[count])"
   ]
  },
  {
   "cell_type": "markdown",
   "metadata": {},
   "source": [
    "Tuple and sub-tuple:"
   ]
  },
  {
   "cell_type": "code",
   "execution_count": 118,
   "metadata": {},
   "outputs": [
    {
     "data": {
      "text/plain": [
       "4"
      ]
     },
     "execution_count": 118,
     "metadata": {},
     "output_type": "execute_result"
    }
   ],
   "source": [
    "Class = (\"Math\", \"Physics\", \"Algebra\", \"Art\")\n",
    "len(Class)"
   ]
  },
  {
   "cell_type": "code",
   "execution_count": 119,
   "metadata": {},
   "outputs": [
    {
     "data": {
      "text/plain": [
       "4"
      ]
     },
     "execution_count": 119,
     "metadata": {},
     "output_type": "execute_result"
    }
   ],
   "source": [
    "Class1 = ((\"Math1\", \"Math2\", \"Math3\"), (\"Physics1\", \"Physics2\"), \"Algebra\", \"Art\")\n",
    "len(Class1)"
   ]
  },
  {
   "cell_type": "markdown",
   "metadata": {},
   "source": [
    "### Methods in Tuple"
   ]
  },
  {
   "cell_type": "markdown",
   "metadata": {},
   "source": [
    "```Name.index (x)``` : Return zero-based index in the tuple of the first x item.\n",
    "\n",
    "```Name.count (x)``` : Return the number of times x appears in the tuple."
   ]
  },
  {
   "cell_type": "code",
   "execution_count": 120,
   "metadata": {},
   "outputs": [
    {
     "data": {
      "text/plain": [
       "4"
      ]
     },
     "execution_count": 120,
     "metadata": {},
     "output_type": "execute_result"
    }
   ],
   "source": [
    "T3 = (\"a\", \"b\", \"c\", \"d\", \"e\", \"f\", \"d\", \"b\", \"d\")\n",
    "T3.index(\"e\")"
   ]
  },
  {
   "cell_type": "code",
   "execution_count": 121,
   "metadata": {},
   "outputs": [
    {
     "data": {
      "text/plain": [
       "3"
      ]
     },
     "execution_count": 121,
     "metadata": {},
     "output_type": "execute_result"
    }
   ],
   "source": [
    "T3.count(\"d\")"
   ]
  },
  {
   "cell_type": "markdown",
   "metadata": {},
   "source": [
    "# Dictionary"
   ]
  },
  {
   "cell_type": "markdown",
   "metadata": {},
   "source": [
    "A dictionary includes ```keys``` and ```values```. Any key of the dictionary is associated to a value. For dictionary we use braces {} and each key is separated from its value by a colon (:), each value is separated by commas.\n",
    "\n",
    "Keys in a dictionary are uniqe, while values in a dictionary can be repeated."
   ]
  },
  {
   "cell_type": "code",
   "execution_count": 122,
   "metadata": {},
   "outputs": [
    {
     "name": "stdout",
     "output_type": "stream",
     "text": [
      "{'Math': 'A', 'Physics': 'A', 'Art': 'B', 'Algebra': 'c'}\n"
     ]
    }
   ],
   "source": [
    "dic1 = {\"Math\":\"A\", \"Physics\":\"A\", \"Art\":\"B\", \"Algebra\":\"c\"}\n",
    "print(dic1)"
   ]
  },
  {
   "cell_type": "code",
   "execution_count": 123,
   "metadata": {},
   "outputs": [
    {
     "name": "stdout",
     "output_type": "stream",
     "text": [
      "dic2['Name']:  Bob\n",
      "dic2['Age']:  19\n"
     ]
    }
   ],
   "source": [
    "dic2 = {\"Name\": \"Bob\", \"Age\": 19, \"Color\": \"White\"}\n",
    "print(\"dic2['Name']: \", dic2['Name'])\n",
    "print(\"dic2['Age']: \", dic2['Age'])"
   ]
  },
  {
   "cell_type": "markdown",
   "metadata": {},
   "source": [
    "### Updating Dictionary"
   ]
  },
  {
   "cell_type": "markdown",
   "metadata": {},
   "source": [
    "Dictionary like lists are mutable, So you can replace its objects with new ones and update it."
   ]
  },
  {
   "cell_type": "code",
   "execution_count": 124,
   "metadata": {},
   "outputs": [
    {
     "name": "stdout",
     "output_type": "stream",
     "text": [
      "{'Name': 'Bob', 'Age': 23, 'Color': 'White', 'Status': 'single'}\n"
     ]
    }
   ],
   "source": [
    "dic2 = {\"Name\": \"Bob\", \"Age\": 19, \"Color\": \"White\"}\n",
    "dic2[\"Age\"] = 23    # update existing entry\n",
    "dic2[\"Status\"] = \"single\"   # Add new entry\n",
    "print(dic2)"
   ]
  },
  {
   "cell_type": "markdown",
   "metadata": {},
   "source": [
    "### Delete Dictionary Elements"
   ]
  },
  {
   "cell_type": "code",
   "execution_count": 125,
   "metadata": {},
   "outputs": [
    {
     "name": "stdout",
     "output_type": "stream",
     "text": [
      "{'Age': 23, 'Color': 'White', 'Status': 'single'}\n"
     ]
    }
   ],
   "source": [
    "del dic2['Name']     # remove one entry from dictionary\n",
    "print (dic2)"
   ]
  },
  {
   "cell_type": "code",
   "execution_count": 126,
   "metadata": {},
   "outputs": [
    {
     "ename": "NameError",
     "evalue": "name 'dic2' is not defined",
     "output_type": "error",
     "traceback": [
      "\u001b[0;31m---------------------------------------------------------------------------\u001b[0m",
      "\u001b[0;31mNameError\u001b[0m                                 Traceback (most recent call last)",
      "Input \u001b[0;32mIn [126]\u001b[0m, in \u001b[0;36m<cell line: 2>\u001b[0;34m()\u001b[0m\n\u001b[1;32m      1\u001b[0m \u001b[38;5;28;01mdel\u001b[39;00m dic2          \u001b[38;5;66;03m#  delete entire dictionary. We don't have this dictionary any more\u001b[39;00m\n\u001b[0;32m----> 2\u001b[0m \u001b[38;5;28mprint\u001b[39m(\u001b[43mdic2\u001b[49m)\n",
      "\u001b[0;31mNameError\u001b[0m: name 'dic2' is not defined"
     ]
    }
   ],
   "source": [
    "del dic2          #  delete entire dictionary. We don't have this dictionary any more\n",
    "print(dic2)"
   ]
  },
  {
   "cell_type": "markdown",
   "metadata": {},
   "source": [
    "This ```error``` shows that since dic2 has been deleted, it can not longer be printed."
   ]
  },
  {
   "cell_type": "markdown",
   "metadata": {},
   "source": [
    "### Methods in Dictionary"
   ]
  },
  {
   "cell_type": "markdown",
   "metadata": {},
   "source": [
    "```dic.copy()``` : Returne a copy of dictionary.\n",
    "\n",
    "```dic.clear()``` : Remove all items of dictionary.\n",
    "\n",
    "```dic.keys()``` : Return list of dictionary' s keys.\n",
    "\n",
    "```dic.values()``` : Return list of dictionary' s values.\n",
    "\n",
    "```dic.items()``` : Return dictionary' s pairs (key, value)\n",
    "\n",
    "```dic.get()``` : Return a value for the given key. If key is not available then returns None."
   ]
  },
  {
   "cell_type": "code",
   "execution_count": 127,
   "metadata": {},
   "outputs": [
    {
     "data": {
      "text/plain": [
       "4"
      ]
     },
     "execution_count": 127,
     "metadata": {},
     "output_type": "execute_result"
    }
   ],
   "source": [
    "seasons = {\"first\":\"spring\", \"second\":\"summer\", \"third\":\"fall\", \"fourth\":\"winter\"}\n",
    "len(seasons)"
   ]
  },
  {
   "cell_type": "code",
   "execution_count": 128,
   "metadata": {},
   "outputs": [
    {
     "data": {
      "text/plain": [
       "{'first': 'spring', 'second': 'summer', 'third': 'fall', 'fourth': 'winter'}"
      ]
     },
     "execution_count": 128,
     "metadata": {},
     "output_type": "execute_result"
    }
   ],
   "source": [
    "seasons_new = seasons.copy()   # create a new dictionary randomly\n",
    "seasons_new"
   ]
  },
  {
   "cell_type": "code",
   "execution_count": 129,
   "metadata": {},
   "outputs": [
    {
     "name": "stdout",
     "output_type": "stream",
     "text": [
      "{}\n"
     ]
    }
   ],
   "source": [
    "seasons_new.clear()\n",
    "print(seasons_new)     "
   ]
  },
  {
   "cell_type": "code",
   "execution_count": 130,
   "metadata": {},
   "outputs": [
    {
     "data": {
      "text/plain": [
       "dict_keys(['first', 'second', 'third', 'fourth'])"
      ]
     },
     "execution_count": 130,
     "metadata": {},
     "output_type": "execute_result"
    }
   ],
   "source": [
    "seasons.keys()"
   ]
  },
  {
   "cell_type": "code",
   "execution_count": 131,
   "metadata": {},
   "outputs": [
    {
     "data": {
      "text/plain": [
       "dict_values(['spring', 'summer', 'fall', 'winter'])"
      ]
     },
     "execution_count": 131,
     "metadata": {},
     "output_type": "execute_result"
    }
   ],
   "source": [
    "seasons.values()"
   ]
  },
  {
   "cell_type": "code",
   "execution_count": 132,
   "metadata": {},
   "outputs": [
    {
     "data": {
      "text/plain": [
       "dict_items([('first', 'spring'), ('second', 'summer'), ('third', 'fall'), ('fourth', 'winter')])"
      ]
     },
     "execution_count": 132,
     "metadata": {},
     "output_type": "execute_result"
    }
   ],
   "source": [
    "seasons.items()"
   ]
  },
  {
   "cell_type": "markdown",
   "metadata": {},
   "source": [
    "# Set"
   ]
  },
  {
   "cell_type": "markdown",
   "metadata": {},
   "source": [
    "Set is a data structure equivalent to sets in mathematics. Also, the definition of set and dictionary are simillar in python, but the order of elements in a set is undefined."
   ]
  },
  {
   "cell_type": "code",
   "execution_count": 134,
   "metadata": {
    "scrolled": true
   },
   "outputs": [
    {
     "ename": "TypeError",
     "evalue": "'set' object is not subscriptable",
     "output_type": "error",
     "traceback": [
      "\u001b[0;31m---------------------------------------------------------------------------\u001b[0m",
      "\u001b[0;31mTypeError\u001b[0m                                 Traceback (most recent call last)",
      "Input \u001b[0;32mIn [134]\u001b[0m, in \u001b[0;36m<cell line: 3>\u001b[0;34m()\u001b[0m\n\u001b[1;32m      1\u001b[0m A \u001b[38;5;241m=\u001b[39m {\u001b[38;5;241m1\u001b[39m,\u001b[38;5;241m3\u001b[39m,\u001b[38;5;241m5\u001b[39m,\u001b[38;5;241m7\u001b[39m}\n\u001b[0;32m----> 3\u001b[0m \u001b[43mA\u001b[49m\u001b[43m[\u001b[49m\u001b[38;5;241;43m2\u001b[39;49m\u001b[43m]\u001b[49m\n",
      "\u001b[0;31mTypeError\u001b[0m: 'set' object is not subscriptable"
     ]
    }
   ],
   "source": [
    "A = {1,3,5,7}\n",
    "\n",
    "A[2]   # Since index is not defined by python or by yourself in a set. \n",
    "       #If we call a specific index, we definitely have an error like this:"
   ]
  },
  {
   "cell_type": "markdown",
   "metadata": {},
   "source": [
    "This ```error``` shows that sets can not be refered by a specific index, elements in a sets have no particular position. If you call a set with an index, you get the error above"
   ]
  },
  {
   "cell_type": "markdown",
   "metadata": {},
   "source": [
    "##### Changing a list to a set using ```set()``` function"
   ]
  },
  {
   "cell_type": "code",
   "execution_count": 135,
   "metadata": {},
   "outputs": [
    {
     "name": "stdout",
     "output_type": "stream",
     "text": [
      "<class 'list'>\n",
      "['a', 'a', 'b', 'c', 'c', 'd']\n"
     ]
    }
   ],
   "source": [
    "alphabet = [\"a\", \"a\", \"b\",\"c\", \"c\",\"d\"] #notice some repeated letters\n",
    "print (type(alphabet))\n",
    "print (alphabet)\n"
   ]
  },
  {
   "cell_type": "code",
   "execution_count": 136,
   "metadata": {},
   "outputs": [
    {
     "name": "stdout",
     "output_type": "stream",
     "text": [
      "<class 'set'>\n",
      "{'d', 'a', 'b', 'c'}\n"
     ]
    }
   ],
   "source": [
    "alphabet_set = set(alphabet) # no repeated letters on a \"set\"\n",
    "print (type(alphabet_set))\n",
    "print (alphabet_set)"
   ]
  },
  {
   "cell_type": "markdown",
   "metadata": {},
   "source": [
    "### Methods in Set"
   ]
  },
  {
   "cell_type": "markdown",
   "metadata": {},
   "source": [
    "```y.copy()``` : Returne a copy of set.\n",
    "\n",
    "```y.clear()``` : Remove all items of set.\n",
    "\n",
    "```y.add(x)``` : Adds element ```x``` to the set ```y```.\n",
    "\n",
    "```y.remove(x)``` : Remove element ```x``` from the set ```y```.\n",
    "\n",
    "```y.update(x)``` : Adds all elements of ```x``` to the set ```y```.\n",
    "\n",
    "```y.issubset(x)``` : Returns ```true``` if ```y``` is a subset of ```x```.\n",
    "\n",
    "```y.issuperset(x)``` : Returns ```true``` if ```x``` is a subset of ```y```.\n",
    "\n",
    "```y.union(x)``` : Returns a set which is the union of two sets.   \n",
    "\n",
    "```y.intersection(x)``` : Returns a set which is the intersection of two sets.   \n",
    "\n",
    "```y.difference(x)``` : Returns the set difference of two sets.\n",
    "\n",
    "```y.symmetric_difference(x)``` : Returns the symmetric difference of two sets. Note: the symmetric difference of two sets, also known as the disjunctive union, is the set of elements which are in either of the sets, but not in their intersection. For example, the symmetric difference of the sets \n",
    "\\{1,2,3\\} and \n",
    "\\{3,4\\} is \n",
    "\\{1,2,4\\}."
   ]
  },
  {
   "cell_type": "code",
   "execution_count": 137,
   "metadata": {},
   "outputs": [
    {
     "name": "stdout",
     "output_type": "stream",
     "text": [
      "{'java', 'R', 'python', 'C'}\n"
     ]
    }
   ],
   "source": [
    "program = {\"C\", \"java\", \"python\", \"R\"}\n",
    "\n",
    "\n",
    "C = program.copy()   # y.copy() function\n",
    "print(C)"
   ]
  },
  {
   "cell_type": "code",
   "execution_count": 138,
   "metadata": {},
   "outputs": [
    {
     "name": "stdout",
     "output_type": "stream",
     "text": [
      "{'python', 'open CV', 'java', 'R', 'C'}\n"
     ]
    }
   ],
   "source": [
    "program.add(\"open CV\")   # y.add(x) function\n",
    "\n",
    "print (program)   "
   ]
  },
  {
   "cell_type": "code",
   "execution_count": 139,
   "metadata": {},
   "outputs": [
    {
     "name": "stdout",
     "output_type": "stream",
     "text": [
      "set()\n"
     ]
    }
   ],
   "source": [
    "C.clear()     # y.clear() function\n",
    "print (C)"
   ]
  },
  {
   "cell_type": "code",
   "execution_count": 140,
   "metadata": {},
   "outputs": [
    {
     "name": "stdout",
     "output_type": "stream",
     "text": [
      "{'python', 'open CV', 'R', 'C'}\n"
     ]
    }
   ],
   "source": [
    "program.remove(\"java\")     # y.remove(x) function\n",
    "print (program)"
   ]
  },
  {
   "cell_type": "code",
   "execution_count": 141,
   "metadata": {},
   "outputs": [
    {
     "name": "stdout",
     "output_type": "stream",
     "text": [
      "{'python', 'open CV', 'v', 'R', 'C', 'j', 'a'}\n"
     ]
    }
   ],
   "source": [
    "program.update(\"java\")   # \"java\" is considered as a set \n",
    "print (program)"
   ]
  },
  {
   "cell_type": "code",
   "execution_count": 142,
   "metadata": {},
   "outputs": [
    {
     "data": {
      "text/plain": [
       "False"
      ]
     },
     "execution_count": 142,
     "metadata": {},
     "output_type": "execute_result"
    }
   ],
   "source": [
    "A = {2,4,6,8}\n",
    "B = {100,300,500}\n",
    "\n",
    "\n",
    "A.issubset(B)"
   ]
  },
  {
   "cell_type": "code",
   "execution_count": 143,
   "metadata": {},
   "outputs": [
    {
     "data": {
      "text/plain": [
       "True"
      ]
     },
     "execution_count": 143,
     "metadata": {},
     "output_type": "execute_result"
    }
   ],
   "source": [
    "A.issubset(A)"
   ]
  },
  {
   "cell_type": "code",
   "execution_count": 144,
   "metadata": {},
   "outputs": [
    {
     "data": {
      "text/plain": [
       "False"
      ]
     },
     "execution_count": 144,
     "metadata": {},
     "output_type": "execute_result"
    }
   ],
   "source": [
    "A.issuperset(B)"
   ]
  },
  {
   "cell_type": "code",
   "execution_count": 145,
   "metadata": {},
   "outputs": [
    {
     "name": "stdout",
     "output_type": "stream",
     "text": [
      "{2, 4, 100, 6, 500, 8, 300}\n"
     ]
    }
   ],
   "source": [
    "C = A.union(B)\n",
    "print (C)"
   ]
  },
  {
   "cell_type": "code",
   "execution_count": 146,
   "metadata": {},
   "outputs": [
    {
     "name": "stdout",
     "output_type": "stream",
     "text": [
      "The intersection of A and C is:  {8, 2, 4, 6}\n"
     ]
    }
   ],
   "source": [
    "D = A.intersection(C)\n",
    "print (\"The intersection of A and C is: \", D )"
   ]
  },
  {
   "cell_type": "code",
   "execution_count": 147,
   "metadata": {},
   "outputs": [
    {
     "name": "stdout",
     "output_type": "stream",
     "text": [
      "{100, 500, 300}\n"
     ]
    }
   ],
   "source": [
    "E = B.difference(D)\n",
    "print (E)"
   ]
  },
  {
   "cell_type": "code",
   "execution_count": 148,
   "metadata": {},
   "outputs": [
    {
     "name": "stdout",
     "output_type": "stream",
     "text": [
      "set()\n"
     ]
    }
   ],
   "source": [
    "F = A.symmetric_difference(D) \n",
    "print (F)"
   ]
  },
  {
   "cell_type": "code",
   "execution_count": null,
   "metadata": {},
   "outputs": [],
   "source": []
  },
  {
   "cell_type": "markdown",
   "metadata": {},
   "source": [
    "# Lists have math limitations\n",
    "Lits are easy to use, good for everything except numbers and calculations"
   ]
  },
  {
   "cell_type": "code",
   "execution_count": 149,
   "metadata": {},
   "outputs": [
    {
     "name": "stdout",
     "output_type": "stream",
     "text": [
      "[100, 200, 280]\n",
      "100\n"
     ]
    }
   ],
   "source": [
    "gains = [100, 200, 280]\n",
    "print(gains)\n",
    "print(gains[0])"
   ]
  },
  {
   "cell_type": "code",
   "execution_count": 150,
   "metadata": {},
   "outputs": [
    {
     "data": {
      "text/plain": [
       "33.333333333333336"
      ]
     },
     "execution_count": 150,
     "metadata": {},
     "output_type": "execute_result"
    }
   ],
   "source": [
    "gains[0]/3.0"
   ]
  },
  {
   "cell_type": "code",
   "execution_count": 151,
   "metadata": {},
   "outputs": [
    {
     "ename": "TypeError",
     "evalue": "unsupported operand type(s) for /: 'list' and 'float'",
     "output_type": "error",
     "traceback": [
      "\u001b[0;31m---------------------------------------------------------------------------\u001b[0m",
      "\u001b[0;31mTypeError\u001b[0m                                 Traceback (most recent call last)",
      "Input \u001b[0;32mIn [151]\u001b[0m, in \u001b[0;36m<cell line: 1>\u001b[0;34m()\u001b[0m\n\u001b[0;32m----> 1\u001b[0m \u001b[43mgains\u001b[49m\u001b[38;5;241;43m/\u001b[39;49m\u001b[38;5;241;43m3.0\u001b[39;49m\n",
      "\u001b[0;31mTypeError\u001b[0m: unsupported operand type(s) for /: 'list' and 'float'"
     ]
    }
   ],
   "source": [
    "\n",
    "gains/3.0 #error! entire list can not be divided even if they are lists of number, that why we need....Arrays"
   ]
  },
  {
   "cell_type": "markdown",
   "metadata": {},
   "source": [
    "This ```error``` shows that a division operator is not defined for lists. We need a different kind of structure for this..."
   ]
  },
  {
   "cell_type": "markdown",
   "metadata": {},
   "source": [
    "# Arrays\n",
    "Use arrays for numbers. To use arrays, you need to \"import\" the numerical package Numpy. Arrays are the data structure we will use for vectors, matrices and linear algebra manipulation in our Numpy lectures. See example below."
   ]
  },
  {
   "cell_type": "code",
   "execution_count": 152,
   "metadata": {},
   "outputs": [
    {
     "name": "stdout",
     "output_type": "stream",
     "text": [
      "[100 200 280]\n",
      "[33.33333333 66.66666667 93.33333333]\n"
     ]
    }
   ],
   "source": [
    "import numpy as np\n",
    "\n",
    "gains2 = np.array([100, 200, 280])\n",
    "print(gains2)\n",
    "print(gains2/3.0)\n"
   ]
  },
  {
   "attachments": {},
   "cell_type": "markdown",
   "metadata": {},
   "source": [
    "# Range()\n",
    "Range is a function that outputs a list of numbers specified by its parameters:\n",
    "- Range ( Starting value {default=0} ,  End value,  Increment {default=1} )<br>\n",
    "\n",
    "Some examples:"
   ]
  },
  {
   "cell_type": "code",
   "execution_count": 153,
   "metadata": {},
   "outputs": [
    {
     "data": {
      "text/plain": [
       "range(2, 5)"
      ]
     },
     "execution_count": 153,
     "metadata": {},
     "output_type": "execute_result"
    }
   ],
   "source": [
    "x = range(2,5)\n",
    "x"
   ]
  },
  {
   "cell_type": "markdown",
   "metadata": {},
   "source": [
    "To visualize the sequence of numbers we can use the type casting function ```list()``` to convert our output from range type to list type. Alternatively we can print the elemts one at a time using a loop:"
   ]
  },
  {
   "cell_type": "code",
   "execution_count": 154,
   "metadata": {},
   "outputs": [
    {
     "data": {
      "text/plain": [
       "[2, 3, 4]"
      ]
     },
     "execution_count": 154,
     "metadata": {},
     "output_type": "execute_result"
    }
   ],
   "source": [
    "list(x)"
   ]
  },
  {
   "cell_type": "code",
   "execution_count": 155,
   "metadata": {},
   "outputs": [
    {
     "name": "stdout",
     "output_type": "stream",
     "text": [
      "2\n",
      "3\n",
      "4\n"
     ]
    }
   ],
   "source": [
    "for i in x:\n",
    "  print(i)"
   ]
  },
  {
   "cell_type": "markdown",
   "metadata": {},
   "source": [
    "Another example, now using increment = 5:"
   ]
  },
  {
   "cell_type": "code",
   "execution_count": 156,
   "metadata": {},
   "outputs": [
    {
     "data": {
      "text/plain": [
       "[0, 5, 10, 15, 20, 25, 30, 35, 40, 45]"
      ]
     },
     "execution_count": 156,
     "metadata": {},
     "output_type": "execute_result"
    }
   ],
   "source": [
    "list(range(0,50,5))"
   ]
  },
  {
   "cell_type": "markdown",
   "metadata": {},
   "source": [
    "# Files\n",
    "In Python we can store data to and retrive data from files. Here we will only use a simple text file to illustrate the process. Later we will also use CVS and JSON files to store and retrieve data. \n",
    "\n",
    "## Write to a file\n",
    "1. Open a file in write mode (‘w’) using the built-in open function. Replace 'filename.txt' with the desired file name and extension."
   ]
  },
  {
   "cell_type": "code",
   "execution_count": 157,
   "metadata": {},
   "outputs": [],
   "source": [
    "file = open('filename.txt', 'w')"
   ]
  },
  {
   "cell_type": "markdown",
   "metadata": {},
   "source": [
    "2. Write data to the file using the write method. You can write a single string or multiple strings separated by newline characters (\\n)."
   ]
  },
  {
   "cell_type": "code",
   "execution_count": 158,
   "metadata": {},
   "outputs": [
    {
     "data": {
      "text/plain": [
       "36"
      ]
     },
     "execution_count": 158,
     "metadata": {},
     "output_type": "execute_result"
    }
   ],
   "source": [
    "file.write('Your data here:\\n')\n",
    "file.write('The tree that never had to fight\\n')\n",
    "file.write('For sun and sky and air and light,\\n')\n",
    "file.write('But stood out in the open plain\\n')\n",
    "file.write('And always got its share of rain,\\n')\n",
    "file.write('Never became a forest king\\n')\n",
    "file.write('But lived and died a scrubby thing.\\n')"
   ]
  },
  {
   "cell_type": "markdown",
   "metadata": {},
   "source": [
    "3. Close the file using the close method:"
   ]
  },
  {
   "cell_type": "code",
   "execution_count": 159,
   "metadata": {},
   "outputs": [],
   "source": [
    "file.close()"
   ]
  },
  {
   "cell_type": "markdown",
   "metadata": {},
   "source": [
    "## Read from a file\n",
    "\n",
    "1. Open the file in read-only mode ('r')"
   ]
  },
  {
   "cell_type": "code",
   "execution_count": 160,
   "metadata": {},
   "outputs": [],
   "source": [
    "file1 = open(\"filename.txt\", \"r\")"
   ]
  },
  {
   "cell_type": "markdown",
   "metadata": {},
   "source": [
    "2. Read the file content on variable \"file_content\""
   ]
  },
  {
   "cell_type": "code",
   "execution_count": 161,
   "metadata": {},
   "outputs": [],
   "source": [
    "file_content = file1.read()"
   ]
  },
  {
   "cell_type": "markdown",
   "metadata": {},
   "source": [
    "3. Close the file"
   ]
  },
  {
   "cell_type": "code",
   "execution_count": 162,
   "metadata": {},
   "outputs": [],
   "source": [
    "file1.close()"
   ]
  },
  {
   "cell_type": "markdown",
   "metadata": {},
   "source": [
    "Printing what we just read from the file"
   ]
  },
  {
   "cell_type": "code",
   "execution_count": 163,
   "metadata": {},
   "outputs": [
    {
     "name": "stdout",
     "output_type": "stream",
     "text": [
      "Your data here:\n",
      "The tree that never had to fight\n",
      "For sun and sky and air and light,\n",
      "But stood out in the open plain\n",
      "And always got its share of rain,\n",
      "Never became a forest king\n",
      "But lived and died a scrubby thing.\n",
      "\n"
     ]
    }
   ],
   "source": [
    "print(file_content)"
   ]
  },
  {
   "cell_type": "markdown",
   "metadata": {},
   "source": [
    "# Exercises"
   ]
  },
  {
   "cell_type": "markdown",
   "metadata": {},
   "source": [
    "__1.__ Create a list containing the names of the Super Bowl winning teams for each year over the last 5 years. Name the list \"SuperBowl_5\". Are names repeated in your list? Are repeated names allowed in Python lists? "
   ]
  },
  {
   "cell_type": "markdown",
   "metadata": {},
   "source": [
    "__2.__ Repeat the exercise above but use a \"set\" instead of a list. Can you have repeated elements on a Python set?"
   ]
  },
  {
   "cell_type": "markdown",
   "metadata": {},
   "source": [
    "__3.__ Create a list with the names of all months of the year. Call this list \"months\". Print the third month of your list. Sort your \"months\" list alphabeticaly. _Hint:_ use function <code>months.sort()</code>. Print again the third month of your list. Has it changed or not? Why or why not?"
   ]
  },
  {
   "cell_type": "markdown",
   "metadata": {},
   "source": [
    "__4.__ Create a list with the first 10 prime numbers. Call this list \"prime10\". Extract from \"prime10\" the first five (lower) prime numbers and store the result into another list called \"prime5\". Print both lists."
   ]
  },
  {
   "cell_type": "markdown",
   "metadata": {},
   "source": [
    "__5.__ Print each number in \"prime10\" followed by a comma, a space and then the same number but multiplied by 19. Using mathematics, we can ask this same question in an alternative way. Please calculate:\n",
    "\\begin{equation*}\n",
    "(x, 19x) \\forall x \\in {prime10}\n",
    "\\end{equation*}\n",
    "__Note:__ \"$\\forall x \\in$\" means \"_for all x element of_\""
   ]
  },
  {
   "cell_type": "markdown",
   "metadata": {},
   "source": [
    "__6.__ Print each number in \"prime5\" followed by a comma, a space and then the same number but raised to the fifth power. Using mathematics, we can ask this same question in an alternative way. Please calculate:\n",
    "\\begin{equation*}\n",
    "(x, x^5) \\forall x \\in {prime5}\n",
    "\\end{equation*}"
   ]
  },
  {
   "cell_type": "markdown",
   "metadata": {},
   "source": [
    "# Homework (not graded)\n",
    "Please complete all the exercises on this Notebook. Some exercises will be solved in class, but you should complete solving all the remaining exersices at the end of each Notebook on every class. If you can not solve an exercise, please contact the class teaching assistant for help inmmediately."
   ]
  },
  {
   "cell_type": "markdown",
   "metadata": {},
   "source": [
    "# References\n",
    "- Conditional statements: https://www.w3schools.com/python/python_conditions.asp\n",
    "- Sequences in Python: https://en.wikibooks.org/wiki/Python_Programming/Sequences\n"
   ]
  },
  {
   "cell_type": "markdown",
   "metadata": {},
   "source": [
    "_Last updated on 10.13.2022 3:46pm<br>\n",
    "(C) 2022 Complex Adaptive Systems Laboratory all rights reserved._"
   ]
  }
 ],
 "metadata": {
  "kernelspec": {
   "display_name": "Python 3 (ipykernel)",
   "language": "python",
   "name": "python3"
  },
  "language_info": {
   "codemirror_mode": {
    "name": "ipython",
    "version": 3
   },
   "file_extension": ".py",
   "mimetype": "text/x-python",
   "name": "python",
   "nbconvert_exporter": "python",
   "pygments_lexer": "ipython3",
   "version": "3.9.12"
  }
 },
 "nbformat": 4,
 "nbformat_minor": 2
}
