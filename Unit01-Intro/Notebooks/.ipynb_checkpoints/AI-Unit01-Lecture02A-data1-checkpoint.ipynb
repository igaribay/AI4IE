{
 "cells": [
  {
   "cell_type": "markdown",
   "metadata": {},
   "source": [
    "# Unit 1 Lecture 2A -  Data Structures in Python\n",
    "\n",
    "CAI 4823: Artificial Intelligence for Industrial Engineers<br>\n",
    "University of Central Florida\n",
    "Dr. Ivan Garibay, Ramya Akula, Mostafa Saeidi.<br> "
   ]
  },
  {
   "cell_type": "markdown",
   "metadata": {},
   "source": [
    "# Notebook Learning Objectives\n",
    "After studying this notebook students should be able to:\n",
    "- Undestand variable assignments vs. equations, and calling functions\n",
    "- Undestand use and manipulate primitive data types: \n",
    "    - Integers, \n",
    "    - Floats, \n",
    "    - Strings, \n",
    "    - Boolean\n",
    "- Understand calling functions, funtion \"type\", converting values between types\n",
    "- Understand how to reference a variable\n",
    "\n"
   ]
  },
  {
   "cell_type": "markdown",
   "metadata": {},
   "source": [
    "# Computer Programming\n",
    "It is simply to tell computers what to do using simple but precise instructions. A programming language (like Python) is the set of all primitive instuctions avalable to you to tell the computer what to do. A combination of these primitive instructions is called a \"computer program\"."
   ]
  },
  {
   "cell_type": "markdown",
   "metadata": {},
   "source": [
    "# Python is Interpreted\n",
    "Different from other popular programming languages such as C and C++, Python is interpreted. What this means for us is that Python commands can be executed inmmediately after typing them since there is no need of compiling the code before execution.\n"
   ]
  },
  {
   "cell_type": "code",
   "execution_count": 30,
   "metadata": {},
   "outputs": [
    {
     "data": {
      "text/plain": [
       "4"
      ]
     },
     "execution_count": 30,
     "metadata": {},
     "output_type": "execute_result"
    }
   ],
   "source": [
    "2+2"
   ]
  },
  {
   "cell_type": "code",
   "execution_count": 31,
   "metadata": {},
   "outputs": [
    {
     "data": {
      "text/plain": [
       "-6"
      ]
     },
     "execution_count": 31,
     "metadata": {},
     "output_type": "execute_result"
    }
   ],
   "source": [
    "2-8"
   ]
  },
  {
   "cell_type": "code",
   "execution_count": 32,
   "metadata": {},
   "outputs": [],
   "source": [
    "x=5\n",
    "y='One small step for man, '\n",
    "a='one giant leap for mankind'\n",
    "z=6.0"
   ]
  },
  {
   "cell_type": "code",
   "execution_count": 33,
   "metadata": {
    "scrolled": true
   },
   "outputs": [
    {
     "data": {
      "text/plain": [
       "11.0"
      ]
     },
     "execution_count": 33,
     "metadata": {},
     "output_type": "execute_result"
    }
   ],
   "source": [
    "x+z"
   ]
  },
  {
   "cell_type": "code",
   "execution_count": 34,
   "metadata": {
    "scrolled": true
   },
   "outputs": [
    {
     "data": {
      "text/plain": [
       "'One small step for man, one giant leap for mankind'"
      ]
     },
     "execution_count": 34,
     "metadata": {},
     "output_type": "execute_result"
    }
   ],
   "source": [
    "y+a"
   ]
  },
  {
   "cell_type": "markdown",
   "metadata": {},
   "source": [
    "# Assigments versus equations\n",
    "In Python when we write <code>x=3</code> is means something different than in the mathematical equation $x=3$\n",
    "\n",
    "In mathemathics once we define the equation we can assume that x=3 will keep it value for the entire computation or for the entire mathematical model. In programming  <code>x=3</code> just means that 3 is the current value of <code>x</code> but it could be changed at will with the next instruction. We call this \"binding\" a variable to a value."
   ]
  },
  {
   "cell_type": "code",
   "execution_count": 35,
   "metadata": {},
   "outputs": [
    {
     "name": "stdout",
     "output_type": "stream",
     "text": [
      "hello\n",
      "The value of x is 3\n",
      "The value of x is Three\n",
      "The value of x is 3.14159\n"
     ]
    }
   ],
   "source": [
    "x=3\n",
    "print (\"hello\")\n",
    "print (\"The value of x is\", x)\n",
    "x=\"Three\"\n",
    "print (\"The value of x is\", x)\n",
    "x=3.14159\n",
    "print (\"The value of x is\", x)\n"
   ]
  },
  {
   "cell_type": "markdown",
   "metadata": {},
   "source": [
    "# Functions\n",
    "Functions in Python can be called simply by typing the function name and putting their arguments in parenthesis. Some examples follow, for a complete list of Python Build-in functions see: https://www.w3schools.com/python/python_ref_functions.asp"
   ]
  },
  {
   "cell_type": "code",
   "execution_count": 36,
   "metadata": {},
   "outputs": [
    {
     "data": {
      "text/plain": [
       "5"
      ]
     },
     "execution_count": 36,
     "metadata": {},
     "output_type": "execute_result"
    }
   ],
   "source": [
    "abs(-5)"
   ]
  },
  {
   "cell_type": "code",
   "execution_count": 37,
   "metadata": {},
   "outputs": [
    {
     "data": {
      "text/plain": [
       "100"
      ]
     },
     "execution_count": 37,
     "metadata": {},
     "output_type": "execute_result"
    }
   ],
   "source": [
    "round(99.99)"
   ]
  },
  {
   "cell_type": "code",
   "execution_count": 38,
   "metadata": {},
   "outputs": [
    {
     "data": {
      "text/plain": [
       "float"
      ]
     },
     "execution_count": 38,
     "metadata": {},
     "output_type": "execute_result"
    }
   ],
   "source": [
    "x=3.14159\n",
    "type(x)"
   ]
  },
  {
   "cell_type": "code",
   "execution_count": 39,
   "metadata": {},
   "outputs": [
    {
     "name": "stdout",
     "output_type": "stream",
     "text": [
      "\n"
     ]
    },
    {
     "data": {
      "text/plain": [
       "''"
      ]
     },
     "execution_count": 39,
     "metadata": {},
     "output_type": "execute_result"
    }
   ],
   "source": [
    "input()"
   ]
  },
  {
   "cell_type": "markdown",
   "metadata": {},
   "source": [
    "## The ```Print()``` function\n",
    "It is a very usefull function! It allows us to monitor what is happening with our code by printing any variable we desire. It is a good practice to insert print statements frequently to monitor our code. Also, we can print variables after a code section as checkpoints. Here some examples:"
   ]
  },
  {
   "cell_type": "code",
   "execution_count": 40,
   "metadata": {},
   "outputs": [
    {
     "name": "stdout",
     "output_type": "stream",
     "text": [
      "Hello World\n",
      "one plus one is =  2\n",
      "Olivia is 21 years old\n"
     ]
    }
   ],
   "source": [
    "print(\"Hello World\")\n",
    "print(\"one plus one is = \", 1+1)\n",
    "name = \"Olivia\"\n",
    "age = 21\n",
    "print(name, \"is\", age, \"years old\")"
   ]
  },
  {
   "cell_type": "markdown",
   "metadata": {},
   "source": [
    "# Primitive data types"
   ]
  },
  {
   "cell_type": "markdown",
   "metadata": {},
   "source": [
    "Data Structures are simply how computers store information. Below are listed the most primitive or basic data structures. These structures are the building blocks for data storage and manipulation and they contain pure, simple values of data. Python has four primitive variable types:\n",
    "\n",
    "- Integers (simple counting numbers)\n",
    "- Float (number using decimal points)\n",
    "- Strings (strings of letter or characters)\n",
    "- Boolean (boolen number can only be '0' or '1', TRUE or FALSE)"
   ]
  },
  {
   "cell_type": "markdown",
   "metadata": {},
   "source": [
    "## Integers\n",
    "\n",
    "Integers are whole numbers, either positive, negative, or zero, without a fractional component. A number without a decimal point (no fractional part) is consider an integer in python.\n",
    "- Define integers n, m\n",
    "- Assign numerical values to n, m\n",
    "- Execute basic aritmetic operation on n,m"
   ]
  },
  {
   "cell_type": "code",
   "execution_count": 41,
   "metadata": {},
   "outputs": [
    {
     "data": {
      "text/plain": [
       "6"
      ]
     },
     "execution_count": 41,
     "metadata": {},
     "output_type": "execute_result"
    }
   ],
   "source": [
    "n = 4  \n",
    "m = 2\n",
    "\n",
    "n+m"
   ]
  },
  {
   "cell_type": "markdown",
   "metadata": {},
   "source": [
    "## Floats\n",
    "- Define floats x, y\n",
    "- Assign numerical values to x, y\n",
    "- Execute basic aritmetic operation on x,y\n",
    "- How to prompt the \"user\" to setup the x and y values?\n",
    "- How to change the numerical values assigned to x,y?"
   ]
  },
  {
   "cell_type": "code",
   "execution_count": 42,
   "metadata": {},
   "outputs": [
    {
     "name": "stdout",
     "output_type": "stream",
     "text": [
      "Using + we obtain: 6.0\n",
      "Using * we obtain: 8.0\n",
      "Using / we obtain: 2.0\n",
      "Using % we obtain: 0.0\n",
      "Using abs() we obtain: 4.0\n",
      "Using ** we obtain: 16.0\n"
     ]
    }
   ],
   "source": [
    "x = 4.0\n",
    "y = 2.0\n",
    "\n",
    "print (\"Using + we obtain:\", x + y)\n",
    "print (\"Using * we obtain:\", x * y)      # returns multiplication\n",
    "print (\"Using / we obtain:\", x / y)\n",
    "print (\"Using % we obtain:\", x % y)      # Returns the remainder\n",
    "print (\"Using abs() we obtain:\", abs(x))     # Absolute value\n",
    "print (\"Using ** we obtain:\", x ** y)     # x to the power y "
   ]
  },
  {
   "cell_type": "markdown",
   "metadata": {},
   "source": [
    "## Strings"
   ]
  },
  {
   "cell_type": "code",
   "execution_count": 43,
   "metadata": {},
   "outputs": [
    {
     "data": {
      "text/plain": [
       "'Industrial Engineering & Management Systems'"
      ]
     },
     "execution_count": 43,
     "metadata": {},
     "output_type": "execute_result"
    }
   ],
   "source": [
    "# String\n",
    "\n",
    "x = \"Industrial Engineering\"\n",
    "y = \"Management Systems\"\n",
    "\n",
    "x + \" & \" + y\n"
   ]
  },
  {
   "cell_type": "markdown",
   "metadata": {},
   "source": [
    "Here are some other basic operations that you can perform with strings; For example, you can use * to repeat a string a certain number of times:"
   ]
  },
  {
   "cell_type": "code",
   "execution_count": 44,
   "metadata": {},
   "outputs": [
    {
     "data": {
      "text/plain": [
       "'Industrial EngineeringIndustrial EngineeringIndustrial Engineering'"
      ]
     },
     "execution_count": 44,
     "metadata": {},
     "output_type": "execute_result"
    }
   ],
   "source": [
    "# repeat\n",
    "\n",
    "x * 3"
   ]
  },
  {
   "cell_type": "markdown",
   "metadata": {},
   "source": [
    "You can also \"slice\" strings, which means that you select parts of strings:"
   ]
  },
  {
   "cell_type": "code",
   "execution_count": 45,
   "metadata": {},
   "outputs": [
    {
     "name": "stdout",
     "output_type": "stream",
     "text": [
      "dustrial Engineering\n",
      "Ma\n"
     ]
    }
   ],
   "source": [
    "# Range slicing\n",
    "\n",
    "stringSegment1 = x[2:]\n",
    "\n",
    "print(stringSegment1)\n",
    "\n",
    "\n",
    "# Slicing\n",
    "\n",
    "stringSegment2 = y[0] + y[1]\n",
    "\n",
    "print(stringSegment2)"
   ]
  },
  {
   "cell_type": "markdown",
   "metadata": {},
   "source": [
    "Note that strings can also be alpha-numeric characters, but that the + operation still is used to concatenate strings."
   ]
  },
  {
   "cell_type": "code",
   "execution_count": 46,
   "metadata": {},
   "outputs": [
    {
     "data": {
      "text/plain": [
       "'43'"
      ]
     },
     "execution_count": 46,
     "metadata": {},
     "output_type": "execute_result"
    }
   ],
   "source": [
    "x = \"4\"\n",
    "y = \"3\"\n",
    "\n",
    "x + y"
   ]
  },
  {
   "cell_type": "markdown",
   "metadata": {},
   "source": [
    "Some string operations: calculating string length <code>len()</code>, string in upper caps<code>upper()</code>, string in lower caps <code>lower()</code>"
   ]
  },
  {
   "cell_type": "code",
   "execution_count": 47,
   "metadata": {},
   "outputs": [
    {
     "name": "stdout",
     "output_type": "stream",
     "text": [
      "29\n",
      "UNIVERSITY OF CENTRAL FLORIDA\n",
      "university of central florida\n"
     ]
    }
   ],
   "source": [
    "a = \"University of Central Florida\"\n",
    "a_lenght = len(a)\n",
    "a_uppercased = a.upper()\n",
    "a_lowercased = a.lower()\n",
    "\n",
    "print (a_lenght)\n",
    "print (a_uppercased)\n",
    "print (a_lowercased)"
   ]
  },
  {
   "cell_type": "markdown",
   "metadata": {},
   "source": [
    "## Boolean"
   ]
  },
  {
   "cell_type": "code",
   "execution_count": 48,
   "metadata": {},
   "outputs": [
    {
     "data": {
      "text/plain": [
       "False"
      ]
     },
     "execution_count": 48,
     "metadata": {},
     "output_type": "execute_result"
    }
   ],
   "source": [
    "# Boolean\n",
    "\n",
    "x = 4\n",
    "\n",
    "y = 2\n",
    "\n",
    "x == y\n",
    "\n",
    "#x > y"
   ]
  },
  {
   "cell_type": "code",
   "execution_count": 49,
   "metadata": {},
   "outputs": [
    {
     "name": "stdout",
     "output_type": "stream",
     "text": [
      "Not Engineering\n"
     ]
    }
   ],
   "source": [
    "x = 4\n",
    "y = 6\n",
    "z = (x == y)      # Comparison expression \n",
    "\n",
    "if z:             # Conditional on truth/false value of \"z\n",
    "    print (\"Engineering\")\n",
    "else: print (\"Not Engineering\")"
   ]
  },
  {
   "cell_type": "code",
   "execution_count": 50,
   "metadata": {},
   "outputs": [
    {
     "name": "stdout",
     "output_type": "stream",
     "text": [
      "Engineering\n"
     ]
    }
   ],
   "source": [
    "z = True         # direct assigment to \"true\"\n",
    "\n",
    "if z:             # Conditional on truth/false value of \"z\n",
    "    print (\"Engineering\")\n",
    "else: print (\"Not Engineering\")"
   ]
  },
  {
   "cell_type": "markdown",
   "metadata": {},
   "source": [
    "# Types in Python\n",
    "\n",
    "## Types of data\n",
    "\n",
    "Python determines the type of a variable based on the assigned value (dynamic typing at runtime). For example, in the code below, the variable \"a\" is assined the value of \"4.0\". Based on this information Python assign the type \"float\" to the variable \"a\". Python would not change this type anymore unless we explicitly tell it to do so (Python is strongly typed).\n",
    "\n",
    "To check the type of an object in Python, use the built-in type() function, just like in the lines of code below:"
   ]
  },
  {
   "cell_type": "code",
   "execution_count": 51,
   "metadata": {},
   "outputs": [
    {
     "data": {
      "text/plain": [
       "float"
      ]
     },
     "execution_count": 51,
     "metadata": {},
     "output_type": "execute_result"
    }
   ],
   "source": [
    "a = 4.0\n",
    "b = \"Class\"\n",
    "c = 12\n",
    "\n",
    "type(a) "
   ]
  },
  {
   "cell_type": "code",
   "execution_count": 52,
   "metadata": {},
   "outputs": [
    {
     "data": {
      "text/plain": [
       "str"
      ]
     },
     "execution_count": 52,
     "metadata": {},
     "output_type": "execute_result"
    }
   ],
   "source": [
    "type(b)"
   ]
  },
  {
   "cell_type": "code",
   "execution_count": 53,
   "metadata": {},
   "outputs": [
    {
     "data": {
      "text/plain": [
       "int"
      ]
     },
     "execution_count": 53,
     "metadata": {},
     "output_type": "execute_result"
    }
   ],
   "source": [
    "type(c)"
   ]
  },
  {
   "cell_type": "markdown",
   "metadata": {},
   "source": [
    "## Functions have a type\n",
    "\n",
    "Python is a strongly typed language. Functions are selective on what types of inputs they can take. See the examples below. Why the execution produce errors in some cases and not in others?"
   ]
  },
  {
   "cell_type": "code",
   "execution_count": 54,
   "metadata": {},
   "outputs": [],
   "source": [
    "x = 10\n",
    "y = \"song\""
   ]
  },
  {
   "cell_type": "code",
   "execution_count": 55,
   "metadata": {},
   "outputs": [
    {
     "data": {
      "text/plain": [
       "100"
      ]
     },
     "execution_count": 55,
     "metadata": {},
     "output_type": "execute_result"
    }
   ],
   "source": [
    "pow(x,2)"
   ]
  },
  {
   "cell_type": "code",
   "execution_count": 56,
   "metadata": {},
   "outputs": [
    {
     "ename": "TypeError",
     "evalue": "unsupported operand type(s) for ** or pow(): 'str' and 'int'",
     "output_type": "error",
     "traceback": [
      "\u001b[0;31m---------------------------------------------------------------------------\u001b[0m",
      "\u001b[0;31mTypeError\u001b[0m                                 Traceback (most recent call last)",
      "Input \u001b[0;32mIn [56]\u001b[0m, in \u001b[0;36m<cell line: 1>\u001b[0;34m()\u001b[0m\n\u001b[0;32m----> 1\u001b[0m \u001b[38;5;28;43mpow\u001b[39;49m\u001b[43m(\u001b[49m\u001b[43my\u001b[49m\u001b[43m,\u001b[49m\u001b[38;5;241;43m2\u001b[39;49m\u001b[43m)\u001b[49m\n",
      "\u001b[0;31mTypeError\u001b[0m: unsupported operand type(s) for ** or pow(): 'str' and 'int'"
     ]
    }
   ],
   "source": [
    "pow(y,2)"
   ]
  },
  {
   "cell_type": "markdown",
   "metadata": {},
   "source": [
    "## Functions only take defined data\n",
    "\n",
    "Functions need to know before hand what data are they receiving. This means that we can not provide undefined variables to a function. See example below. How can we fix this error?"
   ]
  },
  {
   "cell_type": "code",
   "execution_count": 57,
   "metadata": {},
   "outputs": [
    {
     "ename": "TypeError",
     "evalue": "abs() takes exactly one argument (2 given)",
     "output_type": "error",
     "traceback": [
      "\u001b[0;31m---------------------------------------------------------------------------\u001b[0m",
      "\u001b[0;31mTypeError\u001b[0m                                 Traceback (most recent call last)",
      "Input \u001b[0;32mIn [57]\u001b[0m, in \u001b[0;36m<cell line: 1>\u001b[0;34m()\u001b[0m\n\u001b[0;32m----> 1\u001b[0m \u001b[38;5;28;43mabs\u001b[39;49m\u001b[43m(\u001b[49m\u001b[43mz\u001b[49m\u001b[43m,\u001b[49m\u001b[38;5;241;43m2\u001b[39;49m\u001b[43m)\u001b[49m\n",
      "\u001b[0;31mTypeError\u001b[0m: abs() takes exactly one argument (2 given)"
     ]
    }
   ],
   "source": [
    "abs(z,2)"
   ]
  },
  {
   "cell_type": "markdown",
   "metadata": {},
   "source": [
    "## Implicit Type Conversion:\n",
    "\n",
    "Python automatically converts one data type to another without user involvement in certain situations."
   ]
  },
  {
   "cell_type": "code",
   "execution_count": 58,
   "metadata": {},
   "outputs": [
    {
     "name": "stdout",
     "output_type": "stream",
     "text": [
      "Value: 124.23\n",
      "Data Type: <class 'float'>\n"
     ]
    }
   ],
   "source": [
    "# Implicit Type Conversion\n",
    "x = 123\n",
    "y = 1.23\n",
    "z = x + y\n",
    "print(\"Value:\", z)  # Output: 124.23\n",
    "print(\"Data Type:\", type(z))  # Output: <class 'float'>"
   ]
  },
  {
   "cell_type": "markdown",
   "metadata": {},
   "source": [
    "## Explicit Type Conversion (Type Casting):\n",
    "\n",
    "Use built-in functions like ```int()```, ```float()```, ```str()```, etc. to explicitly convert an object from one data type to another."
   ]
  },
  {
   "cell_type": "code",
   "execution_count": 59,
   "metadata": {},
   "outputs": [
    {
     "name": "stdout",
     "output_type": "stream",
     "text": [
      "Data Type: <class 'int'>\n"
     ]
    }
   ],
   "source": [
    "# Explicit Type Conversion (Type Casting)\n",
    "num_string = \"35\"\n",
    "num_integer = int(num_string)\n",
    "print(\"Data Type:\", type(num_integer))  # Output: <class 'int'>"
   ]
  },
  {
   "cell_type": "markdown",
   "metadata": {},
   "source": [
    "# Referencing variables\n",
    "- When we assign (bind) a variable to a value in Python we create a __reference__.\n",
    "\n",
    "- A reference is different from the actual value that it refers to.\n",
    "\n",
    "- Variables are names for references.\n",
    "\n",
    "Below we have variables <code>colors</code> and <code>colors2</code> both assigned to the same value <code>['red', 'blue', 'green'] </code>"
   ]
  },
  {
   "cell_type": "code",
   "execution_count": 60,
   "metadata": {},
   "outputs": [
    {
     "name": "stdout",
     "output_type": "stream",
     "text": [
      "['red', 'blue', 'green']\n",
      "['red', 'blue', 'green']\n"
     ]
    }
   ],
   "source": [
    "colors = ['red', 'blue', 'green']\n",
    "colors2 = colors\n",
    "print (colors)\n",
    "print (colors2)"
   ]
  },
  {
   "cell_type": "markdown",
   "metadata": {},
   "source": [
    "Now lets change values on variable <code>colors</code> and see what happens to <code>colors2</code>:"
   ]
  },
  {
   "cell_type": "code",
   "execution_count": 61,
   "metadata": {},
   "outputs": [
    {
     "name": "stdout",
     "output_type": "stream",
     "text": [
      "['red', 'blue', 'green', 'yellow']\n",
      "['red', 'blue', 'green', 'yellow']\n"
     ]
    }
   ],
   "source": [
    "colors.append(\"yellow\")\n",
    "print (colors)\n",
    "print (colors2)"
   ]
  },
  {
   "cell_type": "markdown",
   "metadata": {},
   "source": [
    "# Exercises"
   ]
  },
  {
   "cell_type": "markdown",
   "metadata": {},
   "source": [
    "__1.__ Calculate the following mathematical expression using Phyton: \n",
    "$6x^5+x^2$ , for a value of $x=4$\n"
   ]
  },
  {
   "cell_type": "markdown",
   "metadata": {},
   "source": [
    "__2.__ Calculate the expression in above exercise but for x=2500"
   ]
  },
  {
   "cell_type": "markdown",
   "metadata": {},
   "source": [
    "__3.__ Calculate the following mathematical expression using Phyton: \n",
    "$\\dfrac{6x^5}{y}+x^2+\\sqrt{xy}$ , for a value of $x=4$ and $y=46$"
   ]
  },
  {
   "cell_type": "markdown",
   "metadata": {},
   "source": [
    "__4.__ Create a variable string1 with value \"Desicion Support Systems\". Using string \"slicing\" extract the word \"Support\" from string1"
   ]
  },
  {
   "cell_type": "markdown",
   "metadata": {},
   "source": [
    "__5.__ Create a list with the following values: \"one\", \"two\", \"three\". Then use function \"append\" to add to this list the element \"four\"."
   ]
  },
  {
   "cell_type": "markdown",
   "metadata": {},
   "source": [
    "__6.__ Create an \"array\" wiht values (3,5,8,122). Multiply this array by 5 and display the answer."
   ]
  },
  {
   "cell_type": "markdown",
   "metadata": {},
   "source": [
    "# Applications"
   ]
  },
  {
   "cell_type": "markdown",
   "metadata": {},
   "source": [
    "# Homework (not graded)\n",
    "Please complete all the exercises on this Notebook. Some exercises will be solved in class, but you should complete solving all the remaining exersices at the end of each Notebook on every class. If you can not solve an exercise, please contact the class teaching assistant for help inmmediately."
   ]
  },
  {
   "cell_type": "markdown",
   "metadata": {},
   "source": [
    "_Last updated on 10.25.2022 9:27am<br>\n",
    "(C) 2022 Complex Adaptive Systems Laboratory all rights reserved._"
   ]
  },
  {
   "cell_type": "code",
   "execution_count": null,
   "metadata": {},
   "outputs": [],
   "source": []
  }
 ],
 "metadata": {
  "kernelspec": {
   "display_name": "Python 3 (ipykernel)",
   "language": "python",
   "name": "python3"
  },
  "language_info": {
   "codemirror_mode": {
    "name": "ipython",
    "version": 3
   },
   "file_extension": ".py",
   "mimetype": "text/x-python",
   "name": "python",
   "nbconvert_exporter": "python",
   "pygments_lexer": "ipython3",
   "version": "3.9.12"
  }
 },
 "nbformat": 4,
 "nbformat_minor": 2
}
