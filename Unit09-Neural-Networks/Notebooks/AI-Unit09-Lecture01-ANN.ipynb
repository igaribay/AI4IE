{
 "cells": [
  {
   "cell_type": "markdown",
   "id": "640aae0f-d997-4e79-a19a-51d9cf33aad2",
   "metadata": {
    "id": "640aae0f-d997-4e79-a19a-51d9cf33aad2"
   },
   "source": [
    "# Unit 09 Lecture 1 - Artificial Neural Networks\n",
    "CAI 4823: Artificial Intelligence for  Industrial Engineers<br>\n",
    "University of Central Florida<br>\n",
    "Ali Khodabandeh Yalabadi, Dr. Arachchige and Dr. Garibay."
   ]
  },
  {
   "cell_type": "markdown",
   "id": "d906a80f",
   "metadata": {},
   "source": [
    "## Notebook Learning Objectives\n",
    "After studying this notebook students should be able to:\n",
    "- Undertand basic concepts on artificial neural networks (ANNs) and its applications\n",
    "- Install the Pytorch library\n",
    "- Perceptron, activation function, loss function\n",
    "- Forward propagation\n",
    "- Backpropagation \n",
    "- Training an Artificial Neural Network (ANN)\n",
    "- Evaluating an ANN\n",
    "- Overfitting, Underfitting and Mitigation Techniques\n",
    "- Regularization, Dropout, Cross-validation, Early Stopping, Pruning, Increase Data, Feature Selection\n",
    "- Work with the MNIST dataset\n",
    "- Defining a ANN architecture for MNIST\n",
    "- External data needed is downloaded by this Notebook"
   ]
  },
  {
   "cell_type": "markdown",
   "id": "038ca0a3-be9f-422d-a6d3-c5174d350afa",
   "metadata": {
    "id": "038ca0a3-be9f-422d-a6d3-c5174d350afa"
   },
   "source": [
    "## **Introduction**\n",
    "\n",
    "### Definition of Artificial Neural Networks (ANNs)\n",
    "\n",
    "Artificial Neural Networks (ANNs) are a class of machine learning models inspired by the biological neural networks that constitute animal brains. An ANN is composed of artificial neurons, which are simple processing units that are connected to each other and organized into layers. These neurons and connections mimic the behavior of biological neurons, enabling the network to learn from data and make predictions.\n",
    "\n",
    "In technical terms, an ANN is a collection of connected units or nodes called artificial neurons, where each connection, like the synapses in a biological brain, can transmit a signal to other neurons. The receiving neuron processes the signal and then signals neurons connected to it. Neurons are organized into layers, with each layer transforming the input it receives into output for the next layer. This architecture allows ANNs to learn and generalize from data by adjusting the weights of the connections through a process called training.\n",
    "\n",
    "\n",
    "### Biological Inspiration\n",
    "\n",
    "Biological neurons receive signals through their dendrites, process the signals in the cell body, and send signals out through the axon.\n",
    "Artificial neurons mimic this process with inputs, a weighted sum, and an activation function.\n",
    "\n",
    "### Basic Concepts\n",
    "\n",
    "A neural network consists of an input layer, hidden layers, and an output layer.\n",
    "Each layer contains neurons that are connected to neurons in the next layer.\n",
    "\n",
    "### Historical Background\n",
    "\n",
    "The concept of neural networks has a long and rich history that dates back to the early 20th century. Here is a brief overview of key milestones:\n",
    "\n",
    "1. Early Foundations (1940s-1950s):\n",
    "  - McCulloch and Pitts (1943): Warren McCulloch and Walter Pitts created a computational model for neural networks based on algorithms called threshold logic.\n",
    "  - Hebb's Rule (1949): Donald Hebb proposed a learning hypothesis based on the mechanism of synaptic plasticity, suggesting that the connection between two neurons is strengthened if they are activated simultaneously.\n",
    "\n",
    "2. Perceptron (1950s-1960s):\n",
    "  - Rosenblatt's Perceptron (1958): Frank Rosenblatt developed the perceptron, a type of artificial neuron capable of learning to solve simple classification problems. This work laid the groundwork for future neural network research.\n",
    "  - Minsky and Papert (1969): Marvin Minsky and Seymour Papert published a book titled \"Perceptrons,\" which highlighted the limitations of single-layer perceptrons and temporarily dampened research enthusiasm.\n",
    "\n",
    "3. Resurgence and Multi-layer Networks (1980s):\n",
    "  - Backpropagation Algorithm (1986): David Rumelhart, Geoffrey Hinton, and Ronald Williams popularized the backpropagation algorithm, a method for training multi-layer neural networks. This breakthrough reignited interest in ANNs and enabled the training of deeper networks.\n",
    "\n",
    "4. Deep Learning Era (2000s-Present):\n",
    "  - Deep Learning (2006): Geoffrey Hinton and his colleagues introduced the concept of deep learning, where neural networks with many layers (deep neural networks) can be trained using backpropagation. This advancement, along with the availability of large datasets and powerful computational resources, led to significant improvements in various AI tasks.\n",
    "  - Breakthrough Applications (2010s-Present): Deep learning models, such as convolutional neural networks (CNNs) for image recognition and recurrent neural networks (RNNs) for sequence data, have achieved state-of-the-art performance in numerous applications, including speech recognition, natural language processing, and autonomous driving.\n"
   ]
  },
  {
   "cell_type": "markdown",
   "id": "vuBvwJCPHCQN",
   "metadata": {
    "id": "vuBvwJCPHCQN"
   },
   "source": [
    "## Applications of ANNs\n",
    "\n",
    "Artificial Neural Networks have been successfully applied in a wide range of fields, showcasing their versatility and power. Some prominent applications include:\n",
    "\n",
    "1. Image and Video Recognition:\n",
    "  - Object Detection and Classification: ANNs, particularly convolutional neural networks (CNNs), are used for identifying and classifying objects within images and videos. Examples include facial recognition systems, autonomous vehicles, and medical imaging diagnostics.\n",
    "  - Image Generation: Generative Adversarial Networks (GANs) are a type of ANN used for creating realistic images, videos, and other data. They are applied in fields like art generation, data augmentation, and style transfer.\n",
    "2. Natural Language Processing (NLP):\n",
    "  - Language Translation: Recurrent neural networks (RNNs) and transformers are used in machine translation systems, such as Google Translate, to translate text between languages.\n",
    "  - Sentiment Analysis: ANNs are used to analyze the sentiment of text data, enabling businesses to monitor customer feedback and social media sentiment.\n",
    "  - Text Generation: Models like GPT (Generative Pre-trained Transformer) are capable of generating coherent and contextually relevant text, which can be used in chatbots, content creation, and more.\n",
    "3. Speech and Audio Processing:\n",
    "  - Speech Recognition: ANNs power speech-to-text systems, allowing for voice commands, virtual assistants (like Siri and Alexa), and transcription services.\n",
    "  - Audio Synthesis: Neural networks are used to generate realistic audio, including text-to-speech systems and music generation.\n",
    "4. Healthcare and Medicine:\n",
    "  - Disease Diagnosis: ANNs assist in diagnosing diseases from medical images, such as detecting tumors in X-rays or MRIs. They are also used in predicting patient outcomes and personalized medicine.\n",
    "  - Drug Discovery: ANNs help in the identification of potential drug candidates by analyzing complex biological data and predicting molecular interactions.\n",
    "5. Finance and Economics:\n",
    "  - Algorithmic Trading: Neural networks analyze financial data to predict stock prices and execute trades automatically.\n",
    "  - Fraud Detection: ANNs are employed to detect fraudulent transactions and anomalies in financial data, enhancing security and reducing fraud.\n",
    "6. Gaming and Entertainment:\n",
    "  - Game AI: ANNs are used to create intelligent behaviors in non-player characters (NPCs) in video games, providing more challenging and realistic gaming experiences.\n",
    "  - Content Recommendation: Streaming services like Netflix and Spotify use neural networks to recommend movies, shows, and music to users based on their preferences and behavior.\n",
    "7. Robotics and Autonomous Systems:\n",
    "  - Autonomous Vehicles: Neural networks enable self-driving cars to perceive their environment, make decisions, and navigate safely.\n",
    "  - Robotic Control: ANNs are used to control robots in various applications, from industrial automation to home assistance."
   ]
  },
  {
   "cell_type": "markdown",
   "id": "fae786a4",
   "metadata": {},
   "source": [
    "# Pytorch \n",
    "\n",
    "\n",
    "PyTorch (https://pytorch.org/) is an optimized tensor library for deep learning using GPUs and CPUs. PyTorch is open source and provides a framework and an ecosystem for building deep learning applications. We will use Torch for building our neural networks (traditional learning) and our deep neural networks (deep learning). \n",
    "\n",
    "## Installing Pytorch\n",
    "\n",
    "Please go to https://pytorch.org/get-started/locally/ to determine what command you need. See selector in next image.\n",
    "![Image Description](Images/Torch1.png)\n",
    "\n",
    "Select \"stable\", \"linux, mac, or window\" depending on your computer, \"conda\", \"python\" and \"default\". I use a Mac, so for me the command is:\n",
    "\n",
    "<code>conda install pytorch::pytorch torchvision torchaudio -c pytorch</code>\n",
    "\n",
    "The website will produce installation code according to your selections. Now, open a terminal using Anaconda \n",
    "![Image Description](Images/Torch2.png)\n",
    "\n",
    "and run that command in your terminal:\n",
    "![Image Description](Images/Torch3.png)\n",
    "\n",
    "## Verifying that Pytorch is working\n",
    "\n",
    "To see if the Torch library is properly install and working just run the next cell. If it runs without errors, you did it!"
   ]
  },
  {
   "cell_type": "code",
   "execution_count": 4,
   "id": "e988f6a1",
   "metadata": {},
   "outputs": [
    {
     "name": "stdout",
     "output_type": "stream",
     "text": [
      "tensor([[0.8524, 0.2996, 0.0996],\n",
      "        [0.1017, 0.4812, 0.4424],\n",
      "        [0.5185, 0.1699, 0.3245],\n",
      "        [0.1457, 0.3423, 0.8458],\n",
      "        [0.0490, 0.9925, 0.4498]])\n",
      "<class 'torch.Tensor'>\n"
     ]
    }
   ],
   "source": [
    "import torch\n",
    "x = torch.rand(5, 3) #creates a random 5x3 Torch tensor\n",
    "print(x)\n",
    "print(type(x))"
   ]
  },
  {
   "cell_type": "markdown",
   "id": "kptqatt4Hlh0",
   "metadata": {
    "id": "kptqatt4Hlh0"
   },
   "source": [
    "# Artificial Neural Networks: Basics of Neural Networks\n",
    "\n",
    "## Neurons and Perceptrons\n",
    "\n",
    "At the heart of an artificial neural network (ANN) is the neuron, a computational unit that takes multiple inputs, processes them, and produces an output. Neurons are inspired by the biological neurons found in animal brains, but in ANNs, they are implemented as mathematical functions.\n",
    "\n",
    "<img src='Images/Neural Networks Introduction.jpg'>\n",
    "\n",
    "### Neuron Structure\n",
    "\n",
    "A typical artificial neuron receives one or more inputs, each associated with a weight. The weights represent the importance of each input.\n",
    "The neuron computes a weighted sum of the inputs, adds a bias term, and then passes the result through an activation function to produce an output.\n",
    "Mathematically, this can be represented as:\n",
    "\n",
    "$z = sum(w_i * x_i) + b$\n",
    "\n",
    "where:\n",
    "- $x_i$ are the input values\n",
    "- $w_i$ are the weights\n",
    "- $b$ is the bias\n",
    "- $z$ is the weighted sum\n",
    "\n",
    "The activation function $f(z)$ then transforms the weighted sum into the output $y$:\n",
    "\n",
    "$y = f(z)$\n",
    "\n",
    "### Perceptron\n",
    "\n",
    "The perceptron is one of the simplest types of artificial neurons and was first introduced by Frank Rosenblatt in 1958.\n",
    "It forms the basis of more complex neural network architectures.\n",
    "\n",
    "A perceptron makes a binary decision by computing the weighted sum of the inputs and passing it through a step function, which outputs 1 if the sum is greater than a threshold and 0 otherwise. The mathematical formulation of a perceptron is:\n",
    "\n",
    "$y = 1$ if $sum(w_i * x_i) + b > 0$ else $0$\n",
    "\n",
    "The perceptron learning algorithm adjusts the weights and bias to minimize the error in its predictions, iteratively improving the model's performance.\n",
    "\n",
    "## Activation Functions\n",
    "\n",
    "Activation functions introduce non-linearity into the network, enabling it to learn and model complex relationships between inputs and outputs.\n",
    "They determine the output of a neuron given its input and are crucial for the network's ability to learn and generalize. Common activation functions include Sigmoid, Tanh, ReLU, and Softmax.\n",
    "\n",
    "### - Sigmoid Activation Function\n",
    "\n",
    "The sigmoid activation function, also known as the logistic function, maps any input to a value between 0 and 1.\n",
    "It is widely used in binary classification problems. The mathematical formula for the sigmoid function is:\n",
    "\n",
    "$sigma(z) = 1 / (1 + exp(-z))$\n",
    "\n",
    "where:\n",
    "- $sigma(z)$ is the sigmoid function\n",
    "- $z$ is the input to the neuron\n",
    "\n",
    "The sigmoid function has an S-shaped curve and is defined for all real-valued inputs. Its properties include:\n",
    "- Range: (0, 1)\n",
    "- Non-linear: The non-linear nature allows the network to capture complex patterns.\n",
    "- Smooth gradient: The function is differentiable, which is essential for backpropagation.\n",
    "- Gradient saturation: For very high or low input values, the gradient approaches zero, leading to slow learning and the vanishing gradient problem.\n",
    "\n",
    "### - Tanh Activation Function\n",
    "\n",
    "The hyperbolic tangent (tanh) activation function is another popular choice for neural networks. It maps inputs to a range between -1 and 1.\n",
    "The mathematical formula for the tanh function is:\n",
    "\n",
    "$tanh(z) = (exp(z) - exp(-z)) / (exp(z) + exp(-z))$\n",
    "\n",
    "where:\n",
    "- $tanh(z)$ is the tanh function\n",
    "- $z$ is the input to the neuron\n",
    "\n",
    "The tanh function has a similar shape to the sigmoid function but is centered around zero. Its properties include:\n",
    "- Range: (-1, 1)\n",
    "- Non-linear: Allows the network to capture complex patterns.\n",
    "- Smooth gradient: The function is differentiable, aiding the training process.\n",
    "- Zero-centered: Outputs are centered around zero, which can make training faster and more efficient.\n",
    "- Gradient saturation: Similar to the sigmoid function, tanh can also suffer from the vanishing gradient problem for extreme input values.\n",
    "\n",
    "### - ReLU Activation Function\n",
    "\n",
    "The Rectified Linear Unit (ReLU) is one of the most widely used activation functions in modern neural networks, particularly deep networks.\n",
    "It introduces non-linearity by setting all negative values to zero and keeping positive values unchanged. The mathematical formula for ReLU is:\n",
    "\n",
    "$ReLU(z) = max(0, z)$\n",
    "\n",
    "where:\n",
    "- $ReLU(z)$ is the ReLU function\n",
    "- $z$ is the input to the neuron\n",
    "\n",
    "The ReLU function has several advantageous properties:\n",
    "- Range: [0, ∞)\n",
    "- Non-linear: Despite its simplicity, ReLU introduces non-linearity into the model.\n",
    "- Efficient computation: ReLU is computationally efficient since it involves only a simple thresholding operation.\n",
    "- Sparse activation: ReLU can lead to sparse representations by outputting zero for negative inputs, potentially improving network efficiency.\n",
    "- Mitigation of vanishing gradients: ReLU helps to mitigate the vanishing gradient problem, allowing for deeper networks to be trained effectively.\n",
    "- Gradient issues: ReLU can suffer from the \"dying ReLU\" problem, where neurons can become inactive and stop learning if they output zero for all inputs.\n",
    "- ReLU is differentiable almost everywhere, except at x=0, where it is not differentiable. However, this non-differentiability at x=0 is often ignored in practice, and the derivative is approximated as 0.\n",
    "- For values greater than zero, the derivative of ReLU is simply 1, as the function is linear and increasing.\n",
    "- For values less than or equal to zero, the derivative of ReLU is 0, as the function is constant and flat.\n",
    "\n",
    "### - Softmax Activation Function\n",
    "\n",
    "The softmax activation function is commonly used in the output layer of neural networks designed for multi-class classification problems.\n",
    "It converts raw scores (logits) into probabilities, which sum to one. The mathematical formula for the softmax function is:\n",
    "\n",
    "$softmax(z_i) = exp(z_i) / sum(exp(z_j))$ for $j$ in $range(len(z))$\n",
    "\n",
    "where:\n",
    "- $softmax(z_i)$ is the softmax function for the i-th class\n",
    "- $z_i$ is the input to the neuron for the i-th class\n",
    "\n",
    "The softmax function has several properties:\n",
    "- Range: (0, 1)\n",
    "- Probabilistic interpretation: Outputs can be interpreted as probabilities, useful for multi-class classification.\n",
    "- Differentiable: The function is differentiable, which is essential for backpropagation.\n",
    "\n",
    "\n"
   ]
  },
  {
   "cell_type": "markdown",
   "id": "f5145a53-d87c-4d5c-8311-8a4e84d7cea2",
   "metadata": {
    "id": "f5145a53-d87c-4d5c-8311-8a4e84d7cea2"
   },
   "source": [
    "## Activation Functions Implementation & Visualization (Numpy)"
   ]
  },
  {
   "cell_type": "code",
   "execution_count": 5,
   "id": "794e1ec7-d39f-4341-9fda-c1905a7e658b",
   "metadata": {
    "colab": {
     "base_uri": "https://localhost:8080/",
     "height": 1000
    },
    "executionInfo": {
     "elapsed": 2856,
     "status": "ok",
     "timestamp": 1722017407488,
     "user": {
      "displayName": "ALI Khodabandeh",
      "userId": "12378673642654761573"
     },
     "user_tz": 300
    },
    "id": "794e1ec7-d39f-4341-9fda-c1905a7e658b",
    "outputId": "57dc460f-ef3d-4684-c1f6-ff1d0490d52e"
   },
   "outputs": [
    {
     "data": {
      "image/png": "[encoded data removed]",
      "text/plain": [
       "<Figure size 1400x1000 with 4 Axes>"
      ]
     },
     "metadata": {},
     "output_type": "display_data"
    }
   ],
   "source": [
    "# Import necessary libraries\n",
    "import numpy as np\n",
    "import matplotlib.pyplot as plt\n",
    "import torch\n",
    "\n",
    "# Set random seed for reproducibility\n",
    "torch.manual_seed(0)\n",
    "np.random.seed(0)\n",
    "\n",
    "# Define activation functions\n",
    "def sigmoid(x):\n",
    "    return 1 / (1 + np.exp(-x))\n",
    "\n",
    "def tanh(x):\n",
    "    return np.tanh(x)\n",
    "\n",
    "def relu(x):\n",
    "    return np.maximum(0, x)\n",
    "\n",
    "def softmax(x):\n",
    "    exp_x = np.exp(x)\n",
    "    return exp_x / exp_x.sum(axis=0)\n",
    "\n",
    "# Generate x values\n",
    "x = np.linspace(-10, 10, 400)\n",
    "\n",
    "# Compute y values\n",
    "y_sigmoid = sigmoid(x)\n",
    "y_tanh = tanh(x)\n",
    "y_relu = relu(x)\n",
    "y_softmax = softmax(x)\n",
    "\n",
    "# Plotting the activation functions\n",
    "plt.figure(figsize=(14, 10))\n",
    "\n",
    "plt.subplot(2, 2, 1)\n",
    "plt.plot(x, y_sigmoid, label='Sigmoid')\n",
    "plt.title('Sigmoid Activation Function')\n",
    "plt.xlabel('x')\n",
    "plt.ylabel('sigmoid(x)')\n",
    "plt.grid(True)\n",
    "\n",
    "plt.subplot(2, 2, 2)\n",
    "plt.plot(x, y_tanh, label='Tanh', color='orange')\n",
    "plt.title('Tanh Activation Function')\n",
    "plt.xlabel('x')\n",
    "plt.ylabel('tanh(x)')\n",
    "plt.grid(True)\n",
    "\n",
    "plt.subplot(2, 2, 3)\n",
    "plt.plot(x, y_relu, label='ReLU', color='green')\n",
    "plt.title('ReLU Activation Function')\n",
    "plt.xlabel('x')\n",
    "plt.ylabel('relu(x)')\n",
    "plt.grid(True)\n",
    "\n",
    "plt.subplot(2, 2, 4)\n",
    "plt.plot(x, y_softmax, label='Softmax', color='red')\n",
    "plt.title('Softmax Activation Function')\n",
    "plt.xlabel('x')\n",
    "plt.ylabel('softmax(x)')\n",
    "plt.grid(True)\n",
    "\n",
    "plt.tight_layout()\n",
    "plt.show()\n"
   ]
  },
  {
   "cell_type": "code",
   "execution_count": 6,
   "id": "36e7c1e5-112d-43d7-ac59-7bced8d6a9cf",
   "metadata": {
    "colab": {
     "base_uri": "https://localhost:8080/",
     "height": 487
    },
    "executionInfo": {
     "elapsed": 553,
     "status": "ok",
     "timestamp": 1722017423707,
     "user": {
      "displayName": "ALI Khodabandeh",
      "userId": "12378673642654761573"
     },
     "user_tz": 300
    },
    "id": "36e7c1e5-112d-43d7-ac59-7bced8d6a9cf",
    "outputId": "91402ce7-4922-4425-9215-285f2943f78e"
   },
   "outputs": [
    {
     "data": {
      "image/png": "[encoded data removed]",
      "text/plain": [
       "<Figure size 640x480 with 1 Axes>"
      ]
     },
     "metadata": {},
     "output_type": "display_data"
    }
   ],
   "source": [
    "plt.title(\"Activation Functions Transformed to [0,1]\")\n",
    "plt.plot(x, y_sigmoid, label='Sigmoid')\n",
    "plt.plot(x, y_tanh / 2 + 0.5, label='Tanh', color='orange')\n",
    "plt.plot(x, y_relu / 10, label='ReLU', color='green')\n",
    "plt.plot(x, y_softmax * 20, label='Softmax', color='red')\n",
    "plt.legend()\n",
    "plt.tight_layout()\n",
    "plt.show()"
   ]
  },
  {
   "cell_type": "markdown",
   "id": "4RhMdX3jMNEA",
   "metadata": {
    "id": "4RhMdX3jMNEA"
   },
   "source": [
    "## Activation Functions Implementation & Visualization (now using PyTorch)"
   ]
  },
  {
   "cell_type": "code",
   "execution_count": 7,
   "id": "4a80d1a4-cb62-44a5-b6dd-9dafa099e01b",
   "metadata": {
    "colab": {
     "base_uri": "https://localhost:8080/",
     "height": 452
    },
    "executionInfo": {
     "elapsed": 506,
     "status": "ok",
     "timestamp": 1722017570962,
     "user": {
      "displayName": "ALI Khodabandeh",
      "userId": "12378673642654761573"
     },
     "user_tz": 300
    },
    "id": "4a80d1a4-cb62-44a5-b6dd-9dafa099e01b",
    "outputId": "276cc7d0-81f2-49e9-d917-4b849307c30f"
   },
   "outputs": [
    {
     "data": {
      "image/png": "[encoded data removed]",
      "text/plain": [
       "<Figure size 640x480 with 1 Axes>"
      ]
     },
     "metadata": {},
     "output_type": "display_data"
    }
   ],
   "source": [
    "# Import necessary libraries\n",
    "import torch\n",
    "import torch.nn as nn # package to create and train ANNs\n",
    "import torch.nn.functional as F # package to access Torch functions\n",
    "import numpy as np\n",
    "import matplotlib.pyplot as plt\n",
    "\n",
    "# Set random seed for reproducibility\n",
    "torch.manual_seed(0)\n",
    "\n",
    "# Example of different activation functions using Torch\n",
    "\n",
    "# set values for x\n",
    "x = torch.linspace(-10, 10, 100)\n",
    "\n",
    "# Sigmoid function\n",
    "sigmoid = torch.sigmoid(x)\n",
    "plt.plot(x.numpy(), sigmoid.numpy(), label='Sigmoid') \n",
    "                    # x.numpy() convers Tensor x \n",
    "                    #into numpy array for plotting\n",
    "\n",
    "# Tanh function\n",
    "tanh = torch.tanh(x)\n",
    "plt.plot(x.numpy(), tanh.numpy() / 2 + 0.5, label='Tanh')\n",
    "\n",
    "# ReLU function\n",
    "relu = F.relu(x)\n",
    "plt.plot(x.numpy(), relu.numpy() / 10, label='ReLU')\n",
    "\n",
    "# Softmax function\n",
    "softmax = torch.nn.Softmax(dim=0)\n",
    "plt.plot(x.numpy(), softmax(x), label='Softmax')\n",
    "\n",
    "plt.legend()\n",
    "plt.title('Activation Functions')\n",
    "plt.show()"
   ]
  },
  {
   "cell_type": "markdown",
   "id": "-OK1QocWqG97",
   "metadata": {
    "id": "-OK1QocWqG97"
   },
   "source": [
    "# Forward Propagation\n",
    "\n",
    "## Concept of Forward Propagation\n",
    "\n",
    "Forward propagation is the process by which input data passes through a neural network to generate an output. It involves moving the input data through each layer of the network, applying weights, biases, and activation functions at each neuron, until reaching the final output layer. The purpose of forward propagation is to compute the predicted outputs based on the current parameters of the network.\n",
    "\n",
    "In a neural network, forward propagation involves several steps:\n",
    "1. **Input Layer**: The initial data is fed into the input layer of the network.\n",
    "2. **Hidden Layers**: The data is then propagated through one or more hidden layers. In each hidden layer, each neuron computes a weighted sum of its inputs, adds a bias term, and passes the result through an activation function to produce an output.\n",
    "3. **Output Layer**: The final outputs from the last hidden layer are passed to the output layer, where similar computations are performed to produce the network's final predictions.\n",
    "\n",
    "The main goal of forward propagation is to determine the output for a given input, which can then be compared with the actual target values to compute the error and update the network's parameters during backpropagation.\n",
    "\n",
    "## Mathematical Formulation\n",
    "\n",
    "Consider a simple neural network with one hidden layer. The mathematical formulation of forward propagation in this network can be broken down into the following steps:\n",
    "\n",
    "1. **Input Layer to Hidden Layer**:\n",
    "   - Let $x$ be the input vector.\n",
    "   - Let $W_1$ be the weight matrix for the hidden layer.\n",
    "   - Let $b_1$ be the bias vector for the hidden layer.\n",
    "   - Let $f$ be the activation function (e.g., ReLU, Sigmoid, Tanh).\n",
    "\n",
    "   The output of the hidden layer, $a_1$, is computed as:\n",
    "\n",
    "  <center>\n",
    "  $z_1 = W_1 x + b_1$\n",
    "   \n",
    "  $a_1 = f(z_1)$\n",
    "   </center>\n",
    "\n",
    "2. **Hidden Layer to Output Layer**:\n",
    "   - Let $W_2$ be the weight matrix for the output layer.\n",
    "   - Let $b_2$ be the bias vector for the output layer.\n",
    "   - Let $g$ be the activation function for the output layer (e.g., Softmax for classification).\n",
    "\n",
    "   The output of the network, $y$, is computed as:\n",
    "   <center>\n",
    "   $z_2 = W_2 a_1 + b_2$\n",
    "   \n",
    "   $y = g(z_2)$\n",
    "   </center>\n",
    "\n",
    "## Example Calculation\n",
    "\n",
    "Let's walk through an example calculation using a simple neural network with one input layer, one hidden layer, and one output layer.\n",
    "\n",
    "**Network Architecture**:\n",
    "- Input layer with 2 neurons\n",
    "- Hidden layer with 3 neurons\n",
    "- Output layer with 2 neurons\n",
    "    \n",
    "<img src='Images/Diagram1.png'>\n",
    "\n",
    "**Parameters**:\n",
    "- Input vector: $x$ = \\begin{bmatrix} 0.5 \\\\ -0.2 \\end{bmatrix}\n",
    "- Weight matrix for hidden layer: $W_1$ = \\begin{bmatrix} 0.2 & 0.8 \\\\ -0.5 & 0.1 \\\\ 0.7 & -0.3 \\end{bmatrix}\n",
    "- Bias vector for hidden layer: $b_1$ = \\begin{bmatrix} 0.1 \\\\ -0.2 \\\\ 0.05 \\end{bmatrix}\n",
    "- Activation function for hidden layer: ReLU\n",
    "\n",
    "- Weight matrix for output layer: $W_2$ = \\begin{bmatrix} 0.4 & -0.6 & 0.1 \\\\ -0.3 & 0.8 & -0.2 \\end{bmatrix}\n",
    "- Bias vector for output layer: $b_2$ = \\begin{bmatrix} -0.1 \\\\ 0.2 \\end{bmatrix}\n",
    "- Activation function for output layer: Softmax\n",
    "\n",
    "\n",
    "\n",
    "\n"
   ]
  },
  {
   "cell_type": "markdown",
   "id": "aCs1tnzpsZi8",
   "metadata": {
    "id": "aCs1tnzpsZi8"
   },
   "source": [
    "**Step-by-Step Calculation**:\n",
    "\n",
    "1. **Input Layer to Hidden Layer**:"
   ]
  },
  {
   "cell_type": "code",
   "execution_count": 8,
   "id": "JpMniS_dsTBT",
   "metadata": {
    "colab": {
     "base_uri": "https://localhost:8080/"
    },
    "executionInfo": {
     "elapsed": 153,
     "status": "ok",
     "timestamp": 1722025155746,
     "user": {
      "displayName": "ALI Khodabandeh",
      "userId": "12378673642654761573"
     },
     "user_tz": 300
    },
    "id": "JpMniS_dsTBT",
    "outputId": "4326d04c-85f0-4abf-816c-d4cafad86f93"
   },
   "outputs": [
    {
     "name": "stdout",
     "output_type": "stream",
     "text": [
      "z1 =  [ 0.04 -0.47  0.46]\n",
      "a1 (ReLU) =  [0.04 0.   0.46]\n"
     ]
    }
   ],
   "source": [
    "import numpy as np\n",
    "\n",
    "# Input vector\n",
    "x = np.array([0.5, -0.2])\n",
    "\n",
    "# Weight matrix for hidden layer\n",
    "W1 = np.array([[0.2, 0.8],\n",
    "               [-0.5, 0.1],\n",
    "               [0.7, -0.3]])\n",
    "\n",
    "# Bias vector for hidden layer\n",
    "b1 = np.array([0.1, -0.2, 0.05])\n",
    "\n",
    "# Calculate z1\n",
    "z1 = np.dot(W1, x) + b1\n",
    "print(\"z1 = \", z1)\n",
    "\n",
    "# ReLU activation function\n",
    "a1 = np.maximum(0, z1)\n",
    "print(\"a1 (ReLU) = \", a1)"
   ]
  },
  {
   "cell_type": "markdown",
   "id": "1mhnmcAJsvN-",
   "metadata": {
    "id": "1mhnmcAJsvN-"
   },
   "source": [
    "2. **Hidden Layer to Output Layer**:"
   ]
  },
  {
   "cell_type": "code",
   "execution_count": 9,
   "id": "A7owr_Ses1Iw",
   "metadata": {
    "colab": {
     "base_uri": "https://localhost:8080/"
    },
    "executionInfo": {
     "elapsed": 159,
     "status": "ok",
     "timestamp": 1722025245718,
     "user": {
      "displayName": "ALI Khodabandeh",
      "userId": "12378673642654761573"
     },
     "user_tz": 300
    },
    "id": "A7owr_Ses1Iw",
    "outputId": "c5033867-1020-4d27-8cb1-b3ac71133132"
   },
   "outputs": [
    {
     "name": "stdout",
     "output_type": "stream",
     "text": [
      "z2 =  [-0.038  0.096]\n",
      "y (Softmax) =  [0.46655004 0.53344996]\n"
     ]
    }
   ],
   "source": [
    "# Weight matrix for output layer\n",
    "W2 = np.array([[0.4, -0.6, 0.1],\n",
    "               [-0.3, 0.8, -0.2]])\n",
    "\n",
    "# Bias vector for output layer\n",
    "b2 = np.array([-0.1, 0.2])\n",
    "\n",
    "# Calculate z2\n",
    "z2 = np.dot(W2, a1) + b2\n",
    "print(\"z2 = \", z2)\n",
    "\n",
    "# Softmax activation function\n",
    "def softmax(z):\n",
    "    exp_z = np.exp(z)\n",
    "    return exp_z / np.sum(exp_z)\n",
    "\n",
    "y = softmax(z2)\n",
    "print(\"y (Softmax) = \", y)"
   ]
  },
  {
   "cell_type": "markdown",
   "id": "wYKq4Olms_9P",
   "metadata": {
    "id": "wYKq4Olms_9P"
   },
   "source": [
    "Thus, the output of the network for the given input is approximately\n",
    "$y$ = \\begin{bmatrix} 0.47 \\\\ 0.53 \\end{bmatrix}\n",
    "\n",
    ", indicating the probabilities for the two output classes. This example demonstrates how forward propagation computes the network's output from the input using the current weights, biases, and activation functions."
   ]
  },
  {
   "cell_type": "markdown",
   "id": "lawEnf_tu8EH",
   "metadata": {
    "id": "lawEnf_tu8EH"
   },
   "source": [
    "# Loss Functions\n",
    "\n",
    "In neural networks, loss functions (also known as cost functions or objective functions) measure the difference between the predicted output of the network and the actual target values. They play a crucial role in training the network by providing a quantifiable metric that the optimization algorithm can minimize. By adjusting the network's weights and biases to minimize the loss, the network improves its performance on the given task. Two commonly used loss functions are Mean Squared Error (MSE) and Cross-Entropy Loss.\n",
    "\n",
    "## Mean Squared Error (MSE)\n",
    "\n",
    "Mean Squared Error (MSE) is a loss function commonly used in regression tasks, where the goal is to predict a continuous value. It measures the average squared difference between the predicted values and the actual target values. The formula for MSE is:\n",
    "<center>\n",
    "$MSE = \\frac{1}{n} \\sum_{i=1}^{n} (y_i - \\hat{y}_i)^2$\n",
    "</center>\n",
    "\n",
    "where:\n",
    "- $n$ is the number of samples.\n",
    "- $y_i$ is the actual target value for the $i$-th sample.\n",
    "- $\\hat{y}_i$ is the predicted value for the $i$-th sample.\n",
    "\n",
    "The MSE loss penalizes larger errors more than smaller errors due to the squaring operation, making it sensitive to outliers. Minimizing the MSE loss encourages the model to produce predictions that are as close as possible to the actual target values on average.\n",
    "\n",
    "### Example Calculation of MSE\n",
    "\n",
    "Let's compute the MSE for a simple example with three samples:\n",
    "\n",
    "- Actual target values: $y = [3.0, -0.5, 2.0]$\n",
    "- Predicted values: $\\hat{y} = [2.5, 0.0, 2.1]$\n",
    "\n",
    "<center>\n",
    "$MSE = \\frac{1}{3} \\left((3.0 - 2.5)^2 + (-0.5 - 0.0)^2 + (2.0 - 2.1)^2 \\right)$\n",
    "\n",
    "\n",
    "$MSE = \\frac{1}{3} \\left(0.25 + 0.25 + 0.01\\right)$\n",
    "\n",
    "\n",
    "$MSE = \\frac{1}{3} \\times 0.51$\n",
    "\n",
    "\n",
    "$MSE = 0.17$\n",
    "</center>\n",
    "\n",
    "In this example, the MSE loss is 0.17, indicating the average squared difference between the predicted and actual values.\n",
    "\n",
    "## Cross-Entropy Loss\n",
    "\n",
    "Cross-Entropy Loss is a loss function commonly used in classification tasks, where the goal is to predict the probabilities of different classes. It measures the difference between the predicted probability distribution and the actual distribution of the target values. The formula for cross-entropy loss is:\n",
    "\n",
    "<center>\n",
    "$CrossEntropy = -\\frac{1}{n} \\sum_{i=1}^{n} \\sum_{j=1}^{k} y_{ij} \\log(\\hat{y}_{ij})$\n",
    "</center>\n",
    "\n",
    "where:\n",
    "- $n$ is the number of samples.\n",
    "- $k$ is the number of classes.\n",
    "- $y_{ij}$ is the actual binary indicator (0 or 1) if class label $j$ is the correct classification for sample $i$.\n",
    "- $\\hat{y}_{ij}$ is the predicted probability of sample $i$ being class $j$.\n",
    "\n",
    "Cross-Entropy Loss is particularly effective for classification problems because it penalizes incorrect predictions more heavily when the predicted probability is far from the actual class label. Minimizing the cross-entropy loss encourages the model to output probability distributions that are as close as possible to the actual distributions of the target values.\n",
    "\n",
    "### Example Calculation of Cross-Entropy Loss\n",
    "\n",
    "Let's compute the cross-entropy loss for a simple example with three samples and two classes:\n",
    "\n",
    "- Actual target values (one-hot encoded): $y$ = \\begin{bmatrix} 1 & 0 \\\\ 0 & 1 \\\\ 1 & 0 \\end{bmatrix}\n",
    "- Predicted probabilities: $\\hat{y}$ = \\begin{bmatrix} 0.8 & 0.2 \\\\ 0.3 & 0.7 \\\\ 0.6 & 0.4 \\end{bmatrix}\n",
    "\n",
    "<br>\n",
    "\n",
    "$CrossEntropy = -\\frac{1}{3} \\left( 1 \\log(0.8) + 0 \\log(0.2) + 0 \\log(0.3) + 1 \\log(0.7) + 1 \\log(0.6) + 0 \\log(0.4) \\right)$\n",
    "\n",
    "$CrossEntropy = -\\frac{1}{3} \\left( \\log(0.8) + \\log(0.7) + \\log(0.6) \\right)$\n",
    "\n",
    "$CrossEntropy = -\\frac{1}{3} \\left( -0.223 + -0.357 + -0.511 \\right)$\n",
    "\n",
    "$CrossEntropy = \\frac{1}{3} \\times 1.091$\n",
    "\n",
    "$CrossEntropy = 0.364$\n",
    "\n",
    "<br>\n",
    "\n",
    "In this example, the cross-entropy loss is 0.364, indicating the average difference between the predicted and actual probability distributions."
   ]
  },
  {
   "cell_type": "markdown",
   "id": "SXBiR1zmxDwT",
   "metadata": {
    "id": "SXBiR1zmxDwT"
   },
   "source": [
    "## Implementation in PyTorch\n",
    "\n",
    "Let's see how to implement these loss functions using PyTorch.\n"
   ]
  },
  {
   "cell_type": "code",
   "execution_count": 10,
   "id": "KEHiRCYuxIkQ",
   "metadata": {
    "colab": {
     "base_uri": "https://localhost:8080/"
    },
    "executionInfo": {
     "elapsed": 152,
     "status": "ok",
     "timestamp": 1722026342841,
     "user": {
      "displayName": "ALI Khodabandeh",
      "userId": "12378673642654761573"
     },
     "user_tz": 300
    },
    "id": "KEHiRCYuxIkQ",
    "outputId": "b669dbd9-e444-409a-a629-2122283c8336"
   },
   "outputs": [
    {
     "name": "stdout",
     "output_type": "stream",
     "text": [
      "Mean Squared Error (MSE): 0.17\n",
      "Cross-Entropy Loss: 0.364\n"
     ]
    }
   ],
   "source": [
    "import torch\n",
    "import torch.nn as nn\n",
    "\n",
    "# Mean Squared Error (MSE) Example\n",
    "y_true = torch.tensor([3.0, -0.5, 2.0])\n",
    "y_pred = torch.tensor([2.5, 0.0, 2.1])\n",
    "\n",
    "mse_loss = nn.MSELoss()\n",
    "mse = mse_loss(y_pred, y_true)\n",
    "print(\"Mean Squared Error (MSE):\", round(mse.item(), 2))\n",
    "\n",
    "# Cross-Entropy Loss Example\n",
    "# Define the target values (one-hot encoded)\n",
    "y_true = torch.tensor([[1, 0],\n",
    "[0, 1],\n",
    "[1, 0]], dtype=torch.float32)\n",
    "\n",
    "# Define the predicted probabilities\n",
    "y_pred = torch.tensor([[0.8, 0.2],\n",
    "[0.3, 0.7],\n",
    "[0.6, 0.4]], dtype=torch.float32)\n",
    "\n",
    "# Create the loss function (BCE stands for Binary Cross-Entropy)\n",
    "loss_fn = nn.BCELoss()\n",
    "\n",
    "# Calculate the loss\n",
    "bce_loss = loss_fn(y_pred, y_true)\n",
    "#print(\"Tensor:\", bce_loss, type(bce_loss))\n",
    "print(\"Cross-Entropy Loss:\", round(bce_loss.item(), 3))"
   ]
  },
  {
   "cell_type": "markdown",
   "id": "l0I9wD5zx2uX",
   "metadata": {
    "id": "l0I9wD5zx2uX"
   },
   "source": [
    "In this implementation, we use the ```nn.MSELoss()``` and ```nn.CrossEntropyLoss()``` classes from PyTorch's torch.nn module to compute the MSE and Cross-Entropy Loss, respectively. The ```.item()``` method is used to extract the scalar value from the tensor."
   ]
  },
  {
   "cell_type": "markdown",
   "id": "gAyOLXtB1Pte",
   "metadata": {
    "id": "gAyOLXtB1Pte"
   },
   "source": [
    "# Backpropagation\n",
    "\n",
    "## Concept of Backpropagation\n",
    "\n",
    "Backpropagation is the fundamental algorithm underlying the training of artificial neural networks. It is a method used to calculate the gradient of the loss function of a neural network with respect to its weights and biases. This information is then used to update the parameters of the network in a way that minimizes the loss function. Backpropagation is executed after forward propagation, during which the inputs are passed through the network to obtain the output predictions.\n",
    "\n",
    "The process of backpropagation involves three main steps:\n",
    "1. **Forward Pass**: Calculate the predicted output and the loss by passing the input data through the network.\n",
    "2. **Backward Pass**: Compute the gradient of the loss function with respect to each parameter (weight and bias) by applying the chain rule of differentiation. This step moves backward through the network, from the output layer to the input layer, hence the name backpropagation.\n",
    "3. **Parameter Update**: Adjust the network's parameters using the gradients computed in the backward pass, typically using an optimization algorithm like gradient descent.\n",
    "\n",
    "## Gradient Descent Optimization\n",
    "\n",
    "Gradient descent is a first-order iterative optimization algorithm used to find the minimum of a function. In the context of neural networks, it is used to find the parameters (weights and biases) that minimize the loss function. The basic idea is to update the parameters in the opposite direction of the gradient of the loss function with respect to the parameters.\n",
    "\n",
    "The update rule for gradient descent is:\n",
    "<center>\n",
    "$\\theta = \\theta - \\eta \\cdot \\nabla_\\theta J(\\theta)$\n",
    "</center>\n",
    "\n",
    "where:\n",
    "\n",
    "- $\\theta$ represents the parameters of the model.\n",
    "- $\\eta$ is the learning rate, a hyperparameter that determines the step size during the minimization process.\n",
    "- $\\nabla_\\theta J(\\theta)$ is the gradient (Jacobian matrix) of the loss function $J$ with respect to the parameters $\\theta$. \n",
    "\n",
    "The learning rate is crucial: if it's too small, the convergence will be slow; if it's too large, the algorithm might overshoot the minimum or diverge.\n",
    "\n",
    "The Jacobian matrix, $\\nabla_\\theta J(\\theta)$, is a matrix of partial derivatives of the loss function, $J$ , with respect to the model’s parameters, $\\theta$. In gradient descent, the Jacobian is used to compute the gradient of the loss function, which represents the direction of steepest descent.\n",
    "\n",
    "## Mathematical Formulation and Chain Rule\n",
    "\n",
    "The mathematical basis for backpropagation is the chain rule of calculus. The chain rule is used to compute the partial derivative of the loss function with respect to the weights and biases of each layer in the network. **Note:** chain rule is $∂g/∂x = (∂g/∂u) * (∂u/∂x)$\n",
    "\n",
    "Let's consider a simple network with one hidden layer and break down the backpropagation steps:\n",
    "\n",
    "1. **Forward Pass**: Compute outputs and loss.\n",
    "   - $z^{[1]} = W^{[1]} x + b^{[1]}$\n",
    "   - $a^{[1]} = \\sigma(z^{[1]})$  (activation function)\n",
    "   - $\\hat{y} = W^{[2]} a^{[1]} + b^{[2]}$  (output layer)\n",
    "   - $J = \\frac{1}{2}(y - \\hat{y})^2$  (loss function)\n",
    "\n",
    "2. **Backward Pass**: Apply chain rule to find gradients.\n",
    "   - For the output layer $W^{[2]}$ and $b^{[2]}$:\n",
    "     \n",
    "     $\\frac{\\partial J}{\\partial W^{[2]}} = \\frac{\\partial J}{\\partial \\hat{y}}\n",
    "     \\frac{\\partial \\hat{y}}{\\partial W^{[2]}} = ( \\hat{y} - y ) \\cdot a^{[1]}$\n",
    "     \n",
    "     $\\frac{\\partial J}{\\partial b^{[2]}} = \\frac{\\partial J}{\\partial \\hat{y}} \\frac{\\partial \\hat{y}}{\\partial b^{[2]}} = \\hat{y} - y$\n",
    "\n",
    "   - For the hidden layer $W^{[1]}$ and $b^{[1]}$:\n",
    "     \n",
    "     $\\frac{\\partial J}{\\partial W^{[1]}} = \\frac{\\partial J}{\\partial z^{[1]}} \\frac{\\partial z^{[1]}}{\\partial W^{[1]}} = (W^{[2]T}(\\hat{y} - y) \\odot \\sigma'(z^{[1]})) \\cdot x^T$\n",
    "     \n",
    "     $\\frac{\\partial J}{\\partial b^{[1]}} = \\frac{\\partial J}{\\partial z^{[1]}} \\frac{\\partial z^{[1]}}{\\partial b^{[1]}} = W^{[2]T}(\\hat{y} - y) \\odot \\sigma'(z^{[1]})$\n",
    "     \n",
    "     where $\\odot$ denotes element-wise multiplication, and $\\sigma'$ is the derivative of the activation function.\n",
    "\n",
    "3. **Parameter Update**: Use gradient descent to update parameters.\n",
    "   - $W^{[2]} = W^{[2]} - \\eta \\frac{\\partial J}{\\partial W^{[2]}}$\n",
    "   - $b^{[2]} = b^{[2]} - \\eta \\frac{\\partial J}{\\partial b^{[2]}}$\n",
    "   - $W^{[1]} = W^{[1]} - \\eta \\frac{\\partial J}{\\partial W^{[1]}}$\n",
    "   - $b^{[1]} = b^{[1]} - \\eta \\frac{\\partial J}{\\partial b^{[1]}}$\n",
    "\n",
    "By iterating through these steps across multiple **epochs** (i.e., passes through the training dataset), the neural network learns to adjust its weights and biases to minimize the loss, improving its accuracy and performance on the task.\n",
    "\n",
    "This process of backpropagation and gradient descent enables the network to learn from the training data, adapting itself to perform better at the given task, and is essential for the effective training of modern neural networks."
   ]
  },
  {
   "cell_type": "markdown",
   "id": "r7PCqEHk3VUa",
   "metadata": {
    "id": "r7PCqEHk3VUa"
   },
   "source": [
    "# Training a Neural Network\n",
    "\n",
    "Training a neural network involves several critical steps from data preparation to iterative learning and evaluation. This comprehensive guide covers the essential components of training a neural network effectively.\n",
    "\n",
    "## Data Preprocessing\n",
    "\n",
    "Data preprocessing is a crucial step in the training process of a neural network. It involves preparing the input data to enhance the performance and efficiency of the learning model.\n",
    "\n",
    "### Key aspects of data preprocessing include:\n",
    "\n",
    "1. **Normalization and Scaling**:\n",
    "    - This involves adjusting the scale of the data attributes so that they contribute equally to the learning process. Common techniques include min-max scaling (normalization to 0-1) and standardization (z-score normalization: mean of zero and a standard deviation of one). These techniques help in speeding up the convergence and improve the accuracy of the model.\n",
    "\n",
    "2. **Handling Missing Values**:\n",
    "    - Missing data can skew or mislead the training process and lead to poor performance. Techniques to handle missing data include imputation, where missing values are filled based on other data points or dropped altogether if they are not significant.\n",
    "\n",
    "3. **Data Augmentation**:\n",
    "    - This is particularly common in tasks like image and speech recognition. Data augmentation artificially increases the size of the dataset by creating modified versions of data points through rotations, translations, noise injection, etc. This can help improve the robustness of the model against overfitting.\n",
    "\n",
    "4. **Feature Encoding**:\n",
    "    - Neural networks require that all input and output variables be numeric. This means that categorical data must be converted into a numerical format. One common approach is one-hot encoding, where categorical variables are converted into a form that could be provided to the ML algorithms to do a better job in prediction.\n",
    "\n",
    "5. **Feature Selection and Engineering**:\n",
    "    - This involves selecting the most useful features to train on among existing features and creating new features from the existing ones. This step can significantly impact the performance of neural networks.\n",
    "\n",
    "## Splitting Data into Training and Validation Sets\n",
    "\n",
    "To train a neural network effectively, the available data must be divided into at least two sets: a training set and a validation set.\n",
    "\n",
    "### Significance of each set:\n",
    "\n",
    "1. **Training Set**:\n",
    "    - This dataset is used for the actual training of the neural network. The model learns to associate the inputs with the outputs from the patterns it identifies in this data.\n",
    "\n",
    "2. **Validation Set**:\n",
    "    - This dataset is used to evaluate the performance of the model during the training process, but it is not used to train the model. The validation set helps in tuning the model's hyperparameters and provides an unbiased evaluation. It is crucial for preventing overfitting.\n",
    "\n",
    "Sometimes, a third set, called the test set, is used to provide an unbiased final evaluation of the final model fit on the training dataset.\n",
    "\n",
    "## Iterative Training Process\n",
    "\n",
    "Training a neural network typically involves the following iterative process:\n",
    "\n",
    "1. **Initialization**:\n",
    "    - Start by initializing the network's weights, often randomly or using a heuristic.\n",
    "\n",
    "2. **Forward Pass**:\n",
    "    - For each batch of data in the training set, carry out the forward pass through the network to obtain the output predictions.\n",
    "\n",
    "3. **Loss Calculation**:\n",
    "    - Calculate the loss (error) by comparing the network’s predictions to the actual target values using a loss function. This step quantifies how well the model is performing.\n",
    "\n",
    "4. **Backpropagation**:\n",
    "    - Use the backpropagation algorithm to calculate the gradient of the loss function with respect to each weight and bias in the network.\n",
    "\n",
    "5. **Update Weights and Biases**:\n",
    "    - Adjust the weights and biases using an optimization algorithm such as gradient descent. This step uses the gradients from the backpropagation step to tweak the model in a direction that decreases the loss.\n",
    "\n",
    "6. **Validation**:\n",
    "    - After several training iterations, evaluate the model on the validation set to monitor its performance and make adjustments to the learning rate or other aspects of the model if necessary.\n",
    "\n",
    "7. **Repeat**:\n",
    "    - Repeat the forward pass, loss calculation, backpropagation, and weight update steps until the model achieves a satisfactory level of accuracy, or until it begins to overfit or underfit.\n",
    "\n",
    "8. **Hyperparameter Tuning**:\n",
    "    - Throughout the training process, adjust hyperparameters (like learning rate, number of layers, number of neurons per layer, batch size, etc.) to find the best settings for the model.\n",
    "\n",
    "9. **Early Stopping**:\n",
    "    - This is a form of regularization used to avoid overfitting. Training is stopped as soon as the validation error starts increasing, despite improvements in the training error.\n",
    "\n",
    "This structured and iterative process ensures that the neural network learns effectively from the training data, optimizing its parameters to generalize well on unseen data. The key to successful neural network training lies in carefully managing the balance between model complexity and training data adequacy, ensuring robust preprocessing, and continuously monitoring and evaluating model performance."
   ]
  },
  {
   "cell_type": "markdown",
   "id": "kIkXQMjw4ToT",
   "metadata": {
    "id": "kIkXQMjw4ToT"
   },
   "source": [
    "# Simple PyTorch Example for Backpropagation and Training\n",
    "\n",
    "Let’s assume we have a dataset with two features and a binary label.\n",
    "\n",
    "### Step 1: Imports and Setup"
   ]
  },
  {
   "cell_type": "code",
   "execution_count": 11,
   "id": "aXOIHMTS4qFB",
   "metadata": {
    "id": "aXOIHMTS4qFB"
   },
   "outputs": [
    {
     "name": "stdout",
     "output_type": "stream",
     "text": [
      "tensor([[0.1000, 0.2000],\n",
      "        [0.4000, 0.5000],\n",
      "        [0.7000, 0.8000],\n",
      "        [1.0000, 1.1000]])\n",
      "tensor([[0.],\n",
      "        [0.],\n",
      "        [1.],\n",
      "        [1.]])\n"
     ]
    }
   ],
   "source": [
    "import torch\n",
    "import torch.nn as nn\n",
    "import torch.optim as optim #package implementing various optimization algorithms.\n",
    "\n",
    "# Example data: features and labels\n",
    "# Feature tensor (4 samples, 2 features each)\n",
    "X = torch.tensor([[0.1, 0.2], [0.4, 0.5], [0.7, 0.8], [1.0, 1.1]], dtype=torch.float32)\n",
    "# Labels (binary classification)\n",
    "Y = torch.tensor([[0], [0], [1], [1]], dtype=torch.float32)\n",
    "print(X)\n",
    "print(Y)"
   ]
  },
  {
   "attachments": {},
   "cell_type": "markdown",
   "id": "aQNR88So4raj",
   "metadata": {
    "id": "aQNR88So4raj"
   },
   "source": [
    "### Step 2: Define the Model\n",
    "\n",
    "We define a simple neural network with one hidden layer. The model uses sigmoid activations, appropriate for binary classification. The model has 2 input neurons, 10 hidden layer neurons, and 1 output neuron. All neurons as fully connected (linear).\n",
    "<img src='Images/diagram2.png'>"
   ]
  },
  {
   "cell_type": "code",
   "execution_count": 12,
   "id": "M-QpBGTn404M",
   "metadata": {
    "id": "M-QpBGTn404M"
   },
   "outputs": [],
   "source": [
    "# Simple Neural Network with one hidden layer\n",
    "class BinaryClassifier(nn.Module):  #defines a new class BinaryClassifier that \n",
    "                                    #inherits from nn.Module, which is the base \n",
    "                                    #class for all neural network modules in PyTorch\n",
    "    def __init__(self):\n",
    "                                    #This defines the constructor (__init__) method \n",
    "                                    #of the class, which is called when an instance \n",
    "                                    #of BinaryClassifier is created.\n",
    "                                    #\n",
    "        super(BinaryClassifier, self).__init__()\n",
    "                                    #This calls the constructor of the parent class \n",
    "                                    #(nn.Module) to properly initialize the inherited \n",
    "                                    #functionality.\n",
    "                                    #\n",
    "        self.hidden = nn.Linear(2, 10)  # Input to hidden layer linear transformation.\n",
    "                                    #This defines the first layer, self.hidden, which \n",
    "                                    #is a fully connected (linear) layer. It takes 2 \n",
    "                                    #input features (2 input nodes) and outputs 10 features \n",
    "                                    #(10 hidden nodes). \n",
    "                                    #The nn.Linear(2, 10) means the layer will perform \n",
    "                                    #a linear transformation: output=xW+b, where W is \n",
    "                                    #the weight matrix and b is the bias term.\n",
    "                                    #\n",
    "        self.output = nn.Linear(10, 1)  # Hidden to output layer linear transformation\n",
    "                                    #It takes 10 input features (10 hidden nodes) and\n",
    "                                    #outputs 1 output feature (1 output node).\n",
    "        self.sigmoid = nn.Sigmoid()    # Activation function\n",
    "\n",
    "    def forward(self, x):\n",
    "        x = self.sigmoid(self.hidden(x))\n",
    "        x = self.sigmoid(self.output(x))\n",
    "        return x\n",
    "\n",
    "# Create a model instance\n",
    "model = BinaryClassifier()"
   ]
  },
  {
   "cell_type": "markdown",
   "id": "-u-8H7qR44bS",
   "metadata": {
    "id": "-u-8H7qR44bS"
   },
   "source": [
    "### Step 3: Define Loss Function and Optimizer\n",
    "\n",
    "Loss Function: We use the Binary Cross-Entropy Loss (BCELoss), which is common for binary classification tasks.\n",
    "\n",
    "Optimizer: SGD (Stochastic Gradient Descent) is used to update the weights of the network."
   ]
  },
  {
   "cell_type": "code",
   "execution_count": 13,
   "id": "z23_FkLg5DUV",
   "metadata": {
    "id": "z23_FkLg5DUV"
   },
   "outputs": [],
   "source": [
    "# Loss function\n",
    "criterion = nn.BCELoss()\n",
    "# Optimizer (Stochastic Gradient Descent)\n",
    "optimizer = optim.SGD(model.parameters(), lr=0.01)"
   ]
  },
  {
   "cell_type": "markdown",
   "id": "MVexoxAC5G54",
   "metadata": {
    "id": "MVexoxAC5G54"
   },
   "source": [
    "### Step 4: Training Process\n",
    "\n",
    "Training Loop: In each epoch, the model performs a forward pass, calculates the loss, performs backpropagation to get the gradients, and updates the model parameters."
   ]
  },
  {
   "cell_type": "code",
   "execution_count": 14,
   "id": "QkPWDnX45QFb",
   "metadata": {
    "colab": {
     "base_uri": "https://localhost:8080/"
    },
    "executionInfo": {
     "elapsed": 758,
     "status": "ok",
     "timestamp": 1722028598692,
     "user": {
      "displayName": "ALI Khodabandeh",
      "userId": "12378673642654761573"
     },
     "user_tz": 300
    },
    "id": "QkPWDnX45QFb",
    "outputId": "8ce510e5-1156-49c1-fadd-ed782cd20d85"
   },
   "outputs": [
    {
     "name": "stdout",
     "output_type": "stream",
     "text": [
      "Epoch 100/1000, Loss: 0.6959154605865479\n",
      "Epoch 200/1000, Loss: 0.6885647177696228\n",
      "Epoch 300/1000, Loss: 0.6820482611656189\n",
      "Epoch 400/1000, Loss: 0.675652265548706\n",
      "Epoch 500/1000, Loss: 0.6692174673080444\n",
      "Epoch 600/1000, Loss: 0.6626821160316467\n",
      "Epoch 700/1000, Loss: 0.6560043692588806\n",
      "Epoch 800/1000, Loss: 0.6491500735282898\n",
      "Epoch 900/1000, Loss: 0.6420903205871582\n",
      "Epoch 1000/1000, Loss: 0.6348017454147339\n"
     ]
    }
   ],
   "source": [
    "# Number of epochs (full passes through the dataset)\n",
    "epochs = 1000\n",
    "for epoch in range(epochs):\n",
    "    # Forward pass: Compute predicted y by passing x to the model\n",
    "    Y_pred = model(X)\n",
    "\n",
    "    # Compute loss\n",
    "    loss = criterion(Y_pred, Y)\n",
    "\n",
    "    # Zero gradients, perform a backward pass, and update the weights.\n",
    "    optimizer.zero_grad() #Resets the gradients of all optimized\n",
    "                          #\n",
    "    loss.backward()       #backward() method is called on the output tensor, which \n",
    "                          #initiates the gradient computation process.\n",
    "                          #During the backward pass: PyTorch’s autograd system \n",
    "                          #recursively computes the gradients of the loss with \n",
    "                          #respect to each tensor in the computation graph, using \n",
    "                          #the chain rule. The gradients are stored in the .grad \n",
    "                          #attribute of each tensor. The gradients are propagated \n",
    "                          #from the output tensor to the input tensors, allowing the \n",
    "                          #model’s parameters to be updated.\n",
    "    optimizer.step()\n",
    "\n",
    "    # Print loss every 100 epochs\n",
    "    if (epoch+1) % 100 == 0:\n",
    "        print(f'Epoch {epoch+1}/{epochs}, Loss: {loss.item()}')"
   ]
  },
  {
   "cell_type": "markdown",
   "id": "BT0FQ9pO5Zaz",
   "metadata": {
    "id": "BT0FQ9pO5Zaz"
   },
   "source": [
    "### Step 5: Evaluate the Model"
   ]
  },
  {
   "cell_type": "code",
   "execution_count": 15,
   "id": "Fz5b_3gG5a3L",
   "metadata": {
    "colab": {
     "base_uri": "https://localhost:8080/"
    },
    "executionInfo": {
     "elapsed": 211,
     "status": "ok",
     "timestamp": 1722028600410,
     "user": {
      "displayName": "ALI Khodabandeh",
      "userId": "12378673642654761573"
     },
     "user_tz": 300
    },
    "id": "Fz5b_3gG5a3L",
    "outputId": "655d9108-1566-4885-f1c5-402676f19d42"
   },
   "outputs": [
    {
     "name": "stdout",
     "output_type": "stream",
     "text": [
      "Accuracy 1.0\n"
     ]
    }
   ],
   "source": [
    "# After training, check the model's predictions\n",
    "with torch.no_grad():  #disable gradient computation, which reduces memory consumption \n",
    "                       #and speeds up inference.\n",
    "    Y_pred = model(X)\n",
    "    predicted = Y_pred.round()  # Round predictions to 0 or 1\n",
    "    accuracy = (predicted == Y).float().mean()\n",
    "    print(\"Accuracy\", accuracy.item())"
   ]
  },
  {
   "cell_type": "markdown",
   "id": "LYzCN8Fn6Zvq",
   "metadata": {
    "id": "LYzCN8Fn6Zvq"
   },
   "source": [
    "# Evaluation Metrics for Classification\n",
    "\n",
    "Evaluation metrics are crucial for understanding the effectiveness of a machine learning model. They help in quantifying the model's performance in terms of accuracy and error. This notebook explores several key metrics used in classification tasks: Accuracy, Precision, Recall, F1-score, and the Confusion Matrix.\n",
    "\n",
    "## 1. Accuracy\n",
    "\n",
    "Accuracy is one of the most straightforward metrics used in classification. It measures the proportion of true results among the total number of cases examined.\n",
    "\n",
    "$Accuracy = \\frac{\\text{Number of correct predictions}}{\\text{Total number of predictions}}$\n",
    "\n",
    "However, accuracy might not always be the best indicator of a model's performance, especially in cases with imbalanced datasets."
   ]
  },
  {
   "cell_type": "code",
   "execution_count": 17,
   "id": "RFTO1fF66huJ",
   "metadata": {
    "colab": {
     "base_uri": "https://localhost:8080/"
    },
    "executionInfo": {
     "elapsed": 191,
     "status": "ok",
     "timestamp": 1722029251205,
     "user": {
      "displayName": "ALI Khodabandeh",
      "userId": "12378673642654761573"
     },
     "user_tz": 300
    },
    "id": "RFTO1fF66huJ",
    "outputId": "aefe5864-5ec5-4eb5-fe40-0d109de482a9"
   },
   "outputs": [
    {
     "name": "stdout",
     "output_type": "stream",
     "text": [
      "Accuracy: 0.875\n"
     ]
    }
   ],
   "source": [
    "from sklearn.metrics import accuracy_score\n",
    "\n",
    "# Example data\n",
    "y_true = [0, 0, 1, 1, 0, 1, 0, 0]\n",
    "y_pred = [0, 0, 1, 1, 0, 1, 1, 0]\n",
    "\n",
    "# Calculate Accuracy\n",
    "accuracy = accuracy_score(y_true, y_pred)\n",
    "print(\"Accuracy:\", accuracy)"
   ]
  },
  {
   "cell_type": "markdown",
   "id": "-C5pv1qw6lfD",
   "metadata": {
    "id": "-C5pv1qw6lfD"
   },
   "source": [
    "## 2. Precision, Recall, and F1-score\n",
    "\n",
    "These metrics provide more insight into the classification performance, especially when dealing with imbalanced datasets.\n",
    "\n",
    "- **Precision**: Indicates the proportion of positive identifications that were actually correct.\n",
    "- **Recall**: Measures the proportion of actual positives that were correctly identified.\n",
    "- **F1-score**: The harmonic mean of precision and recall, considering both false positives and false negatives.\n",
    "\n",
    "**Formulas:**\n",
    "\n",
    "<center>\n",
    "\n",
    "$Precision = \\frac{\\text{True Positives}}{\\text{True Positives} + \\text{False Positives}}$\n",
    "\n",
    "$Recall = \\frac{\\text{True Positives}}{\\text{True Positives} + \\text{False Negatives}}$\n",
    "\n",
    "$\\text{F1 score} = 2 \\times \\frac{\\text{Precision} \\times \\text{Recall}}{\\text{Precision} + \\text{Recall}}$\n",
    "\n",
    "</center>"
   ]
  },
  {
   "cell_type": "code",
   "execution_count": 18,
   "id": "IQuEYb6R62Wl",
   "metadata": {
    "colab": {
     "base_uri": "https://localhost:8080/"
    },
    "executionInfo": {
     "elapsed": 214,
     "status": "ok",
     "timestamp": 1722029253748,
     "user": {
      "displayName": "ALI Khodabandeh",
      "userId": "12378673642654761573"
     },
     "user_tz": 300
    },
    "id": "IQuEYb6R62Wl",
    "outputId": "f4cc9250-2733-4641-8fde-ef8db123a215"
   },
   "outputs": [
    {
     "name": "stdout",
     "output_type": "stream",
     "text": [
      "Precision: 0.75\n",
      "Recall: 1.0\n",
      "F1 Score: 0.8571428571428571\n"
     ]
    }
   ],
   "source": [
    "from sklearn.metrics import precision_score, recall_score, f1_score\n",
    "\n",
    "# Calculate Precision, Recall, and F1-score\n",
    "precision = precision_score(y_true, y_pred)\n",
    "recall = recall_score(y_true, y_pred)\n",
    "f1 = f1_score(y_true, y_pred)\n",
    "\n",
    "print(\"Precision:\", precision)\n",
    "print(\"Recall:\", recall)\n",
    "print(\"F1 Score:\", f1)"
   ]
  },
  {
   "cell_type": "markdown",
   "id": "bL09kYBF7CWr",
   "metadata": {
    "id": "bL09kYBF7CWr"
   },
   "source": [
    "## 3. Confusion Matrix\n",
    "\n",
    "The confusion matrix is a table used to describe the performance of a classification model on a set of test data for which the true values are known.\n",
    "\n",
    "**Structure of Confusion Matrix:**\n",
    "\n",
    "|                | Predicted Positive | Predicted Negative |\n",
    "|----------------|--------------------|--------------------|\n",
    "| Actual Positive | True Positive (TP) | False Negative (FN) |\n",
    "| Actual Negative | False Positive (FP) | True Negative (TN) |"
   ]
  },
  {
   "cell_type": "code",
   "execution_count": 20,
   "id": "9XyDzAKK7FQ_",
   "metadata": {
    "colab": {
     "base_uri": "https://localhost:8080/",
     "height": 564
    },
    "executionInfo": {
     "elapsed": 589,
     "status": "ok",
     "timestamp": 1722029269235,
     "user": {
      "displayName": "ALI Khodabandeh",
      "userId": "12378673642654761573"
     },
     "user_tz": 300
    },
    "id": "9XyDzAKK7FQ_",
    "outputId": "04ea90f8-f77b-4c23-c50e-8b071848a1dd"
   },
   "outputs": [
    {
     "data": {
      "image/png": "[encoded data removed]",
      "text/plain": [
       "<Figure size 800x600 with 2 Axes>"
      ]
     },
     "metadata": {},
     "output_type": "display_data"
    }
   ],
   "source": [
    "from sklearn.metrics import confusion_matrix\n",
    "import matplotlib.pyplot as plt\n",
    "import seaborn as sns\n",
    "\n",
    "# Calculate and display confusion matrix\n",
    "conf_matrix = confusion_matrix(y_true, y_pred)\n",
    "\n",
    "# Plotting using seaborn\n",
    "plt.figure(figsize=(8,6))\n",
    "sns.heatmap(conf_matrix, annot=True, fmt='d', cmap='Blues', xticklabels=['Predicted 0', 'Predicted 1'], yticklabels=['Actual 0', 'Actual 1'])\n",
    "plt.ylabel('True Label')\n",
    "plt.xlabel('Predicted Label')\n",
    "plt.title('Confusion Matrix')\n",
    "plt.show()"
   ]
  },
  {
   "cell_type": "markdown",
   "id": "aaHZMOT29BnQ",
   "metadata": {
    "id": "aaHZMOT29BnQ"
   },
   "source": [
    "In this plot:\n",
    "- FP (Upper Right): 1\n",
    "- FN (Lower Left): 0\n",
    "\n",
    "The Recall metric is 100% because we do not have any False Negative."
   ]
  },
  {
   "cell_type": "markdown",
   "id": "1hd3v4dN-bT8",
   "metadata": {
    "id": "1hd3v4dN-bT8"
   },
   "source": [
    "# Overfitting and Underfitting in Machine Learning\n",
    "\n",
    "Understanding overfitting and underfitting is crucial for developing machine learning models that perform well not just on the training data but also on unseen data. This notebook explores their definitions, examples, and strategies to mitigate these issues.\n",
    "\n",
    "## Definitions and Examples\n",
    "\n",
    "### 1. Overfitting\n",
    "\n",
    "Overfitting occurs when a model learns the detail and noise in the training data to the extent that it negatively impacts the performance of the model on new data. This means the model performs very well on the training data but poorly on any new, unseen data.\n",
    "\n",
    "**Example:**\n",
    "Imagine training a model to recognize dogs in pictures. If overfitted, it might only recognize the dogs that were in the training dataset and fail to generalize to new types of dogs not present in the training data.\n",
    "\n",
    "### 2. Underfitting\n",
    "\n",
    "Underfitting occurs when a model is too simple to learn the underlying pattern of the data, resulting in poor performance on both the training data and new data.\n",
    "\n",
    "**Example:**\n",
    "If a model trained to recognize dogs is underfitting, it might fail to recognize dogs that slightly differ from those in its training dataset, indicating it has not learned the defining characteristics of what distinguishes a dog."
   ]
  },
  {
   "cell_type": "markdown",
   "id": "TvdqxN2R-kH1",
   "metadata": {
    "id": "TvdqxN2R-kH1"
   },
   "source": [
    "## Techniques to Mitigate Overfitting and Underfitting\n",
    "\n",
    "### Regularization\n",
    "\n",
    "Regularization modifies the learning algorithm to reduce the complexity of the model to prevent overfitting. Common regularization techniques include L1 and L2 regularization.\n",
    "\n",
    "**L1 Regularization (Lasso):**\n",
    "It adds a penalty equal to the absolute value of the magnitude of coefficients. This can lead to sparse models where some coefficient can become zero.\n",
    "\n",
    "**L2 Regularization (Ridge):**\n",
    "It adds a penalty equal to the square of the magnitude of coefficients. This tends to spread the error among all the terms, hence shrinking the coefficients."
   ]
  },
  {
   "cell_type": "code",
   "execution_count": 21,
   "id": "F3nIvvXD-pn0",
   "metadata": {
    "colab": {
     "base_uri": "https://localhost:8080/"
    },
    "executionInfo": {
     "elapsed": 361,
     "status": "ok",
     "timestamp": 1722029877790,
     "user": {
      "displayName": "ALI Khodabandeh",
      "userId": "12378673642654761573"
     },
     "user_tz": 300
    },
    "id": "F3nIvvXD-pn0",
    "outputId": "cbbd3ecb-7654-4835-ad4c-13aaa3dface8"
   },
   "outputs": [
    {
     "name": "stdout",
     "output_type": "stream",
     "text": [
      "Coefficients: [1.77958909]\n"
     ]
    }
   ],
   "source": [
    "# Example of using L2 regularization in a linear regression model\n",
    "from sklearn.linear_model import Ridge\n",
    "import numpy as np\n",
    "\n",
    "# Generating some synthetic data: X are features and y is the target\n",
    "np.random.seed(0)\n",
    "X = np.random.rand(100, 1)\n",
    "y = 2 * X.squeeze() + np.random.randn(100) * 0.1\n",
    "\n",
    "# Create and train a Ridge regression model\n",
    "ridge_model = Ridge(alpha=1.0)  # alpha is the regularization strength\n",
    "ridge_model.fit(X, y)\n",
    "\n",
    "print(\"Coefficients:\", ridge_model.coef_)"
   ]
  },
  {
   "cell_type": "markdown",
   "id": "Sx_CEfHf-3tR",
   "metadata": {
    "id": "Sx_CEfHf-3tR"
   },
   "source": [
    "### Dropout\n",
    "\n",
    "Dropout is a technique used in training neural networks by randomly setting the outgoing edges of hidden units to zero at each update of the training phase.\n",
    "\n",
    "### Cross-Validation\n",
    "\n",
    "Cross-validation is a method used to estimate the skill of a model on new data. It involves partitioning the data into subsets, training the model on some subsets while validating on others.\n",
    "\n",
    "### Early Stopping\n",
    "\n",
    "Early stopping involves stopping the training process before the learner passes a certain number of epochs to prevent overfitting.\n",
    "\n",
    "### Pruning\n",
    "\n",
    "Pruning involves removing parts of the model that contribute the least to the output, simplifying the model.\n",
    "\n",
    "### Increasing Training Data\n",
    "\n",
    "Having more data can help the model generalize better, thus reducing the risk of overfitting.\n",
    "\n",
    "### Feature Selection\n",
    "\n",
    "Reducing the number of input features. It helps to simplify the model and reduce the risk of overfitting."
   ]
  },
  {
   "cell_type": "markdown",
   "id": "w_hEbNWGqJZU",
   "metadata": {
    "id": "w_hEbNWGqJZU"
   },
   "source": [
    "# Hands-On Neural Network Exercises with MNIST Dataset\n",
    "\n",
    "In these exercises, you will gain practical experience by building a neural network to recognize handwritten digits from the MNIST dataset using PyTorch. You will experiment with different architectures and activation functions, and then analyze and visualize the performance of your models.\n",
    "\n",
    "## 1. Build a Neural Network for a Simple Classification Task\n",
    "\n",
    "The MNIST dataset, which consists of a set of 70,000 small images (28x28 pixels in size) of digits written by high school students and employees of the US Census Bureau, is a standard dataset used in computer vision and deep learning for benchmarking classification algorithms. Example of MNIST dataset follows.\n",
    "\n",
    "<img src='Images/MNIST.png'>\n",
    "\n",
    "### Step 1: Import Required Libraries"
   ]
  },
  {
   "cell_type": "code",
   "execution_count": 22,
   "id": "_uwbQD_gqKym",
   "metadata": {
    "id": "_uwbQD_gqKym"
   },
   "outputs": [],
   "source": [
    "import torch\n",
    "import torchvision #A package in PyTorch that provides utilities, datasets, and models \n",
    "                   #specifically designed for computer vision tasks.\n",
    "                   #\n",
    "import torchvision.transforms as transforms\n",
    "                   #Contains various image transformation utilities that can be used \n",
    "                   #to preprocess the data (e.g., resizing, cropping, normalizing, \n",
    "                   #flipping, etc.).\n",
    "                   #\n",
    "from torch import nn, optim\n",
    "from torch.utils.data import DataLoader\n",
    "import matplotlib.pyplot as plt"
   ]
  },
  {
   "cell_type": "markdown",
   "id": "IPrpbhltqOxM",
   "metadata": {
    "id": "IPrpbhltqOxM"
   },
   "source": [
    "### Step 2: Load and Prepare the MNIST Dataset"
   ]
  },
  {
   "cell_type": "code",
   "execution_count": 23,
   "id": "7_p-uyDVqSLz",
   "metadata": {
    "colab": {
     "base_uri": "https://localhost:8080/"
    },
    "executionInfo": {
     "elapsed": 2719,
     "status": "ok",
     "timestamp": 1722108435090,
     "user": {
      "displayName": "ALI Khodabandeh",
      "userId": "12378673642654761573"
     },
     "user_tz": 300
    },
    "id": "7_p-uyDVqSLz",
    "outputId": "6846b2ec-e9b4-4621-f771-6a81ec295cb0"
   },
   "outputs": [],
   "source": [
    "# Transformations applied on each image\n",
    "#\n",
    "#This line of code is defining a data transformation pipeline using PyTorch's \n",
    "#torchvision.transforms module. transforms.Compose() is used to combine multiple \n",
    "#transformations into one sequential pipeline. In this case, it first converts \n",
    "#the image to a tensor using ToTensor(), then normalizes the tensor using Normalize().\n",
    "transform = transforms.Compose([transforms.ToTensor(), \n",
    "                                transforms.Normalize((0.5,), \n",
    "                                (0.5,))])\n",
    "\n",
    "# Loading MNIST dataset from torchvision\n",
    "train_set = torchvision.datasets.MNIST(root='./data', train=True, download=True, transform=transform)\n",
    "test_set = torchvision.datasets.MNIST(root='./data', train=False, download=True, transform=transform)\n",
    "\n",
    "# Dataloader: acts as an iterator over the dataset, providing batches of data to \n",
    "# the model during training or testing.\n",
    "#\n",
    "#train_loader: Will load the training data in batches of 64 samples. The samples \n",
    "#will be randomly shuffled at the start of each epoch to ensure the model does not \n",
    "#get biased by the order of the data.\n",
    "train_loader = DataLoader(train_set, batch_size=64, shuffle=True)\n",
    "#\n",
    "#test_loader: Will load the test data in batches of 64 samples without shuffling. \n",
    "#During evaluation (testing), the model will process the test data in a consistent \n",
    "#order for each batch.\n",
    "test_loader = DataLoader(test_set, batch_size=64, shuffle=False)"
   ]
  },
  {
   "cell_type": "markdown",
   "id": "wlTjEJLSqWXj",
   "metadata": {
    "id": "wlTjEJLSqWXj"
   },
   "source": [
    "### Step 3: Define the Neural Network Architecture"
   ]
  },
  {
   "cell_type": "code",
   "execution_count": 24,
   "id": "ySPWIBolqaLt",
   "metadata": {
    "colab": {
     "base_uri": "https://localhost:8080/"
    },
    "executionInfo": {
     "elapsed": 153,
     "status": "ok",
     "timestamp": 1722108462692,
     "user": {
      "displayName": "ALI Khodabandeh",
      "userId": "12378673642654761573"
     },
     "user_tz": 300
    },
    "id": "ySPWIBolqaLt",
    "outputId": "f5f38ff6-a21e-44e8-c9aa-24381641be2e"
   },
   "outputs": [
    {
     "name": "stdout",
     "output_type": "stream",
     "text": [
      "NeuralNetwork(\n",
      "  (flatten): Flatten(start_dim=1, end_dim=-1)\n",
      "  (linear_relu_stack): Sequential(\n",
      "    (0): Linear(in_features=784, out_features=128, bias=True)\n",
      "    (1): ReLU()\n",
      "    (2): Linear(in_features=128, out_features=64, bias=True)\n",
      "    (3): ReLU()\n",
      "    (4): Linear(in_features=64, out_features=10, bias=True)\n",
      "  )\n",
      ")\n"
     ]
    }
   ],
   "source": [
    "class NeuralNetwork(nn.Module):\n",
    "    def __init__(self):\n",
    "        super(NeuralNetwork, self).__init__()\n",
    "        self.flatten = nn.Flatten() #nn.Flatten() converts this multi-dimensional \n",
    "                                #tensor into a 1D vector by flattening all dimensions\n",
    "        self.linear_relu_stack = nn.Sequential(\n",
    "                                #nn.Sequential() is a PyTorch container module that \n",
    "                                #allows you to define a series of layers that will \n",
    "                                #be applied in the order they are listed. In this case,\n",
    "                                #it's a stack of fully connected layers (linear layers)\n",
    "                                #and activation functions (ReLU).\n",
    "            nn.Linear(28*28, 128), #28x28 input size (image) to 128 hidden nodes\n",
    "            nn.ReLU(),\n",
    "            nn.Linear(128, 64),   #128 hidden nodes to 64 hidden nodes\n",
    "            nn.ReLU(),\n",
    "            nn.Linear(64, 10)     #64 hidden nodes to 10 output nodes, one per each digit \n",
    "                                  #to be recognized\n",
    "        )\n",
    "\n",
    "    def forward(self, x):\n",
    "        x = self.flatten(x)\n",
    "        logits = self.linear_relu_stack(x)\n",
    "        return logits\n",
    "\n",
    "model = NeuralNetwork()\n",
    "print(model)"
   ]
  },
  {
   "cell_type": "markdown",
   "id": "QiQ2-zEtqdMn",
   "metadata": {
    "id": "QiQ2-zEtqdMn"
   },
   "source": [
    "### Step 4: Define Loss Function and Optimizer"
   ]
  },
  {
   "cell_type": "code",
   "execution_count": 25,
   "id": "neA_6ypDqh6e",
   "metadata": {
    "id": "neA_6ypDqh6e"
   },
   "outputs": [],
   "source": [
    "loss_fn = nn.CrossEntropyLoss()\n",
    "optimizer = optim.Adam(model.parameters(), lr=0.001)"
   ]
  },
  {
   "cell_type": "markdown",
   "id": "1Kn0Q1BeqkU6",
   "metadata": {
    "id": "1Kn0Q1BeqkU6"
   },
   "source": [
    "### Step 5: Train the Model"
   ]
  },
  {
   "cell_type": "code",
   "execution_count": 26,
   "id": "RKhioDwkqn4w",
   "metadata": {
    "colab": {
     "base_uri": "https://localhost:8080/"
    },
    "executionInfo": {
     "elapsed": 118587,
     "status": "ok",
     "timestamp": 1722108673651,
     "user": {
      "displayName": "ALI Khodabandeh",
      "userId": "12378673642654761573"
     },
     "user_tz": 300
    },
    "id": "RKhioDwkqn4w",
    "outputId": "84a554e6-f595-4dd1-8171-0d0d4b6be184"
   },
   "outputs": [
    {
     "name": "stdout",
     "output_type": "stream",
     "text": [
      "Epoch 1\n",
      "-------------------------------\n",
      "loss: 2.321530  [    0/60000]\n",
      "loss: 0.702591  [ 6400/60000]\n",
      "loss: 0.487640  [12800/60000]\n",
      "loss: 0.278466  [19200/60000]\n",
      "loss: 0.375190  [25600/60000]\n",
      "loss: 0.304684  [32000/60000]\n",
      "loss: 0.363044  [38400/60000]\n",
      "loss: 0.247770  [44800/60000]\n",
      "loss: 0.378318  [51200/60000]\n",
      "loss: 0.140609  [57600/60000]\n",
      "Epoch 2\n",
      "-------------------------------\n",
      "loss: 0.332604  [    0/60000]\n",
      "loss: 0.286270  [ 6400/60000]\n",
      "loss: 0.187192  [12800/60000]\n",
      "loss: 0.283501  [19200/60000]\n",
      "loss: 0.228820  [25600/60000]\n",
      "loss: 0.115170  [32000/60000]\n",
      "loss: 0.178735  [38400/60000]\n",
      "loss: 0.180949  [44800/60000]\n",
      "loss: 0.042956  [51200/60000]\n",
      "loss: 0.178326  [57600/60000]\n",
      "Epoch 3\n",
      "-------------------------------\n",
      "loss: 0.180849  [    0/60000]\n",
      "loss: 0.097765  [ 6400/60000]\n",
      "loss: 0.178740  [12800/60000]\n",
      "loss: 0.199006  [19200/60000]\n",
      "loss: 0.077973  [25600/60000]\n",
      "loss: 0.182312  [32000/60000]\n",
      "loss: 0.014283  [38400/60000]\n",
      "loss: 0.145272  [44800/60000]\n",
      "loss: 0.221724  [51200/60000]\n",
      "loss: 0.201264  [57600/60000]\n",
      "Epoch 4\n",
      "-------------------------------\n",
      "loss: 0.173608  [    0/60000]\n",
      "loss: 0.060822  [ 6400/60000]\n",
      "loss: 0.123020  [12800/60000]\n",
      "loss: 0.028818  [19200/60000]\n",
      "loss: 0.018576  [25600/60000]\n",
      "loss: 0.158478  [32000/60000]\n",
      "loss: 0.118996  [38400/60000]\n",
      "loss: 0.217185  [44800/60000]\n",
      "loss: 0.065327  [51200/60000]\n",
      "loss: 0.146677  [57600/60000]\n",
      "Epoch 5\n",
      "-------------------------------\n",
      "loss: 0.117299  [    0/60000]\n",
      "loss: 0.080056  [ 6400/60000]\n",
      "loss: 0.029518  [12800/60000]\n",
      "loss: 0.044021  [19200/60000]\n",
      "loss: 0.107193  [25600/60000]\n",
      "loss: 0.110047  [32000/60000]\n",
      "loss: 0.030053  [38400/60000]\n",
      "loss: 0.052772  [44800/60000]\n",
      "loss: 0.098421  [51200/60000]\n",
      "loss: 0.142077  [57600/60000]\n",
      "Done training!\n"
     ]
    }
   ],
   "source": [
    "def train(dataloader, model, loss_fn, optimizer):\n",
    "    size = len(dataloader.dataset)\n",
    "    model.train()\n",
    "    for batch, (X, y) in enumerate(dataloader):\n",
    "        pred = model(X)\n",
    "        loss = loss_fn(pred, y)\n",
    "\n",
    "        optimizer.zero_grad()\n",
    "        loss.backward()\n",
    "        optimizer.step()\n",
    "\n",
    "        if batch % 100 == 0:\n",
    "            loss, current = loss.item(), batch * len(X)\n",
    "            print(f\"loss: {loss:>7f}  [{current:>5d}/{size:>5d}]\")\n",
    "\n",
    "# Train the model\n",
    "epochs = 5\n",
    "for t in range(epochs):\n",
    "    print(f\"Epoch {t+1}\\n-------------------------------\")\n",
    "    train(train_loader, model, loss_fn, optimizer)\n",
    "print(\"Done training!\")"
   ]
  },
  {
   "cell_type": "markdown",
   "id": "S6GTX02dq6fz",
   "metadata": {
    "id": "S6GTX02dq6fz"
   },
   "source": [
    "## 2. Experiment with Different Architectures and Activation Functions\n",
    "\n",
    "Modify the network by changing the number of layers, the number of neurons in each layer, and the type of activation functions (e.g., Sigmoid, Tanh). Observe how these changes affect performance.\n",
    "\n",
    "## 3. Analyze and Visualize the Performance\n",
    "\n",
    "### Step 1: Evaluate the Model"
   ]
  },
  {
   "cell_type": "code",
   "execution_count": 27,
   "id": "qdfaoDy1rIpM",
   "metadata": {
    "colab": {
     "base_uri": "https://localhost:8080/"
    },
    "executionInfo": {
     "elapsed": 3182,
     "status": "ok",
     "timestamp": 1722108683781,
     "user": {
      "displayName": "ALI Khodabandeh",
      "userId": "12378673642654761573"
     },
     "user_tz": 300
    },
    "id": "qdfaoDy1rIpM",
    "outputId": "0f39962e-0329-488f-808c-00ffd86672f7"
   },
   "outputs": [
    {
     "name": "stdout",
     "output_type": "stream",
     "text": [
      "Test Error: \n",
      " Accuracy: 96.5%, Avg loss: 0.110287 \n",
      "\n"
     ]
    }
   ],
   "source": [
    "def test(dataloader, model, loss_fn):\n",
    "    size = len(dataloader.dataset)\n",
    "    num_batches = len(dataloader)\n",
    "    model.eval()\n",
    "    test_loss, correct = 0, 0\n",
    "    with torch.no_grad():\n",
    "        for X, y in dataloader:\n",
    "            pred = model(X)\n",
    "            test_loss += loss_fn(pred, y).item()\n",
    "            correct += (pred.argmax(1) == y).type(torch.float).sum().item()\n",
    "    test_loss /= num_batches\n",
    "    correct /= size\n",
    "    print(f\"Test Error: \\n Accuracy: {(100*correct):>0.1f}%, Avg loss: {test_loss:>8f} \\n\")\n",
    "\n",
    "# Evaluate the model\n",
    "test(test_loader, model, loss_fn)"
   ]
  },
  {
   "cell_type": "markdown",
   "id": "hbslFtJIrJuk",
   "metadata": {
    "id": "hbslFtJIrJuk"
   },
   "source": [
    "### Step 2: Visualize the Loss and Accuracy"
   ]
  },
  {
   "cell_type": "markdown",
   "id": "9lX3X6nUr-oF",
   "metadata": {
    "id": "9lX3X6nUr-oF"
   },
   "source": [
    "To visualize the loss and accuracy over training epochs in PyTorch, you first need to modify the training and testing functions to record these metrics during the training process. Here’s how you can implement this along with the plotting code using Matplotlib:\n",
    "\n",
    "### Modified Training and Testing Functions\n",
    "\n",
    "First, ensure your training and testing functions are structured to capture the necessary data for plotting."
   ]
  },
  {
   "cell_type": "code",
   "execution_count": 28,
   "id": "fUwXcS0UrPef",
   "metadata": {
    "id": "fUwXcS0UrPef"
   },
   "outputs": [],
   "source": [
    "import matplotlib.pyplot as plt\n",
    "\n",
    "def train(dataloader, model, loss_fn, optimizer):\n",
    "    size = len(dataloader.dataset)\n",
    "    train_loss, correct = 0, 0\n",
    "\n",
    "    for batch, (X, y) in enumerate(dataloader):\n",
    "        X, y = X.to(device), y.to(device)  # Move data to device (CPU or GPU)\n",
    "        pred = model(X)\n",
    "        loss = loss_fn(pred, y)\n",
    "\n",
    "        optimizer.zero_grad()\n",
    "        loss.backward()\n",
    "        optimizer.step()\n",
    "\n",
    "        train_loss += loss.item()\n",
    "        correct += (pred.argmax(1) == y).type(torch.float).sum().item()\n",
    "\n",
    "    train_loss /= size\n",
    "    accuracy = 100 * correct / size\n",
    "    return train_loss, accuracy\n",
    "\n",
    "def test(dataloader, model, loss_fn):\n",
    "    size = len(dataloader.dataset)\n",
    "    num_batches = len(dataloader)\n",
    "    test_loss, correct = 0, 0\n",
    "    with torch.no_grad():\n",
    "        for X, y in dataloader:\n",
    "            X, y = X.to(device), y.to(device)\n",
    "            pred = model(X)\n",
    "            test_loss += loss_fn(pred, y).item()\n",
    "            correct += (pred.argmax(1) == y).type(torch.float).sum().item()\n",
    "\n",
    "    test_loss /= num_batches\n",
    "    accuracy = 100 * correct / size\n",
    "    return test_loss, accuracy"
   ]
  },
  {
   "cell_type": "markdown",
   "id": "BeBDGi-KsLoF",
   "metadata": {
    "id": "BeBDGi-KsLoF"
   },
   "source": [
    "### Training and Capturing Data\n",
    "\n",
    "Next, set up your training loop to capture these metrics over each epoch."
   ]
  },
  {
   "cell_type": "code",
   "execution_count": 29,
   "id": "HXtFKco7sNko",
   "metadata": {
    "colab": {
     "base_uri": "https://localhost:8080/"
    },
    "executionInfo": {
     "elapsed": 121971,
     "status": "ok",
     "timestamp": 1722109229691,
     "user": {
      "displayName": "ALI Khodabandeh",
      "userId": "12378673642654761573"
     },
     "user_tz": 300
    },
    "id": "HXtFKco7sNko",
    "outputId": "7569d1bf-b609-4218-c531-490803cf12b8"
   },
   "outputs": [
    {
     "name": "stdout",
     "output_type": "stream",
     "text": [
      "Epoch 1\n",
      "-------------------------------\n",
      "Train Loss: 0.0012, Train Accuracy: 97.48%\n",
      "Test Loss: 0.0948, Test Accuracy: 96.94%\n",
      "Epoch 2\n",
      "-------------------------------\n",
      "Train Loss: 0.0011, Train Accuracy: 97.65%\n",
      "Test Loss: 0.1104, Test Accuracy: 96.72%\n",
      "Epoch 3\n",
      "-------------------------------\n",
      "Train Loss: 0.0010, Train Accuracy: 97.86%\n",
      "Test Loss: 0.0931, Test Accuracy: 97.25%\n",
      "Epoch 4\n",
      "-------------------------------\n",
      "Train Loss: 0.0009, Train Accuracy: 98.22%\n",
      "Test Loss: 0.1053, Test Accuracy: 96.95%\n",
      "Epoch 5\n",
      "-------------------------------\n",
      "Train Loss: 0.0008, Train Accuracy: 98.29%\n",
      "Test Loss: 0.0863, Test Accuracy: 97.44%\n"
     ]
    }
   ],
   "source": [
    "epochs = 5\n",
    "train_losses, test_losses = [], []\n",
    "train_accuracies, test_accuracies = [], []\n",
    "\n",
    "# Automatic device selection\n",
    "device = torch.device(\"cuda\" if torch.cuda.is_available() else \"cpu\")\n",
    "\n",
    "for epoch in range(epochs):\n",
    "    print(f\"Epoch {epoch+1}\\n-------------------------------\")\n",
    "    train_loss, train_accuracy = train(train_loader, model, loss_fn, optimizer)\n",
    "    test_loss, test_accuracy = test(test_loader, model, loss_fn)\n",
    "\n",
    "    train_losses.append(train_loss)\n",
    "    test_losses.append(test_loss)\n",
    "    train_accuracies.append(train_accuracy)\n",
    "    test_accuracies.append(test_accuracy)\n",
    "    print(f\"Train Loss: {train_loss:.4f}, Train Accuracy: {train_accuracy:.2f}%\")\n",
    "    print(f\"Test Loss: {test_loss:.4f}, Test Accuracy: {test_accuracy:.2f}%\")"
   ]
  },
  {
   "cell_type": "markdown",
   "id": "GuyI5umMs6Ij",
   "metadata": {
    "id": "GuyI5umMs6Ij"
   },
   "source": [
    "### Visualizing the Performance\n",
    "\n",
    "Finally, plot the collected loss and accuracy data using Matplotlib."
   ]
  },
  {
   "cell_type": "code",
   "execution_count": 30,
   "id": "rEZYM3ats8yP",
   "metadata": {
    "colab": {
     "base_uri": "https://localhost:8080/",
     "height": 487
    },
    "executionInfo": {
     "elapsed": 1012,
     "status": "ok",
     "timestamp": 1722109290742,
     "user": {
      "displayName": "ALI Khodabandeh",
      "userId": "12378673642654761573"
     },
     "user_tz": 300
    },
    "id": "rEZYM3ats8yP",
    "outputId": "655f412e-c941-4002-a7a8-6ae76919e525"
   },
   "outputs": [
    {
     "data": {
      "image/png": "[encoded data removed]",
      "text/plain": [
       "<Figure size 1200x500 with 2 Axes>"
      ]
     },
     "metadata": {},
     "output_type": "display_data"
    }
   ],
   "source": [
    "plt.figure(figsize=(12, 5))\n",
    "\n",
    "# Plotting training and validation loss\n",
    "plt.subplot(1, 2, 1)\n",
    "plt.plot(train_losses, label='Training Loss')\n",
    "plt.plot(test_losses, label='Validation Loss')\n",
    "plt.title('Loss over Epochs')\n",
    "plt.xlabel('Epoch')\n",
    "plt.ylabel('Loss')\n",
    "plt.legend()\n",
    "\n",
    "# Plotting training and validation accuracy\n",
    "plt.subplot(1, 2, 2)\n",
    "plt.plot(train_accuracies, label='Training Accuracy')\n",
    "plt.plot(test_accuracies, label='Validation Accuracy')\n",
    "plt.title('Accuracy over Epochs')\n",
    "plt.xlabel('Epoch')\n",
    "plt.ylabel('Accuracy (%)')\n",
    "plt.legend()\n",
    "\n",
    "plt.show()"
   ]
  },
  {
   "attachments": {},
   "cell_type": "markdown",
   "id": "6efa7cdc",
   "metadata": {},
   "source": [
    "# References\n",
    "\n",
    "1. Pytorch, Deep Learning Python Library, https://pytorch.org.\n",
    "2. Torch.nn, create and train ANNs, https://pytorch.org/tutorials/beginner/nn_tutorial.html\n",
    "3. Practical Deep Learning!, https://course.fast.ai/\n",
    "4. Hugging Face, download and train state-of-the-art pretrained models,  https://huggingface.co/docs/transformers/index"
   ]
  },
  {
   "cell_type": "markdown",
   "id": "40eefe43",
   "metadata": {},
   "source": [
    "_Last updated on 09.5.2025 23:40 pm<br>\n",
    "(C) 2025 Complex Adaptive Systems Laboratory, all rights reserved._"
   ]
  },
  {
   "cell_type": "code",
   "execution_count": null,
   "id": "252908ee-16b3-4e16-83eb-a246c91f868d",
   "metadata": {},
   "outputs": [],
   "source": []
  }
 ],
 "metadata": {
  "colab": {
   "provenance": []
  },
  "kernelspec": {
   "display_name": "Python 3 (ipykernel)",
   "language": "python",
   "name": "python3"
  },
  "language_info": {
   "codemirror_mode": {
    "name": "ipython",
    "version": 3
   },
   "file_extension": ".py",
   "mimetype": "text/x-python",
   "name": "python",
   "nbconvert_exporter": "python",
   "pygments_lexer": "ipython3",
   "version": "3.12.11"
  }
 },
 "nbformat": 4,
 "nbformat_minor": 5
}
