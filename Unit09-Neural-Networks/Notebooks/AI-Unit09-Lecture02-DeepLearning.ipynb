{
 "cells": [
  {
   "cell_type": "markdown",
   "id": "640aae0f-d997-4e79-a19a-51d9cf33aad2",
   "metadata": {
    "id": "640aae0f-d997-4e79-a19a-51d9cf33aad2"
   },
   "source": [
    "# Unit 09 Lecture 2 - Deep Neural Networks\n",
    "CAI 4823: Artificial Intelligence for  Industrial Engineers<br>\n",
    "University of Central Florida<br>\n",
    "Ali Khodabandeh Yalabadi, Dr. Arachchige and Dr. Garibay."
   ]
  },
  {
   "cell_type": "markdown",
   "id": "33c7f96b",
   "metadata": {},
   "source": [
    "## Notebook Learning Objectives\n",
    "After studying this notebook students should be able to:\n",
    "- Understand basic concepts on deep learning including the following\n",
    "- Convolutional Neural Networks (CNNs)\n",
    "- Recurrent Neural Networks (RNNs)\n",
    "- Autoencoders\n",
    "- Generative Adversarial Networks (GANs)\n",
    "- Transformer Models"
   ]
  },
  {
   "cell_type": "markdown",
   "id": "YokmZ3ecv9hN",
   "metadata": {
    "id": "YokmZ3ecv9hN"
   },
   "source": [
    "# Introduction to Deep Learning\n",
    "\n",
    "Deep Learning is a transformative technology that has profound implications for a myriad of industries. In this section, we'll dive into what deep learning is, how it differs from traditional machine learning techniques and its unique advantages.\n",
    "\n",
    "## Definition and Overview\n",
    "\n",
    "Deep Learning is a subfield of machine learning concerned with algorithms inspired by the structure and function of the brain called artificial neural networks (ANNs). This approach to machine learning features models that learn to perform tasks directly from text, images, or sound. Deep learning models can achieve state-of-the-art accuracy, sometimes exceeding human-level performance.\n",
    "\n",
    "## What is Deep Learning?\n",
    "\n",
    "Deep learning is a machine learning technique that teaches computers to do what comes naturally to humans: learn by example. It is the key technology behind driverless cars, enabling them to recognize a stop sign, or to distinguish a pedestrian from a lamppost. It is the key to voice control in consumer devices like phones, tablets, TVs, and hands-free speakers. Deep learning is getting lots of attention lately and for good reason. It’s achieving results that were not possible before.\n",
    "\n",
    "In essence, deep learning is a method of how to build and train neural networks. These neural networks are networks of numerical values, or weights, that are initially set randomly. Deep learning models are trained by using large sets of labeled data and neural network architectures that learn features directly from the data without the need for manual feature extraction.\n",
    "\n",
    "## Key Differences Between Traditional Machine Learning, ANN, and Deep Learning\n",
    "\n",
    "### Traditional Machine Learning:\n",
    "- **Model Complexity:** Traditional models are often limited to shallow learning with one or two layers of processing.\n",
    "- **Feature Engineering:** Heavily relies on manual feature engineering and domain expertise to define the features that are predictive for the task.\n",
    "- **Problem Solving:** Ideal for problems with less complex data and can be solved with algorithms that do not require high levels of data abstraction.\n",
    "\n",
    "### Artificial Neural Networks (ANNs):\n",
    "- **Model Complexity:** Consists of input, output, and one or more hidden layers that can model complex relationships with non-linear processing.\n",
    "- **Feature Engineering:** Requires minimal manual feature engineering, as ANNs can learn to predict output directly from data.\n",
    "- **Problem Solving:** Suitable for more complex problems where non-linear solutions are more effective.\n",
    "\n",
    "### Deep Learning:\n",
    "- **Model Complexity:** Characterized by multiple layers (deep structures), enabling the modeling of very complex relationships.\n",
    "- **Feature Engineering:** Automatically detects important features without human intervention, excelling with unstructured data.\n",
    "- **Problem Solving:** Excels in environments where the input data is high-dimensional and the relationships within the data are complicated.\n",
    "\n",
    "### Comparison:\n",
    "\n",
    "- **Scalability and Performance:** As data scales, deep learning models tend to outperform others because they automatically improve by learning higher-level features. Traditional models may plateau as they might need more manual feature tuning.\n",
    "- **Data Handling:** Traditional machine learning models handle low to moderate dimensional data well, whereas deep learning models excel with high-dimensional data (often referred to as Big Data)."
   ]
  },
  {
   "cell_type": "markdown",
   "id": "cEYFj1A0OLZH",
   "metadata": {
    "id": "cEYFj1A0OLZH"
   },
   "source": [
    "## The most popular and Basic Deep learning Networks:"
   ]
  },
  {
   "cell_type": "markdown",
   "id": "fRRWaqM-w2P0",
   "metadata": {
    "id": "fRRWaqM-w2P0"
   },
   "source": [
    "# Convolutional Neural Networks (CNNs)\n",
    "\n",
    "Convolutional Neural Networks (CNNs) are a class of deep neural networks that are particularly powerful for tasks involving image data. In this section, we explore the components of CNNs, how they work, and build a simple CNN model using PyTorch to classify handwritten digits from the MNIST dataset.\n",
    "\n",
    "\n",
    "## This is how the computer sees an image:\n",
    "\n",
    "Colorful images have three channels; [red, green, blue]\n",
    "\n",
    "Each channel can have a value in the range of [0, 255]\n",
    "\n",
    "<img src='Images/rgb channels.png'>\n",
    "\n",
    "image source: [medium.com](https://medium.com/@Coursesteach/computer-vision-part-7-4e50b0e8b653)\n",
    "\n",
    "We can transform an image to grayscale and have One channel instead of Three.\n",
    "\n",
    "\n",
    "<img src='Images/gray scale.png'>\n",
    "\n",
    "image source: [packtpub.com](https://subscription.packtpub.com/book/data/9781789537147/1/ch01lvl1sec03/transforming-color-space-rgb-lab)\n",
    "\n"
   ]
  },
  {
   "cell_type": "markdown",
   "id": "omUzw-PNW9x3",
   "metadata": {
    "id": "omUzw-PNW9x3"
   },
   "source": [
    "## Understanding Convolutional Layers\n",
    "\n",
    "The first layer in any CNN is typically a convolutional layer. Convolutional layers apply a convolution operation to the input, passing the result to the next layer. This operation involves a filter or kernel, which is a small matrix of weights. This filter is applied to small sections of the input image, a process referred to as sliding the filter over the image.\n",
    "\n",
    "<div>\n",
    "<img src='Images/2D_Convolution_Animation.gif' width=\"500\"/>\n",
    "</div>\n",
    "\n",
    "<!-- ![Google Drive Image](https://drive.google.com/uc?export=view&id=1jYYbYszTmAznb8nHJXFqnS3O--aNaBG1) -->\n",
    "\n",
    "image source: [wikipedia](https://en.m.wikipedia.org/wiki/File:2D_Convolution_Animation.gif)\n",
    "\n",
    "### The Concept of Filters and Feature Detection\n",
    "\n",
    "Filters in convolutional layers are designed to detect specific features in an image, such as edges, corners, or textures. Each filter produces a feature map that emphasizes the areas of the image most strongly activated by the filter's pattern.\n",
    "\n",
    "## Pooling Layers\n",
    "\n",
    "Pooling layers follow convolutional layers and are used to reduce the dimensionality of the feature maps. This reduction helps decrease the computational load, controls overfitting by providing an abstracted form of the representation, and makes the detection of features invariant to scale and orientation changes.\n",
    "\n",
    "### Types of Pooling (Max, Average) and Their Purpose\n",
    "\n",
    "- **Max Pooling**: Returns the maximum value from the portion of the image covered by the kernel. Max pooling helps in extracting sharp features like edges.\n",
    "- **Average Pooling**: Calculates the average of the values in the region covered by the kernel. This form of pooling smooths the image features.\n",
    "\n",
    "<img src='Images/Pooling.gif'/>\n",
    "\n",
    "image source: [bouvet.no](https://www.bouvet.no/bouvet-deler/understanding-convolutional-neural-networks-part-1)\n",
    "\n",
    "\n",
    "\n"
   ]
  },
  {
   "cell_type": "markdown",
   "id": "nr__LiJbiaeg",
   "metadata": {
    "id": "nr__LiJbiaeg"
   },
   "source": [
    "## Why convolution and pooling is necessary?\n",
    "\n",
    "### Convolution\n",
    "\n",
    "1.\tFeature Extraction: Convolution helps in automatically detecting features such as edges, textures, and patterns in an image. It does this by applying filters (also known as kernels) across the input image to produce feature maps.\n",
    "2.\tParameter Sharing: Instead of learning separate weights for every pixel, convolution uses the same filter across the entire image. This reduces the number of parameters and helps the model generalize better.\n",
    "3.\tLocal Connectivity: Each filter focuses on a local region of the image, capturing spatial hierarchies. Lower layers detect simple patterns (edges, colors), while higher layers detect complex patterns (faces, objects).\n",
    "\n",
    "### Pooling\n",
    "\n",
    "1.\tDimensionality Reduction: Pooling reduces the spatial dimensions (width and height) of the feature maps, decreasing computational load and memory usage.\n",
    "2.\tTranslation Invariance: Pooling provides a form of translation invariance by summarizing the features within a region. This means that small translations or shifts in the image do not significantly affect the output.\n",
    "3.\tNoise Reduction: Pooling helps in reducing the noise in the feature maps by taking the dominant presence in a region, making the network more robust.\n",
    "\n",
    "\n",
    "### Combined Importance in Image Processing\n",
    "\n",
    "1.\tEfficiency: Convolutional layers reduce the number of parameters compared to fully connected layers, making the network more computationally efficient.\n",
    "2.\tHierarchical Feature Learning: Convolutions capture spatial hierarchies of features, from simple to complex. Pooling helps in focusing on the most salient features, preserving essential information while discarding irrelevant details.\n",
    "3.\tScalability: Pooling layers allow the model to manage large images by reducing their spatial dimensions step-by-step, making it feasible to handle high-resolution images.\n",
    "\n",
    "Example\n",
    "\n",
    "For instance, when processing an image of a cat:\n",
    "\n",
    "- Convolutional Layers: Early layers might detect edges and textures of the fur, while deeper layers might recognize the shape of the cat’s face or the presence of eyes and ears.\n",
    "- Pooling Layers: By summarizing these detected features, pooling layers ensure that the important features are retained while reducing the spatial dimensions, leading to a more efficient and robust representation."
   ]
  },
  {
   "cell_type": "markdown",
   "id": "o4Zq1pq5b-ti",
   "metadata": {
    "id": "o4Zq1pq5b-ti"
   },
   "source": [
    "## Fully Connected Layers\n",
    "\n",
    "After several convolutional and pooling layers, the high-level reasoning in the neural network is done via fully connected layers. A fully connected layer takes all neurons in the previous layer (often flattened) and connects it to every neuron it feeds.\n",
    "\n",
    "<img src='Images/cnn and flattening.png'/>\n",
    "\n",
    "\n",
    "## Transition from Convolutional Layers to Predictions\n",
    "\n",
    "To transition from the feature extraction layers (convolutional and pooling) to the classification part of a CNN, the output of the last pooling or convolutional layer is flattened and fed into a fully connected layer. This layer then connects to the final classification layer that predicts the class of the input image.\n",
    "\n",
    "<img src='Images/cnn diagram.png'/>\n",
    "\n",
    "\n",
    "## Building a Simple CNN Model\n",
    "\n",
    "Now, let's build a simple CNN model using PyTorch to classify MNIST digits."
   ]
  },
  {
   "cell_type": "markdown",
   "id": "3VYHMmbyZWIn",
   "metadata": {
    "id": "3VYHMmbyZWIn"
   },
   "source": [
    "### MNIST dataset\n",
    "- A training set of 60,000 examples, and a test set of 10,000 examples.\n",
    "- Each image is 28x28 pixel, normalized in grey scale (0-255).\n",
    "\n",
    "<img src='Images/MNIST.png'/>\n",
    "\n",
    "image source: [medium.com](https://medium.com/@binaya.puri/mnist-dataset-for-machine-learning-8987e0b20bb3)\n",
    "\n",
    "### Step-by-Step Code to Build a CNN Using PyTorch"
   ]
  },
  {
   "cell_type": "code",
   "execution_count": 1,
   "id": "Npn-Tj4IxFaF",
   "metadata": {
    "colab": {
     "base_uri": "https://localhost:8080/"
    },
    "executionInfo": {
     "elapsed": 496,
     "status": "ok",
     "timestamp": 1722272477835,
     "user": {
      "displayName": "ALI Khodabandeh",
      "userId": "12378673642654761573"
     },
     "user_tz": 300
    },
    "id": "Npn-Tj4IxFaF",
    "outputId": "447168f8-41b9-42b5-8d1c-8247f215bc37"
   },
   "outputs": [
    {
     "name": "stdout",
     "output_type": "stream",
     "text": [
      "SimpleCNN(\n",
      "  (conv1): Conv2d(1, 32, kernel_size=(3, 3), stride=(1, 1), padding=(1, 1))\n",
      "  (pool): MaxPool2d(kernel_size=2, stride=2, padding=0, dilation=1, ceil_mode=False)\n",
      "  (conv2): Conv2d(32, 64, kernel_size=(3, 3), stride=(1, 1), padding=(1, 1))\n",
      "  (fc1): Linear(in_features=3136, out_features=256, bias=True)\n",
      "  (fc2): Linear(in_features=256, out_features=10, bias=True)\n",
      "  (relu): ReLU()\n",
      ")\n"
     ]
    }
   ],
   "source": [
    "import torch\n",
    "import torch.nn as nn\n",
    "import torch.optim as optim\n",
    "import torchvision.transforms as transforms\n",
    "from torchvision.datasets import MNIST\n",
    "from torch.utils.data import DataLoader\n",
    "\n",
    "# Define the CNN architecture\n",
    "class SimpleCNN(nn.Module):\n",
    "    def __init__(self):\n",
    "        super(SimpleCNN, self).__init__()\n",
    "        self.conv1 = nn.Conv2d(1, 32, kernel_size=3, padding=1)\n",
    "        self.pool = nn.MaxPool2d(kernel_size=2, stride=2)\n",
    "        self.conv2 = nn.Conv2d(32, 64, kernel_size=3, padding=1)\n",
    "        self.fc1 = nn.Linear(64 * 7 * 7, 256)\n",
    "        self.fc2 = nn.Linear(256, 10)\n",
    "        self.relu = nn.ReLU()\n",
    "\n",
    "    def forward(self, x):\n",
    "        x = self.pool(self.relu(self.conv1(x)))\n",
    "        x = self.pool(self.relu(self.conv2(x)))\n",
    "        x = x.view(-1, 64 * 7 * 7)  # Flatten the output for the fully connected layer\n",
    "        x = self.relu(self.fc1(x))\n",
    "        x = self.fc2(x)\n",
    "        return x\n",
    "\n",
    "# Initialize the model\n",
    "model = SimpleCNN()\n",
    "print(model)\n",
    "\n",
    "# Loss and optimizer\n",
    "criterion = nn.CrossEntropyLoss()\n",
    "optimizer = optim.Adam(model.parameters(), lr=0.001)\n",
    "\n",
    "# Load MNIST data\n",
    "transform = transforms.Compose([transforms.ToTensor(), transforms.Normalize((0.5,), (0.5,))])\n",
    "train_data = MNIST(root='data', train=True, download=True, transform=transform)\n",
    "test_data = MNIST(root='data', train=False, download=True, transform=transform)\n",
    "train_loader = DataLoader(train_data, batch_size=64, shuffle=True)\n",
    "test_loader = DataLoader(test_data, batch_size=64, shuffle=False)"
   ]
  },
  {
   "cell_type": "code",
   "execution_count": 2,
   "id": "f7173b23",
   "metadata": {},
   "outputs": [
    {
     "data": {
      "text/plain": [
       "Dataset MNIST\n",
       "    Number of datapoints: 10000\n",
       "    Root location: data\n",
       "    Split: Test\n",
       "    StandardTransform\n",
       "Transform: Compose(\n",
       "               ToTensor()\n",
       "               Normalize(mean=(0.5,), std=(0.5,))\n",
       "           )"
      ]
     },
     "execution_count": 2,
     "metadata": {},
     "output_type": "execute_result"
    }
   ],
   "source": [
    "test_data "
   ]
  },
  {
   "cell_type": "markdown",
   "id": "RkbNPklwxJI5",
   "metadata": {
    "id": "RkbNPklwxJI5"
   },
   "source": [
    "### Training a CNN on Image Data\n",
    "\n",
    "Now that our CNN model is set up, let’s train it on the MNIST dataset."
   ]
  },
  {
   "cell_type": "code",
   "execution_count": 3,
   "id": "gAcYwWsKxK3V",
   "metadata": {
    "id": "gAcYwWsKxK3V"
   },
   "outputs": [],
   "source": [
    "def train(model, device, train_loader, optimizer, epoch):\n",
    "    model.train()\n",
    "    for batch_idx, (data, target) in enumerate(train_loader):\n",
    "        data, target = data.to(device), target.to(device)\n",
    "        optimizer.zero_grad()\n",
    "        output = model(data)\n",
    "        loss = criterion(output, target)\n",
    "        loss.backward()\n",
    "        optimizer.step()\n",
    "        if (batch_idx + 1) % 100 == 0:\n",
    "            print('Train Epoch: {} [{}/{} ({:.0f}%)]\\tLoss: {:.6f}'.format(\n",
    "                epoch, batch_idx * len(data), len(train_loader.dataset),\n",
    "                100. * batch_idx / len(train_loader), loss.item()))"
   ]
  },
  {
   "cell_type": "markdown",
   "id": "gVHCumULxe-O",
   "metadata": {
    "id": "gVHCumULxe-O"
   },
   "source": [
    "### Evaluate the Model\n",
    "\n",
    "First, we need to write a function to evaluate the model on the test data, capturing the loss and accuracy to assess its performance."
   ]
  },
  {
   "cell_type": "code",
   "execution_count": 4,
   "id": "MxFmfQvoxsm3",
   "metadata": {
    "id": "MxFmfQvoxsm3"
   },
   "outputs": [],
   "source": [
    "def evaluate(model, device, test_loader, criterion):\n",
    "    model.eval()  # Set the model to evaluation mode\n",
    "    test_loss = 0\n",
    "    correct = 0\n",
    "    with torch.no_grad():  # Operations inside don't track history\n",
    "        for data, target in test_loader:\n",
    "            data, target = data.to(device), target.to(device)\n",
    "            output = model(data)\n",
    "            test_loss += criterion(output, target).item()  # Sum up batch loss\n",
    "            pred = output.argmax(dim=1, keepdim=True)  # Get the index of the max log-probability\n",
    "            correct += pred.eq(target.view_as(pred)).sum().item()\n",
    "\n",
    "    test_loss /= len(test_loader.dataset)\n",
    "    test_accuracy = 100. * correct / len(test_loader.dataset)\n",
    "    print('\\nTest set: Average loss: {:.4f}, Accuracy: {}/{} ({:.0f}%)\\n'.format(\n",
    "        test_loss, correct, len(test_loader.dataset), test_accuracy))\n",
    "\n",
    "    return test_loss, test_accuracy"
   ]
  },
  {
   "cell_type": "markdown",
   "id": "BBEAgqY6xxrc",
   "metadata": {
    "id": "BBEAgqY6xxrc"
   },
   "source": [
    "### Visualize the Performance\n",
    "\n",
    "Now, you’ll need to store the test results over training epochs and plot them. Let’s modify the training loop to record these values, and then plot them."
   ]
  },
  {
   "cell_type": "code",
   "execution_count": 5,
   "id": "TQwrJswtx0JJ",
   "metadata": {
    "colab": {
     "base_uri": "https://localhost:8080/",
     "height": 1000
    },
    "executionInfo": {
     "elapsed": 548150,
     "status": "ok",
     "timestamp": 1722273031490,
     "user": {
      "displayName": "ALI Khodabandeh",
      "userId": "12378673642654761573"
     },
     "user_tz": 300
    },
    "id": "TQwrJswtx0JJ",
    "outputId": "7009e294-7a7d-4117-fdda-daf8bda69745"
   },
   "outputs": [
    {
     "name": "stdout",
     "output_type": "stream",
     "text": [
      "Train Epoch: 1 [6336/60000 (11%)]\tLoss: 0.239525\n",
      "Train Epoch: 1 [12736/60000 (21%)]\tLoss: 0.095501\n",
      "Train Epoch: 1 [19136/60000 (32%)]\tLoss: 0.028446\n",
      "Train Epoch: 1 [25536/60000 (43%)]\tLoss: 0.013751\n",
      "Train Epoch: 1 [31936/60000 (53%)]\tLoss: 0.075191\n",
      "Train Epoch: 1 [38336/60000 (64%)]\tLoss: 0.129436\n",
      "Train Epoch: 1 [44736/60000 (75%)]\tLoss: 0.047241\n",
      "Train Epoch: 1 [51136/60000 (85%)]\tLoss: 0.130567\n",
      "Train Epoch: 1 [57536/60000 (96%)]\tLoss: 0.012251\n",
      "\n",
      "Test set: Average loss: 0.0007, Accuracy: 9854/10000 (99%)\n",
      "\n",
      "Train Epoch: 2 [6336/60000 (11%)]\tLoss: 0.048498\n",
      "Train Epoch: 2 [12736/60000 (21%)]\tLoss: 0.014218\n",
      "Train Epoch: 2 [19136/60000 (32%)]\tLoss: 0.057985\n",
      "Train Epoch: 2 [25536/60000 (43%)]\tLoss: 0.143709\n",
      "Train Epoch: 2 [31936/60000 (53%)]\tLoss: 0.018182\n",
      "Train Epoch: 2 [38336/60000 (64%)]\tLoss: 0.017770\n",
      "Train Epoch: 2 [44736/60000 (75%)]\tLoss: 0.005542\n",
      "Train Epoch: 2 [51136/60000 (85%)]\tLoss: 0.197572\n",
      "Train Epoch: 2 [57536/60000 (96%)]\tLoss: 0.017124\n",
      "\n",
      "Test set: Average loss: 0.0005, Accuracy: 9895/10000 (99%)\n",
      "\n",
      "Train Epoch: 3 [6336/60000 (11%)]\tLoss: 0.001257\n",
      "Train Epoch: 3 [12736/60000 (21%)]\tLoss: 0.001888\n",
      "Train Epoch: 3 [19136/60000 (32%)]\tLoss: 0.044842\n",
      "Train Epoch: 3 [25536/60000 (43%)]\tLoss: 0.016039\n",
      "Train Epoch: 3 [31936/60000 (53%)]\tLoss: 0.000558\n",
      "Train Epoch: 3 [38336/60000 (64%)]\tLoss: 0.060263\n",
      "Train Epoch: 3 [44736/60000 (75%)]\tLoss: 0.022271\n",
      "Train Epoch: 3 [51136/60000 (85%)]\tLoss: 0.092404\n",
      "Train Epoch: 3 [57536/60000 (96%)]\tLoss: 0.113895\n",
      "\n",
      "Test set: Average loss: 0.0005, Accuracy: 9902/10000 (99%)\n",
      "\n",
      "Train Epoch: 4 [6336/60000 (11%)]\tLoss: 0.004371\n",
      "Train Epoch: 4 [12736/60000 (21%)]\tLoss: 0.040843\n",
      "Train Epoch: 4 [19136/60000 (32%)]\tLoss: 0.026411\n",
      "Train Epoch: 4 [25536/60000 (43%)]\tLoss: 0.000709\n",
      "Train Epoch: 4 [31936/60000 (53%)]\tLoss: 0.000283\n",
      "Train Epoch: 4 [38336/60000 (64%)]\tLoss: 0.028269\n",
      "Train Epoch: 4 [44736/60000 (75%)]\tLoss: 0.056224\n",
      "Train Epoch: 4 [51136/60000 (85%)]\tLoss: 0.174735\n",
      "Train Epoch: 4 [57536/60000 (96%)]\tLoss: 0.029993\n",
      "\n",
      "Test set: Average loss: 0.0004, Accuracy: 9911/10000 (99%)\n",
      "\n",
      "Train Epoch: 5 [6336/60000 (11%)]\tLoss: 0.000422\n",
      "Train Epoch: 5 [12736/60000 (21%)]\tLoss: 0.012290\n",
      "Train Epoch: 5 [19136/60000 (32%)]\tLoss: 0.001074\n",
      "Train Epoch: 5 [25536/60000 (43%)]\tLoss: 0.006897\n",
      "Train Epoch: 5 [31936/60000 (53%)]\tLoss: 0.058289\n",
      "Train Epoch: 5 [38336/60000 (64%)]\tLoss: 0.002387\n",
      "Train Epoch: 5 [44736/60000 (75%)]\tLoss: 0.001599\n",
      "Train Epoch: 5 [51136/60000 (85%)]\tLoss: 0.002515\n",
      "Train Epoch: 5 [57536/60000 (96%)]\tLoss: 0.016325\n",
      "\n",
      "Test set: Average loss: 0.0005, Accuracy: 9905/10000 (99%)\n",
      "\n"
     ]
    },
    {
     "data": {
      "image/png": "[encoded data removed]",
      "text/plain": [
       "<Figure size 1200x500 with 2 Axes>"
      ]
     },
     "metadata": {},
     "output_type": "display_data"
    }
   ],
   "source": [
    "# Initialize lists to monitor test loss and test accuracy\n",
    "test_losses = []\n",
    "test_accuracies = []\n",
    "device = torch.device(\"cuda\" if torch.cuda.is_available() else \"cpu\")\n",
    "\n",
    "# Training loop\n",
    "for epoch in range(1, 6):\n",
    "    train(model, device, train_loader, optimizer, epoch)\n",
    "    test_loss, test_accuracy = evaluate(model, device, test_loader, criterion)\n",
    "    test_losses.append(test_loss)\n",
    "    test_accuracies.append(test_accuracy)\n",
    "\n",
    "# Plotting the metrics\n",
    "import matplotlib.pyplot as plt\n",
    "\n",
    "plt.figure(figsize=(12, 5))\n",
    "\n",
    "# Plotting test loss\n",
    "plt.subplot(1, 2, 1)\n",
    "plt.plot(test_losses, label='Test Loss', color='red')\n",
    "plt.title('Test Loss Over Epochs')\n",
    "plt.xlabel('Epoch')\n",
    "plt.ylabel('Loss')\n",
    "plt.legend()\n",
    "\n",
    "# Plotting test accuracy\n",
    "plt.subplot(1, 2, 2)\n",
    "plt.plot(test_accuracies, label='Test Accuracy', color='blue')\n",
    "plt.title('Test Accuracy Over Epochs')\n",
    "plt.xlabel('Epoch')\n",
    "plt.ylabel('Accuracy (%)')\n",
    "plt.legend()\n",
    "\n",
    "plt.show()"
   ]
  },
  {
   "cell_type": "markdown",
   "id": "cKY8nTwOy5ao",
   "metadata": {
    "id": "cKY8nTwOy5ao"
   },
   "source": [
    "### The figure above shows that after epoch 3, overfitting has occurred."
   ]
  },
  {
   "cell_type": "markdown",
   "id": "PIscnP4Iw_8W",
   "metadata": {
    "id": "PIscnP4Iw_8W"
   },
   "source": [
    "# Overfitting and Underfitting Concepts\n",
    "\n",
    "Underfitting and overfitting are two common problems in machine learning that occur when a model fails to generalize well to new data.\n",
    "\n",
    "## Underfitting\n",
    "\n",
    "Underfitting occurs when a model is too simple to capture the underlying patterns in the data. It results in poor performance on both the training data and unseen test data.\n",
    "\n",
    "Causes:\n",
    "\n",
    "1.\tModel Complexity: The model is not complex enough (e.g., a linear model for a non-linear problem).\n",
    "2.\tInsufficient Training: The model hasn’t been trained for enough epochs, or the optimization process is not effective.\n",
    "3.\tFeature Selection: Not enough relevant features are used, or the features used do not capture the necessary information.\n",
    "\n",
    "Symptoms:\n",
    "\n",
    "- High bias: The model makes strong assumptions about the data.\n",
    "- High training error: The model performs poorly even on the training data.\n",
    "- High test error: The model also performs poorly on new, unseen data.\n",
    "\n",
    "Solutions:\n",
    "\n",
    "- Increase model complexity: Use more complex algorithms or add more parameters.\n",
    "- Train longer: Allow the model to train for more epochs.\n",
    "- Feature engineering: Add or create new features that capture more information.\n",
    "- Reduce regularization: If regularization is too strong, it can prevent the model from learning enough.\n",
    "\n",
    "## Overfitting\n",
    "\n",
    "Overfitting occurs when a model is too complex and learns not only the underlying patterns but also the noise in the training data. This leads to excellent performance on the training data but poor performance on unseen test data.\n",
    "\n",
    "Causes:\n",
    "\n",
    "1.\tModel Complexity: The model is too complex relative to the amount of training data (e.g., a deep neural network with too many layers for a small dataset).\n",
    "2.\tToo Much Training: Training the model for too many epochs can lead to overfitting.\n",
    "3.\tNoise: The model learns the noise and outliers in the training data.\n",
    "\n",
    "Symptoms:\n",
    "\n",
    "- Low training error: The model performs extremely well on the training data.\n",
    "- High test error: The model performs poorly on new, unseen data.\n",
    "- High variance: The model’s performance varies significantly with different subsets of the data.\n",
    "\n",
    "Solutions:\n",
    "\n",
    "- Simplify the model: Use a less complex model or reduce the number of parameters.\n",
    "- Early stopping: Stop training when the performance on a validation set starts to degrade.\n",
    "- Regularization: Techniques such as L1 (lasso) or L2 (ridge) regularization can penalize large coefficients and prevent overfitting.\n",
    "- Cross-validation: Use cross-validation to ensure the model generalizes well.\n",
    "- Data augmentation: Increase the amount of training data or use techniques to artificially create more training examples.\n",
    "\n",
    "### Visual Representation\n",
    "\n",
    "<img src='Images/overfitting.png'/>\n",
    "\n",
    "image source: [towardsdatascience](https://towardsdatascience.com/the-million-dollar-question-when-to-stop-training-deep-learning-models-fa9b488ac04d)\n",
    "\n",
    "- Underfitting: Both training and test errors are high.\n",
    "- Good Fit: Training error is low, and test error is also low.\n",
    "- Overfitting: Training error is very low, but test error is high."
   ]
  },
  {
   "cell_type": "markdown",
   "id": "u1r9Q6OI4isw",
   "metadata": {
    "id": "u1r9Q6OI4isw"
   },
   "source": [
    "## Practical Tips for Training Deep Learning Models\n",
    "\n",
    "Training deep learning models effectively requires more than just a good understanding of neural network architectures. It involves careful consideration of several practical aspects that can significantly influence model performance. This section will discuss essential practices like data preprocessing, model tuning, and strategies to avoid overfitting.\n",
    "\n",
    "### Data Preprocessing and Augmentation\n",
    "\n",
    "#### Data Preprocessing:\n",
    "Proper data preprocessing can improve the efficiency and effectiveness of your training process. This includes tasks like:\n",
    "\n",
    "- Normalization/Standardization: Scale numeric inputs to have zero mean and unit variance, or rescale them to a fixed range between 0 and 1. This helps the model learn more effectively.\n",
    "- Handling Missing Data: Techniques such as imputation or using indicator variables can help manage missing values.\n",
    "- Encoding Categorical Variables: Convert categorical variables using techniques like one-hot encoding or embedding layers.\n",
    "\n",
    "#### Data Augmentation:\n",
    "This technique involves artificially increasing the size and diversity of your training dataset by creating modified versions of images or other data. For instance:\n",
    "\n",
    "- Image Data: Apply transformations like rotations, scaling, flips, and shifts.\n",
    "- Text Data: Use techniques like synonym replacement, random insertion, random swap, and random deletion.\n",
    "- Audio Data: Add noise, change pitch, or speed.\n",
    "\n",
    "These methods help improve the robustness and generalization of your model, especially in applications like image and speech recognition.\n",
    "\n",
    "### Choosing the Right Optimizer and Learning Rate\n",
    "\n",
    "Optimizers: The choice of optimizer can have a significant impact on the training speed and final performance of your model.\n",
    "\n",
    "- SGD (Stochastic Gradient Descent): Simple but effective, often with momentum.\n",
    "- Adam (Adaptive Moment Estimation): Automatically tunes itself and gives good results on a wide range of problems.\n",
    "- RMSprop: Similar to Adam, focusing on adjusting the learning rate based on recent gradients.\n",
    "\n",
    "### Learning Rate:\n",
    "\n",
    "- Fixed Learning Rate: Simple but can be inefficient or lead to suboptimal training.\n",
    "- Dynamic Adjustment: Techniques like learning rate schedules (decay the learning rate over time) or adaptive learning rate methods (e.g., AdaGrad, Adam) can help find a better set of weights more quickly.\n",
    "\n",
    "Experimenting with different optimizers and learning rate schedules is crucial to optimizing model performance.\n",
    "\n",
    "### Regularization Techniques to Avoid Overfitting\n",
    "\n",
    "Overfitting occurs when a model learns details and noise from the training data to an extent that it negatively impacts the performance of the model on new data.\n",
    "\n",
    "- L1/L2 Regularization: Add penalties on layer parameters or layer activity during optimization. L1 can yield sparse models (feature selection), while L2 is good for giving penalty weights close to zero.\n",
    "- Early Stopping: Monitor the model’s performance on a validation set and stop training when performance degrades (indicative of overfitting).\n",
    "\n",
    "#### Dropout\n",
    "\n",
    "Dropout is a powerful regularization technique:\n",
    "\n",
    "- Mechanism: Randomly drop units (along with their connections) from the neural network during training. This prevents units from co-adapting too much and forces the network to learn robust features independently.\n",
    "\n",
    "#### Early Stopping\n",
    "\n",
    "Implementation:\n",
    "\n",
    "- Keep track of the model’s performance on a validation dataset during training.\n",
    "- Stop training as soon as the performance on the validation set starts deteriorating, despite improvements in the training set performance."
   ]
  },
  {
   "cell_type": "markdown",
   "id": "CUEp-I9n5CT6",
   "metadata": {
    "id": "CUEp-I9n5CT6"
   },
   "source": [
    "### Implementing Dropout and Early Stopping in PyTorch"
   ]
  },
  {
   "cell_type": "code",
   "execution_count": 6,
   "id": "YmA8wWGv5Fm2",
   "metadata": {
    "colab": {
     "base_uri": "https://localhost:8080/"
    },
    "executionInfo": {
     "elapsed": 219,
     "status": "ok",
     "timestamp": 1722264003237,
     "user": {
      "displayName": "ALI Khodabandeh",
      "userId": "12378673642654761573"
     },
     "user_tz": 300
    },
    "id": "YmA8wWGv5Fm2",
    "outputId": "73a03367-a1b0-4209-a44b-ba9f5855a1be"
   },
   "outputs": [
    {
     "name": "stdout",
     "output_type": "stream",
     "text": [
      "Epoch 1, Loss: 0.7739743590354919\n",
      "Epoch 2, Loss: 0.8234640955924988\n",
      "Epoch 3, Loss: 0.6933643221855164\n",
      "Epoch 4, Loss: 0.7940622568130493\n",
      "Epoch 5, Loss: 0.72925865650177\n",
      "Epoch 6, Loss: 0.7989929914474487\n",
      "Epoch 7, Loss: 0.7688767910003662\n",
      "Early stopping!\n"
     ]
    }
   ],
   "source": [
    "import torch\n",
    "import torch.nn as nn\n",
    "import torch.optim as optim\n",
    "from torch.utils.data import DataLoader, TensorDataset\n",
    "\n",
    "# Example dataset\n",
    "X_train, y_train = torch.randn(100, 10), torch.randint(0, 2, (100,))\n",
    "train_loader = DataLoader(TensorDataset(X_train, y_train), batch_size=10)\n",
    "\n",
    "# Define the model with Dropout\n",
    "class Net(nn.Module):\n",
    "    def __init__(self):\n",
    "        super(Net, self).__init__()\n",
    "        self.fc1 = nn.Linear(10, 50)\n",
    "        self.dropout = nn.Dropout(0.5)\n",
    "        self.fc2 = nn.Linear(50, 2)\n",
    "\n",
    "    def forward(self, x):\n",
    "        x = torch.relu(self.fc1(x))\n",
    "        x = self.dropout(x)\n",
    "        x = self.fc2(x)\n",
    "        return x\n",
    "\n",
    "model = Net()\n",
    "criterion = nn.CrossEntropyLoss()\n",
    "optimizer = optim.Adam(model.parameters())\n",
    "\n",
    "# Training loop with early stopping\n",
    "best_loss = float('inf')\n",
    "epochs_no_improve = 0\n",
    "n_epochs_stop = 5\n",
    "\n",
    "for epoch in range(100):\n",
    "    model.train()\n",
    "    for data, target in train_loader:\n",
    "        optimizer.zero_grad()\n",
    "        output = model(data)\n",
    "        loss = criterion(output, target)\n",
    "        loss.backward()\n",
    "        optimizer.step()\n",
    "\n",
    "    # Early stopping\n",
    "    val_loss = loss.item()\n",
    "    if val_loss < best_loss:\n",
    "        best_loss = val_loss\n",
    "        epochs_no_improve = 0\n",
    "    else:\n",
    "        epochs_no_improve += 1\n",
    "        if epochs_no_improve == n_epochs_stop:\n",
    "            print('Early stopping!')\n",
    "            break\n",
    "\n",
    "    print(f'Epoch {epoch+1}, Loss: {val_loss}')"
   ]
  },
  {
   "cell_type": "markdown",
   "id": "lquvK3YXy9mt",
   "metadata": {
    "id": "lquvK3YXy9mt"
   },
   "source": [
    "# Recurrent Neural Networks (RNNs)\n",
    "\n",
    "Recurrent Neural Networks (RNNs) are a class of neural networks that excel at processing sequential data. They are widely used for tasks that involve time series, speech, text, and other forms of sequential data. In this section, we explore the architecture and characteristics of RNNs and demonstrate their implementation using PyTorch.\n",
    "\n",
    "## Understanding RNNs\n",
    "\n",
    "Recurrent Neural Networks are designed to handle a sequence of data where the current input is dependent on the previous one. Unlike feedforward neural networks, RNNs have a feedback loop that allows information to persist.\n",
    "\n",
    "## The Architecture of RNNs and How They Process Sequences\n",
    "\n",
    "An RNN processes sequences by iterating through the sequence elements and maintaining a state that contains information relative to what it has seen so far. The key feature of RNNs is their internal state (memory), which captures information about what has been calculated so far.\n",
    "\n",
    "### Example Architecture Diagram\n",
    "Here we show a simple unrolled diagram of an RNN where each node represents a timestep in the sequence, handling one part of the input data.\n",
    "\n",
    "\n",
    "<img src='Images/rnn diagram.png'/>\n",
    "\n",
    "image source: [medium.com](https://medium.com/@poudelsushmita878/recurrent-neural-network-rnn-architecture-explained-1d69560541ef)\n",
    "\n",
    "## Problems with Basic RNNs\n",
    "\n",
    "- **Vanishing Gradients:** Occurs when gradients of the network’s weights become very small, effectively preventing weights from changing their values, which stops the network from further training.\n",
    "- **Exploding Gradients:** Happens when gradients grow too large; it can cause an unstable network where updates may cause the weights to oscillate or diverge.\n",
    "\n",
    "## Advanced RNNs\n",
    "\n",
    "Introduction to LSTM (Long Short-Term Memory) and GRU (Gated Recurrent Units)\n",
    "\n",
    "- **LSTM Units:** Are designed to combat the vanishing gradient problem by incorporating memory cells that regulate the flow of information.\n",
    "- **GRU Units:** Simplified version of LSTMs which also aim to solve the vanishing gradient problem but with fewer parameters and a slightly different structure.\n",
    "\n",
    "<img src='Images/rnn types.png'/>\n",
    "\n",
    "image source: [towardsdatascience](https://towardsdatascience.com/a-brief-introduction-to-recurrent-neural-networks-638f64a61ff4)"
   ]
  },
  {
   "cell_type": "markdown",
   "id": "dS2wdLKs0GK8",
   "metadata": {
    "id": "dS2wdLKs0GK8"
   },
   "source": [
    "## PyTorch RNN Example: Sequence Prediction\n",
    "\n",
    "#### Note: If you want to re-run any code block, you have to run the RNN code from the beginning (section \"1. prepare the data\"), otherwise, you will get an error."
   ]
  },
  {
   "cell_type": "markdown",
   "id": "qqYth0880Sj0",
   "metadata": {
    "id": "qqYth0880Sj0"
   },
   "source": [
    "### 1. Prepare the data\n",
    "\n",
    "Tasks:\n",
    "\n",
    "- Load the given train and test data: \"train.txt\" and \"test.txt\".\n",
    "- Generate the TRAIN and TEST labels.\n",
    "- Normalize the TRAIN and TEST data with sklearn function \"MinMaxScaler\"."
   ]
  },
  {
   "cell_type": "code",
   "execution_count": 7,
   "id": "mfFkhnai0a-P",
   "metadata": {
    "colab": {
     "base_uri": "https://localhost:8080/"
    },
    "executionInfo": {
     "elapsed": 4051,
     "status": "ok",
     "timestamp": 1722280999725,
     "user": {
      "displayName": "ALI Khodabandeh",
      "userId": "12378673642654761573"
     },
     "user_tz": 300
    },
    "id": "mfFkhnai0a-P",
    "outputId": "b61919f0-883b-4307-ce4b-5ff74fb91959"
   },
   "outputs": [
    {
     "name": "stdout",
     "output_type": "stream",
     "text": [
      "\n",
      "Shape of train data: \n",
      " X.shape:  (101, 1, 12) y.shape:  (101, 1)\n",
      "Shape of test data: \n",
      " X.shape:  (17, 1, 12) y.shape:  (17, 1)\n"
     ]
    }
   ],
   "source": [
    "import numpy as np\n",
    "from pandas import read_csv\n",
    "from sklearn.preprocessing import MinMaxScaler\n",
    "\n",
    "# Step 1. Use pandas to read training and testing from txt file.\n",
    "train = read_csv('RNN data/train.txt')[\"Passengers\"]\n",
    "test = read_csv('RNN data/test.txt')[\"Passengers\"]\n",
    "\n",
    "# Step 2. Normalize training and test data into [0, 1].\n",
    "scaler = MinMaxScaler()\n",
    "train = scaler.fit_transform(train.values.reshape(-1, 1))\n",
    "test = scaler.transform(test.values.reshape(-1, 1))\n",
    "\n",
    "# Step 3. Create a training and test datasets.\n",
    "def create_dataset(data, time_step=1):\n",
    "    x, y = [], []\n",
    "    for i in range(len(data) - time_step):\n",
    "        x.append(data[i:(i + time_step)])\n",
    "        y.append(data[i + time_step])\n",
    "    return np.array(x).reshape(-1, 1, time_step), np.array(y)\n",
    "\n",
    "X_train, y_train = create_dataset(train, 12)\n",
    "X_test, y_test = create_dataset(test, 12)\n",
    "\n",
    "\n",
    "# Step 4. Print out the shape of data.\n",
    "print(\"\\nShape of train data: \\n\", \"X.shape: \", X_train.shape, \"y.shape: \", y_train.shape)\n",
    "print(\"Shape of test data: \\n\", \"X.shape: \", X_test.shape, \"y.shape: \", y_test.shape)"
   ]
  },
  {
   "cell_type": "markdown",
   "id": "igMOn4pQ7BRu",
   "metadata": {
    "id": "igMOn4pQ7BRu"
   },
   "source": [
    "### 2. Build the RNN model\n",
    "\n",
    "Tasks:\n",
    "\n",
    "- Build an RNN model with 1 RNN layer and 1 Linear layer, with RNN's hidden size to be 4.\n",
    "- Initialize model, optimizer and criterion.\n",
    "- Train the model for 1000 epochs with batch_size = 10 and print out the average traning loss for every 100 epochs.\n"
   ]
  },
  {
   "cell_type": "code",
   "execution_count": 8,
   "id": "OB2hI9UI7awC",
   "metadata": {
    "id": "OB2hI9UI7awC"
   },
   "outputs": [],
   "source": [
    "import torch\n",
    "X_train = torch.from_numpy(X_train).to(torch.float32).view(-1, 12, 1)\n",
    "y_train = torch.from_numpy(y_train).to(torch.float32)\n",
    "X_test = torch.from_numpy(X_test).to(torch.float32).view(-1, 12, 1)\n",
    "y_test = torch.from_numpy(y_test).to(torch.float32)"
   ]
  },
  {
   "cell_type": "code",
   "execution_count": 9,
   "id": "f_F5SjlN7d0g",
   "metadata": {
    "colab": {
     "base_uri": "https://localhost:8080/"
    },
    "executionInfo": {
     "elapsed": 31089,
     "status": "ok",
     "timestamp": 1722281035524,
     "user": {
      "displayName": "ALI Khodabandeh",
      "userId": "12378673642654761573"
     },
     "user_tz": 300
    },
    "id": "f_F5SjlN7d0g",
    "outputId": "d46effd7-ff21-4b5b-f70c-6bae6a1f35c5"
   },
   "outputs": [
    {
     "name": "stdout",
     "output_type": "stream",
     "text": [
      "Epoch [100/1000], Avg. Loss: 0.0070\n",
      "Epoch [200/1000], Avg. Loss: 0.0054\n",
      "Epoch [300/1000], Avg. Loss: 0.0048\n",
      "Epoch [400/1000], Avg. Loss: 0.0046\n",
      "Epoch [500/1000], Avg. Loss: 0.0046\n",
      "Epoch [600/1000], Avg. Loss: 0.0046\n",
      "Epoch [700/1000], Avg. Loss: 0.0043\n",
      "Epoch [800/1000], Avg. Loss: 0.0043\n",
      "Epoch [900/1000], Avg. Loss: 0.0039\n",
      "Epoch [1000/1000], Avg. Loss: 0.0024\n"
     ]
    }
   ],
   "source": [
    "import torch.nn as nn\n",
    "import torch.optim as optim\n",
    "\n",
    "# Complete the model architecture\n",
    "class RNN(nn.Module):\n",
    "    def __init__(self, input_size, hidden_size, output_size):\n",
    "      super(RNN, self).__init__()\n",
    "      self.hidden_size = hidden_size\n",
    "      self.rnn = nn.RNN(input_size, hidden_size, batch_first=True)\n",
    "      self.fc = nn.Linear(hidden_size, output_size)\n",
    "\n",
    "    def forward(self, x):\n",
    "        h0 = torch.zeros(1, x.shape[0], self.hidden_size) # Initialize hidden state\n",
    "        output, _ = self.rnn(x, h0)\n",
    "        # output shape: (batch_size, seq_length, hidden_size)\n",
    "        output = self.fc(output[:, -1, :]) # Take only the last output\n",
    "        return output\n",
    "\n",
    "# Create an instance of model, optimizer and criterion.\n",
    "input_size = 1\n",
    "hidden_size = 4\n",
    "output_size = 1\n",
    "model = RNN(input_size, hidden_size, output_size)\n",
    "optimizer = optim.Adam(model.parameters(), lr=0.005)\n",
    "criterion = nn.MSELoss()\n",
    "\n",
    "# Train the RNN Model for 1000 epoch and print out the training loss for every 100 epochs.\n",
    "num_epochs = 1000\n",
    "batch_size = 10\n",
    "num_batches = y_train.shape[0] // batch_size\n",
    "for epoch in range(num_epochs):\n",
    "    epoch_loss = 0.0\n",
    "    for i in range(num_batches):\n",
    "        optimizer.zero_grad()\n",
    "        batch_X = X_train[i * batch_size : (i + 1) * batch_size]\n",
    "        batch_Y = y_train[i * batch_size : (i + 1) * batch_size]\n",
    "        output = model(batch_X)\n",
    "        loss = criterion(output, batch_Y)\n",
    "        loss.backward()\n",
    "        optimizer.step()\n",
    "        epoch_loss += loss.item()\n",
    "\n",
    "    if (epoch + 1) % 100 == 0:\n",
    "        avg_loss = epoch_loss / num_batches\n",
    "        print(f\"Epoch [{epoch+1}/{num_epochs}], Avg. Loss: {avg_loss:.4f}\")"
   ]
  },
  {
   "cell_type": "markdown",
   "id": "CScB3HIf7jKk",
   "metadata": {
    "id": "CScB3HIf7jKk"
   },
   "source": [
    "### 3. Evaluate Predictive Model Performance\n",
    "\n",
    "Tasks:\n",
    "\n",
    "- Make prediction on train and test datapoints with the obtained model in section 1.2.\n",
    "- Denormalize the prediction results back to original scale with the scaler. (scaler.inverse_transform function)\n",
    "- Calculate root mean squared error (RMSE) and print out the error for both TRAIN and TEST.\n",
    "- Plot the TEST label and prediction."
   ]
  },
  {
   "cell_type": "code",
   "execution_count": 10,
   "id": "hrceW5Lr7_f0",
   "metadata": {
    "colab": {
     "base_uri": "https://localhost:8080/",
     "height": 464
    },
    "executionInfo": {
     "elapsed": 495,
     "status": "ok",
     "timestamp": 1722281166454,
     "user": {
      "displayName": "ALI Khodabandeh",
      "userId": "12378673642654761573"
     },
     "user_tz": 300
    },
    "id": "hrceW5Lr7_f0",
    "outputId": "3cb14589-3108-4457-f549-dc2ab98173de"
   },
   "outputs": [
    {
     "name": "stdout",
     "output_type": "stream",
     "text": [
      "RMSE train: 14.1334\n",
      "RMSE test: 69.5491\n"
     ]
    },
    {
     "data": {
      "image/png": "[encoded data removed]",
      "text/plain": [
       "<Figure size 640x480 with 1 Axes>"
      ]
     },
     "metadata": {},
     "output_type": "display_data"
    }
   ],
   "source": [
    "# Step 1. Inference above model on training and testing data.\n",
    "\n",
    "model.eval()\n",
    "with torch.no_grad():\n",
    "    pred_test = model(X_test)\n",
    "    pred_train = model(X_train)\n",
    "\n",
    "# Step 2. Denomalization.\n",
    "y_test = scaler.inverse_transform(y_test.numpy())\n",
    "pred_test = scaler.inverse_transform(np.array(pred_test).reshape(-1, 1))\n",
    "\n",
    "y_train = scaler.inverse_transform(y_train.numpy())\n",
    "pred_train = scaler.inverse_transform(np.array(pred_train).reshape(-1, 1))\n",
    "\n",
    "# Step 3. Calculate root mean squared error for training and testing and print.\n",
    "rmse_train = np.sqrt(np.square(np.subtract(y_train, pred_train)).mean())\n",
    "print(f\"RMSE train: {rmse_train:.4f}\")\n",
    "\n",
    "rmse_test = np.sqrt(np.square(np.subtract(y_test, pred_test)).mean())\n",
    "print(f\"RMSE test: {rmse_test:.4f}\")\n",
    "\n",
    "# Step 4. Plot the predictions.\n",
    "import matplotlib.pyplot as plt\n",
    "plt.plot(y_test, label='Actual')\n",
    "plt.plot(pred_test, label='Predicted')\n",
    "plt.legend()\n",
    "plt.show()"
   ]
  },
  {
   "cell_type": "markdown",
   "id": "J6wpFp4t1-zH",
   "metadata": {
    "id": "J6wpFp4t1-zH"
   },
   "source": [
    "# Other Deep Learning Architectures\n",
    "\n",
    "Beyond the commonly discussed convolutional and recurrent neural networks, there are other powerful deep learning architectures that are pivotal for various advanced applications. This section explores two such architectures: Autoencoders and Generative Adversarial Networks (GANs), detailing their mechanisms, uses, and significance in the field.\n",
    "\n",
    "## Autoencoders\n",
    "\n",
    "### What are Autoencoders?\n",
    "\n",
    "Autoencoders are a type of neural network that are used to learn efficient codings of unlabeled data. The network architecture typically consists of two parts:\n",
    "- **Encoder:** This part of the network compresses the input into a latent-space representation. It encodes the input data into a smaller, dense representation, which is a reduced dimensionality version of the input.\n",
    "- **Decoder:** The decoder part of the network reconstructs the data from the latent space back to the original input space. It aims to produce an output that matches the input as closely as possible.\n",
    "\n",
    "Autoencoders are primarily used for the tasks like dimensionality reduction and feature learning. More recently, they have found applications in generating complex data structures as part of generative models."
   ]
  },
  {
   "cell_type": "code",
   "execution_count": 11,
   "id": "bZoV9dQZ3EqN",
   "metadata": {
    "colab": {
     "base_uri": "https://localhost:8080/"
    },
    "executionInfo": {
     "elapsed": 250393,
     "status": "ok",
     "timestamp": 1722263846357,
     "user": {
      "displayName": "ALI Khodabandeh",
      "userId": "12378673642654761573"
     },
     "user_tz": 300
    },
    "id": "bZoV9dQZ3EqN",
    "outputId": "68a1245b-db99-4392-cc4a-189590637d5a"
   },
   "outputs": [
    {
     "name": "stdout",
     "output_type": "stream",
     "text": [
      "Epoch 1, Loss: 0.03598085418343544\n",
      "Epoch 2, Loss: 0.04037200286984444\n",
      "Epoch 3, Loss: 0.0410444475710392\n",
      "Epoch 4, Loss: 0.03507641702890396\n",
      "Epoch 5, Loss: 0.03638499230146408\n",
      "Epoch 6, Loss: 0.030350549146533012\n",
      "Epoch 7, Loss: 0.031901534646749496\n",
      "Epoch 8, Loss: 0.039898548275232315\n",
      "Epoch 9, Loss: 0.029817651957273483\n",
      "Epoch 10, Loss: 0.0324416309595108\n"
     ]
    }
   ],
   "source": [
    "import torch\n",
    "import torch.nn as nn\n",
    "import torchvision.transforms as transforms\n",
    "from torchvision.datasets import MNIST\n",
    "from torch.utils.data import DataLoader\n",
    "\n",
    "# Define the Autoencoder architecture\n",
    "class Autoencoder(nn.Module):\n",
    "    def __init__(self):\n",
    "        super(Autoencoder, self).__init__()\n",
    "        self.encoder = nn.Sequential(\n",
    "            nn.Linear(28*28, 128),\n",
    "            nn.ReLU(),\n",
    "            nn.Linear(128, 64),\n",
    "            nn.ReLU(),\n",
    "            nn.Linear(64, 12),\n",
    "            nn.ReLU(),\n",
    "            nn.Linear(12, 3))  # Compressed representation\n",
    "        self.decoder = nn.Sequential(\n",
    "            nn.Linear(3, 12),\n",
    "            nn.ReLU(),\n",
    "            nn.Linear(12, 64),\n",
    "            nn.ReLU(),\n",
    "            nn.Linear(64, 128),\n",
    "            nn.ReLU(),\n",
    "            nn.Linear(128, 28*28),\n",
    "            nn.Sigmoid())  # Output a value between 0 and 1\n",
    "\n",
    "    def forward(self, x):\n",
    "        x = self.encoder(x)\n",
    "        x = self.decoder(x)\n",
    "        return x\n",
    "\n",
    "# Setup training\n",
    "dataset = MNIST(root='./data', download=True, transform=transforms.ToTensor())\n",
    "dataloader = DataLoader(dataset, batch_size=32, shuffle=True)\n",
    "model = Autoencoder()\n",
    "criterion = nn.MSELoss()\n",
    "optimizer = torch.optim.Adam(model.parameters(), lr=1e-3)\n",
    "\n",
    "# Training loop\n",
    "for epoch in range(10):\n",
    "    for data in dataloader:\n",
    "        img, _ = data\n",
    "        img = img.view(img.size(0), -1)\n",
    "        output = model(img)\n",
    "        loss = criterion(output, img)\n",
    "        optimizer.zero_grad()\n",
    "        loss.backward()\n",
    "        optimizer.step()\n",
    "    print(f'Epoch {epoch+1}, Loss: {loss.item()}')"
   ]
  },
  {
   "cell_type": "markdown",
   "id": "hAgDnCpE3Ffa",
   "metadata": {
    "id": "hAgDnCpE3Ffa"
   },
   "source": [
    "## Generative Adversarial Networks (GANs)\n",
    "\n",
    "### What are GANs?\n",
    "\n",
    "Generative Adversarial Networks (GANs) are a revolutionary approach in generative modeling. They consist of two models: a generative model and a discriminative model. The generator creates candidates while the discriminator evaluates them. The generator generates new data instances, while the discriminator evaluates them against the real data.\n",
    "\n",
    "### Applications and Importance\n",
    "\n",
    "GANs are widely used for image generation, image super-resolution, photo editing, and even generating art. They are particularly known for their ability to generate high-resolution, realistic images."
   ]
  },
  {
   "cell_type": "code",
   "execution_count": 12,
   "id": "n0Nc11SN3Pg6",
   "metadata": {
    "id": "n0Nc11SN3Pg6"
   },
   "outputs": [],
   "source": [
    "import torch\n",
    "from torch import nn\n",
    "\n",
    "# Define generator and discriminator architectures (simplified example)\n",
    "class Generator(nn.Module):\n",
    "    def __init__(self):\n",
    "        super(Generator, self).__init__()\n",
    "        self.model = nn.Sequential(\n",
    "            nn.Linear(100, 256),\n",
    "            nn.ReLU(),\n",
    "            nn.Linear(256, 512),\n",
    "            nn.ReLU(),\n",
    "            nn.Linear(512, 1024),\n",
    "            nn.ReLU(),\n",
    "            nn.Linear(1024, 28*28),\n",
    "            nn.Tanh()\n",
    "        )\n",
    "\n",
    "    def forward(self, z):\n",
    "        return self.model(z)\n",
    "\n",
    "class Discriminator(nn.Module):\n",
    "    def __init__(self):\n",
    "        super(Discriminator, self).__init__()\n",
    "        self.model = nn.Sequential(\n",
    "            nn.Linear(28*28, 1024),\n",
    "            nn.LeakyReLU(0.2),\n",
    "            nn.Linear(1024, 512),\n",
    "            nn.LeakyReLU(0.2),\n",
    "            nn.Linear(512, 256),\n",
    "            nn.LeakyReLU(0.2),\n",
    "            nn.Linear(256, 1),\n",
    "            nn.Sigmoid()\n",
    "        )\n",
    "\n",
    "    def forward(self, img):\n",
    "        return self.model(img)\n",
    "\n",
    "# Instantiate and use the models\n",
    "generator = Generator()\n",
    "discriminator = Discriminator()\n",
    "\n",
    "# Note: Training GANs is an advanced topic and involves careful setup of the loss functions and training dynamics."
   ]
  },
  {
   "cell_type": "markdown",
   "id": "mFjXib5o3yfM",
   "metadata": {
    "id": "mFjXib5o3yfM"
   },
   "source": [
    "## Transformer Models\n",
    "\n",
    "The Transformer model has revolutionized the field of deep learning, particularly in natural language processing (NLP). Since its introduction in the paper “Attention is All You Need” by Vaswani et al. in 2017, the Transformer has become the backbone of most modern NLP systems, including those for language translation, text summarization, and sentiment analysis.\n",
    "\n",
    "### Introduction to Transformer Models\n",
    "\n",
    "Transformers are a type of neural network architecture that rely entirely on self-attention mechanisms to draw global dependencies between input and output, without the use of recurrence or convolution. This design allows for significantly greater parallelization during training and a more efficient handling of sequences, compared to RNNs and CNNs which were previously state-of-the-art for many NLP tasks.\n",
    "\n",
    "### Key Concepts of Transformer Models\n",
    "\n",
    "1. Attention Mechanism: The core idea behind the Transformer model is the attention mechanism, which computes a weighted sum of all input features, with the weights dynamically calculated based on the input itself. This mechanism allows the model to focus on different parts of the input sequence when predicting each part of the output sequence.\n",
    "\n",
    "2. Self-Attention: In self-attention, all the attention weights are calculated solely based on the input sequence. The attention mechanism allows the model to consider the context of each word (or sub-word token) in the sequence, leading to a better understanding of sentence structure and meaning.\n",
    "\n",
    "3. Multi-Head Attention: Transformers use multi-head attention which allows the model to jointly attend to information from different representation subspaces at different positions. This leads to a richer representation of the input sequence and helps in capturing various nuances of language.\n",
    "\n",
    "4. Positional Encoding: Since the Transformer model does not inherently account for the sequential nature of data, positional encodings are added to give the model some information about the relative or absolute position of the tokens in the sequence.\n",
    "\n",
    "### Architecture of Transformer Models\n",
    "\n",
    "The Transformer model is composed of an encoder and a decoder, each consisting of a stack of identical layers.\n",
    "\n",
    "- Encoder: Each layer in the encoder contains two sub-layers. The first is a multi-head self-attention mechanism, and the second is a simple, position-wise fully connected feed-forward network. A residual connection is employed around each of the two sub-layers, followed by layer normalization.\n",
    "\n",
    "- Decoder: Each layer in the decoder also has two sub-layers, but it includes a third sub-layer that performs multi-head attention over the output of the encoder stack. Similar to the encoder, residual connections are used around each sub-layer followed by layer normalization.\n",
    "\n",
    "### Applications and Impact\n",
    "\n",
    "1. Machine Translation: Transformers have achieved state-of-the-art results in machine translation, outperforming RNN-based models like LSTM due to their ability to capture contextual relationships between words regardless of their position in the text.\n",
    "\n",
    "2. Text Generation: Models like GPT (Generative Pre-trained Transformer) are based on the Transformer architecture and have shown remarkable performance in generating coherent and contextually relevant text.\n",
    "\n",
    "3. Language Understanding: BERT (Bidirectional Encoder Representations from Transformers) and its variants are used extensively in tasks that require understanding of language context, such as sentiment analysis, named entity recognition, and question answering.\n",
    "\n",
    "4. Beyond NLP: The success of Transformer models in NLP has led to adaptations in other areas such as image processing and music generation, proving the versatility and robustness of the architecture."
   ]
  },
  {
   "cell_type": "markdown",
   "id": "9ef9a636-54b9-4597-8785-6fb7b3402de8",
   "metadata": {},
   "source": [
    "# References\n",
    "\n",
    "1. Pytorch, Deep Learning Python Library, https://pytorch.org.\n",
    "2. Torch.nn, create and train ANNs, https://pytorch.org/tutorials/beginner/nn_tutorial.html\n",
    "3. Practical Deep Learning!, https://course.fast.ai/\n",
    "4. Hugging Face, download and train state-of-the-art pretrained models,  https://huggingface.co/docs/transformers/index"
   ]
  },
  {
   "cell_type": "markdown",
   "id": "4a4d318e-dbb4-4a2f-bd54-59481c56ccca",
   "metadata": {},
   "source": [
    "_Last updated on 09.6.2025 12:04 am<br>\n",
    "(C) 2025 Complex Adaptive Systems Laboratory, all rights reserved._"
   ]
  },
  {
   "cell_type": "code",
   "execution_count": null,
   "id": "f2a7c8a4-b685-4c55-b7d6-5809c73ea081",
   "metadata": {},
   "outputs": [],
   "source": []
  }
 ],
 "metadata": {
  "colab": {
   "provenance": []
  },
  "kernelspec": {
   "display_name": "Python 3 (ipykernel)",
   "language": "python",
   "name": "python3"
  },
  "language_info": {
   "codemirror_mode": {
    "name": "ipython",
    "version": 3
   },
   "file_extension": ".py",
   "mimetype": "text/x-python",
   "name": "python",
   "nbconvert_exporter": "python",
   "pygments_lexer": "ipython3",
   "version": "3.12.3"
  }
 },
 "nbformat": 4,
 "nbformat_minor": 5
}
