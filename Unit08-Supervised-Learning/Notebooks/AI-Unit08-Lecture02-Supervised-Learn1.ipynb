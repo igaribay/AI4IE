{
 "cells": [
  {
   "cell_type": "markdown",
   "metadata": {},
   "source": [
    "# Unit 8 Lecture 2 - Artificial Intelligence: Supervised Learning 1\n",
    "\n",
    "CAI 4823: Artificial Intelligence for Industrial Engineers<br>\n",
    "University of Central Florida\n"
   ]
  },
  {
   "cell_type": "markdown",
   "metadata": {},
   "source": [
    "## Notebook Learning Objectives\n",
    "After studying this notebook students should be able to:\n",
    "- Undertand basic concepts on artificial intelligence and machine learning\n",
    "- Develop supervised learning models using Scikit-Learn\n",
    "- K-nearest neighbor algorithm\n",
    "- Using external data \"LoanStats3a.csv\" and \"dataset_complete.pkl\""
   ]
  },
  {
   "cell_type": "markdown",
   "metadata": {},
   "source": [
    "# Overview\n",
    "\n",
    "Artificial intelligence (AI) is making its way into all industries. Companies that are not already exploiting the benefits of the \"AI revolution\" are frantically upgrading their business models to remain competitive. No doubt artificial intelligence is here to stay. The US government and private sector are investing heavily to remain the world leader on this crucial field.\n",
    "\n",
    "The AI that is currently used in industry, it is based on statistical methods and artificial intelligence algorithms developed on the 70's and 80's. It is just now that those technologies have come to age, in part, thanks to the availability of large amounts of data and the unprecedented, inexpensive and readily available computational power. Of course, algorithms have continually become more efficient and powerful. An example of these advances is **deep learning**. Deep learning have brought orders of magnitude improvement in accuracy compared with traditional learning algorithms. For more information about deep learning see <a href=\"https://arxiv.org/pdf/1404.7828.pdf\">reference 1</a> and for a Python library for deep learning see <a href=\"https://pytorch.org\">reference 2</a>. Current AI research focuses in going beyond statistical learning and patern recognition (where deep learning is the reigning king) into the more challenging problem of infusing AI  with _common-sense reasoning_, with the ability to explain its actions or decisions, so called _explainability_, and in general, making AIs become better _human partners_. For an example of this **third wave of AI** please see <a href=\"https://www.youtube.com/watch?time_continue=2564&v=7ROelYvo8f0\">reference 4</a>.\n",
    "\n",
    "This class have provided you with the programming, data, and statistical foundations needed to understand a particular type of artificial intelligence: machine learning. Machine learning comes in two main flavors: \n",
    "- supervised learning\n",
    "- unsupervised learning\n",
    "\n",
    "A supervised learning algorithm work by learning by example and with a \"supervisor\" that tell the algorithm when it got it right and when it made a mistake. After the supervisor \"trains\" the algorithm using many examples (training data set), then the algorithm is presented with a never seen before example (test data set) in order to test if the algorithm was able to \"learn\" from the training data.\n",
    "\n",
    "We will use the Python library **Scikit-Learn** (see <a href=\"http://scikit-learn.org/stable/index.html\">reference 3</a>). This library is a comprehensive and state-of-the-art collection of machine learning algorithms ready to use.\n"
   ]
  },
  {
   "cell_type": "markdown",
   "metadata": {
    "collapsed": true,
    "jupyter": {
     "outputs_hidden": true
    }
   },
   "source": [
    "# Introduction to Supervised Learning through Scikit-Learn\n",
    "\n",
    "## What is scikit-learn?\n",
    "Scikit is a machine learning python library built off of packages you have recently been introduced to such as numpy, scipy and matplotlib. For more information, visit the <a href='http://scikit-learn.org/stable/index.html#'>scikit-learn homepage</a>\n",
    "\n",
    "The library contains functions in the following machine learning categories:\n",
    "- <a href='http://scikit-learn.org/stable/supervised_learning.html#supervised-learning'> Classification</a> \n",
    "- <a href='http://scikit-learn.org/stable/supervised_learning.html#supervised-learning'> Regression </a> \n",
    "- <a href='http://scikit-learn.org/stable/modules/clustering.html#clustering'> Clustering </a> \n",
    "- <a href='http://scikit-learn.org/stable/modules/decomposition.html#decompositions'>Dimensionality Reduction</a>\n",
    "- <a href='http://scikit-learn.org/stable/model_selection.html#model-selection'>Model Selection</a> \n",
    "- <a href='http://scikit-learn.org/stable/modules/preprocessing.html#preprocessing'>Preprocessing </a> \n",
    "\n",
    "Scikit-learn should be installed along with your Anaconda installation. However, if this is not the case, follow the installation instructions provided by scikit-learn <a href='http://scikit-learn.org/stable/install.html'>here</a>\n",
    "\n",
    "Next, lets import some of the packages we will use and see what version you are running!"
   ]
  },
  {
   "cell_type": "code",
   "execution_count": 8,
   "metadata": {},
   "outputs": [
    {
     "name": "stdout",
     "output_type": "stream",
     "text": [
      "The scikit-learn version is 1.5.1.\n",
      "The pandas version is 2.2.2\n",
      "The matplotlib version is 3.9.2\n",
      "The numpy version is 1.26.4\n"
     ]
    }
   ],
   "source": [
    "import sklearn\n",
    "print('The scikit-learn version is {}.'.format(sklearn.__version__))\n",
    "import pandas as pd\n",
    "print('The pandas version is {}'.format(pd.__version__))\n",
    "import matplotlib\n",
    "import matplotlib.pyplot as plt\n",
    "print('The matplotlib version is {}'.format(matplotlib.__version__))\n",
    "import numpy as np\n",
    "print('The numpy version is {}'.format(np.__version__))"
   ]
  },
  {
   "cell_type": "markdown",
   "metadata": {},
   "source": [
    "## What is supervised learning?\n",
    "\n",
    "Supervised learning are algorithms that learn patterns from a data. They are trained using a subset of the data. This data is labeled. A labeled dataset represents a set of problems for which we know the answers. Supervised learning algorithms aim to generalize their learning in order to be able to acurately provide an answer to all possible inputs, in particular inputs that are not part of their training dataset. \n",
    "\n",
    "Examples of techniques in supervised learning:</p> \n",
    "<li style=\"font-size: 16px\"><a href='https://scikit-learn.org/stable/modules/neighbors.html'>nearest neighbors</a></li>\n",
    "<li style=\"font-size: 16px\"><a href='http://scikit-learn.org/stable/modules/svm.html'>support vector machines</a></li>\n",
    "<li style=\"font-size: 16px\"><a href='http://scikit-learn.org/stable/modules/tree.html'>decision trees</a></li>\n",
    "<li style=\"font-size: 16px\"><a href='http://scikit-learn.org/stable/modules/generated/sklearn.ensemble.RandomForestClassifier.html'>random forest</a></li>\n",
    "\n",
    "\n",
    "## The classification problem\n",
    "\n",
    "We will focus on classification tasks in this notebook. **Classification** is the prediction of discrete variables i.e. YES/NO. Formally, classification is the problem of finding: \n",
    "\n",
    "$$h(\\mathbf{x}): \\mathbb{R^d}\\to\\mathbb{K}$$\n",
    "\n",
    "that maps an input space in $\\mathbb{R^d}$ onto a discrete set of $k$ target outputs or classes $\\mathbb{K}=\\{1,...,k\\}$. In this setting, the **features** are arranged into a vector $\\mathbf{x}$ of $d$ real-valued numbers.\n",
    "\n",
    "\n",
    "## Scikit-learn input\n",
    "\n",
    "A problem in Scikit-learn is defined as follows:\n",
    "\n",
    "### 1. Input data is an array of the size $[n_{samples}, n_{features}]$ and a vector of the size $n_{samples}$\n",
    "\n",
    "The input dataset for any Sklearn learning algorithm consist on a matrix of size $[n_{samples}, n_{features}]$ that we will call the <code>feature matrix</code>, and a vector of size $n_{samples}$ that we will call the <code>label vector</code>.\n",
    "#### Feature Matrix\n",
    "\n",
    "- $n_{samples}$: it is the number of samples $n$. Each sample is an item to process (in our case to classify). A sample could be a picture, a documents, a file, a row in a database, etc. This is the data that you will use to train your algorithm. In machine learning, samples are also refered to as: instances or examples.\n",
    "\n",
    "- $n_{features}$: it is the number of features $d$. A feature is a distinct characteristic of an item that can be used to quantitatively describe the item. For an item related to \"a person applying for a loan\", possible features could be \"credit score\", \"age\", \"loan amount requested\", \"salary\", etc. The features that you select are very important for the performance of your algorithm. In machine learning, features are also refer to as: attributes, dimensions, regressors, covariates, predictors, or **independent variables**.\n",
    "\n",
    "$$n_{samples}=n$$\n",
    "$$n_{features}=d$$\n",
    "$$\\text{Feature matrix    :    } \n",
    "\\mathbf{X} = \n",
    "\\begin{pmatrix} \n",
    "x_{11} & x_{12} & \\cdots & x_{1d} \\\\ \n",
    "x_{21} & x_{22} & \\cdots & x_{2d} \\\\\n",
    "x_{31} & x_{32} & \\cdots & x_{3d} \\\\\n",
    "\\vdots & \\vdots & \\ddots & \\vdots \\\\\n",
    "\\vdots & \\vdots & \\ddots & \\vdots \\\\\n",
    "x_{n1} & x_{n2} & \\cdots & x_{nd} \n",
    "\\end{pmatrix}\n",
    "$$\n",
    "\n",
    "#### Label vector\n",
    "\n",
    "- The label vector contains the answers or solutions to the samples. \n",
    "For classification, it contains the correct class for each of the $n$ samples. In machine learning, the label vector is also known as: outcome, response, or **dependent variable**.\n",
    "\n",
    "$$\n",
    "\\text{Label vector: }\n",
    "\\mathbf{y} = \n",
    "\\begin{pmatrix} \n",
    "y_{1} \\\\ \n",
    "y_{2} \\\\\n",
    "y_{3} \\\\\n",
    "\\vdots \\\\\n",
    "\\vdots \\\\\n",
    "y_{n} \n",
    "\\end{pmatrix}\n",
    "$$\n",
    "\n",
    "### 2. Scikit-learn interfaces\n",
    "- <code>fit()</code>: interface for building and fitting models\n",
    "- <code>predict()</code>: interface for making predictions\n",
    "- <code>transform()</code>: interface for converting data"
   ]
  },
  {
   "cell_type": "markdown",
   "metadata": {},
   "source": [
    "# Lending Club Example\n",
    "This dataset is provided by the Lending Club, a peer-to-peer lending company offering loans funded by other people acting as hub connection borrowers and investors. The potential investors assesses the risk of clients applying for a loan of a certain amount and offer to fund a portion of the loan. If enough investors offer to fund the loan, then the loan is successful and the client can receive the money they asked for, or at least an amount close the complete loan.\n",
    "\n",
    "A **failed loan** occurs when the investors (<code>funded_amnt_inv</code>) do not provided funds to cover at least %95 of the requested loan amount (<code>loan_amnt</code>). \n",
    "\n",
    "> The task is to predict if a loan application will fail to be funded or not\n",
    "\n",
    "We define the binary classification task as the problem of sucesfully predict when a loan will fail. The **failed loans** are defined as: \n",
    "\n",
    "$$\\frac{loan-funded}{loan}\\geq0.05$$ \n",
    "\n",
    "This is the unfunded fraction of the loan is more than 5%. \n",
    "\n",
    "Lending Club **loan data** and **declined loan data**, as well as a complete data dictionary can be downloaded <a href='https://www.lendingclub.com/info/download-data.action'> here for years 2007-2018</a>. Relevant data columns and their description follow:\n",
    "\n"
   ]
  },
  {
   "cell_type": "markdown",
   "metadata": {},
   "source": [
    "<table>\n",
    "    <tr>\n",
    "        <th>Column</th>\n",
    "        <th>Description</th>\n",
    "    </tr>\n",
    "   <tr>\n",
    "        <td>annual_inc</td>\n",
    "        <td>The annual income provided by the borrower during registration.</td>\n",
    "    </tr>\n",
    "    <tr>\n",
    "        <td>delinq_2yrs</td>\n",
    "        <td> The number of 30+ days past-due incidences of delinquency in the borrower's credit file for the past 2 years\n",
    "</td>\n",
    "    </tr>\n",
    "    <tr>\n",
    "        <td>dti</td>\n",
    "        <td> A ratio calculated using the borrower’s total monthly debt payments on the total debt obligations, excluding mortgage and the requested LC loan, divided by the borrower’s self-reported monthly income.\n",
    "</td>\n",
    "    </tr>\n",
    "    <tr>\n",
    "        <td>earliest_cr_line</td>\n",
    "        <td> The month the borrower's earliest reported credit line was opened\n",
    "</td>\n",
    "    </tr>\n",
    "    <tr>\n",
    "        <td>emp_length</td>\n",
    "        <td> Employment length in years. Possible values are between 0 and 10 where 0 means less than one year and 10 means ten or more years.\n",
    "</td>\n",
    "    </tr>\n",
    "    <tr>\n",
    "        <td>home_ownership</td>\n",
    "        <td> The home ownership status provided by the borrower during registration. Our values are: RENT, OWN, MORTGAGE, OTHER.\n",
    "</td>\n",
    "    </tr>\n",
    "    <tr>\n",
    "        <td>installment</td>\n",
    "        <td> The monthly payment owed by the borrower if the loan originates.\n",
    "</td>\n",
    "    </tr>\n",
    "    <tr>\n",
    "        <td>int_rate</td>\n",
    "        <td> Interest Rate on the loan\n",
    "</td>\n",
    "    </tr>\n",
    "    <tr>\n",
    "        <td>is_inc_v</td>\n",
    "        <td> Indicates if income was verified by LC, not verified, or if the income source was verified\n",
    "</td>\n",
    "    </tr>\n",
    "    <tr>\n",
    "        <td>last_fico_range_high</td>\n",
    "        <td> The last upper boundary of range the borrower’s FICO belongs to pulled.\n",
    "</td>\n",
    "    </tr>\n",
    "    <tr>\n",
    "        <td>last_fico_range_low</td>\n",
    "        <td> The last lower boundary of range the borrower’s FICO belongs to pulled.\n",
    "</td>\n",
    "    </tr>\n",
    "    <tr>\n",
    "        <td>fico_range_high</td>\n",
    "        <td> The upper boundary of range the borrower’s FICO belongs to.\n",
    "</td>\n",
    "    </tr>\n",
    "    <tr>\n",
    "        <td>fico_range_low</td>\n",
    "        <td> The lower boundary of range the borrower’s FICO belongs to.\n",
    "</td>\n",
    "    </tr>\n",
    "    <tr>\n",
    "        <td>mths_since_last_delinq</td>\n",
    "        <td> The number of months since the borrower's last delinquency.\n",
    "</td>\n",
    "    </tr>\n",
    "    <tr>\n",
    "        <td>mths_since_last_major_derog</td>\n",
    "        <td> Months since most recent 90-day or worse rating\n",
    "</td>\n",
    "    </tr>\n",
    "     <tr>\n",
    "        <td>open_acc</td>\n",
    "        <td> The number of open credit lines in the borrower's credit file.\n",
    "</td>\n",
    "    </tr>\n",
    "    <tr>\n",
    "        <td>term</td>\n",
    "        <td> The number of payments on the loan. Values are in months and can be either 36 or 60.\n",
    "</td>\n",
    "    </tr>\n",
    "    <tr>\n",
    "        <td>total_acc</td>\n",
    "        <td> The total number of credit lines currently in the borrower's credit file\n",
    "</td>\n",
    "    </tr>\n",
    "    <tr>\n",
    "        <td>loan_amnt</td>\n",
    "        <td> The listed amount of the loan applied for by the borrower. If at some point in time, the credit department reduces the loan amount, then it will be reflected in this value.</td>\n",
    "    </tr>\n",
    "\n",
    "\n",
    "</table>"
   ]
  },
  {
   "cell_type": "markdown",
   "metadata": {},
   "source": [
    "# Step 1: Loading, transforming and understanding the data (summary of previous notebook on Preprocessing)\n",
    "Now, lets read the data into a dataframe <code>df_lend</code> by using <code>pd.read_csv</code> to read the raw data from <code>LoanStats3a.csv</code>, a file downloaded from https://www.lendingclub.com/info/download-data.action. Then lets **select** only 13 columns as **features** from the original 145 columns in the raw data, we select the features that we think are more relevant for our classification problem. The result is our **feature matrix**:"
   ]
  },
  {
   "cell_type": "code",
   "execution_count": 13,
   "metadata": {
    "scrolled": true
   },
   "outputs": [
    {
     "name": "stdout",
     "output_type": "stream",
     "text": [
      "(42538, 145)\n",
      "(42538, 13)\n"
     ]
    },
    {
     "data": {
      "text/html": [
       "<div>\n",
       "<style scoped>\n",
       "    .dataframe tbody tr th:only-of-type {\n",
       "        vertical-align: middle;\n",
       "    }\n",
       "\n",
       "    .dataframe tbody tr th {\n",
       "        vertical-align: top;\n",
       "    }\n",
       "\n",
       "    .dataframe thead th {\n",
       "        text-align: right;\n",
       "    }\n",
       "</style>\n",
       "<table border=\"1\" class=\"dataframe\">\n",
       "  <thead>\n",
       "    <tr style=\"text-align: right;\">\n",
       "      <th></th>\n",
       "      <th>loan_amnt</th>\n",
       "      <th>funded_amnt</th>\n",
       "      <th>funded_amnt_inv</th>\n",
       "      <th>term</th>\n",
       "      <th>int_rate</th>\n",
       "      <th>installment</th>\n",
       "      <th>emp_length</th>\n",
       "      <th>home_ownership</th>\n",
       "      <th>annual_inc</th>\n",
       "      <th>dti</th>\n",
       "      <th>delinq_2yrs</th>\n",
       "      <th>mths_since_last_delinq</th>\n",
       "      <th>total_acc</th>\n",
       "    </tr>\n",
       "  </thead>\n",
       "  <tbody>\n",
       "    <tr>\n",
       "      <th>0</th>\n",
       "      <td>5000.0</td>\n",
       "      <td>5000.0</td>\n",
       "      <td>4975.0</td>\n",
       "      <td>36 months</td>\n",
       "      <td>10.65%</td>\n",
       "      <td>162.87</td>\n",
       "      <td>10+ years</td>\n",
       "      <td>RENT</td>\n",
       "      <td>24000.0</td>\n",
       "      <td>27.65</td>\n",
       "      <td>0.0</td>\n",
       "      <td>NaN</td>\n",
       "      <td>9.0</td>\n",
       "    </tr>\n",
       "    <tr>\n",
       "      <th>1</th>\n",
       "      <td>2500.0</td>\n",
       "      <td>2500.0</td>\n",
       "      <td>2500.0</td>\n",
       "      <td>60 months</td>\n",
       "      <td>15.27%</td>\n",
       "      <td>59.83</td>\n",
       "      <td>&lt; 1 year</td>\n",
       "      <td>RENT</td>\n",
       "      <td>30000.0</td>\n",
       "      <td>1.00</td>\n",
       "      <td>0.0</td>\n",
       "      <td>NaN</td>\n",
       "      <td>4.0</td>\n",
       "    </tr>\n",
       "    <tr>\n",
       "      <th>2</th>\n",
       "      <td>2400.0</td>\n",
       "      <td>2400.0</td>\n",
       "      <td>2400.0</td>\n",
       "      <td>36 months</td>\n",
       "      <td>15.96%</td>\n",
       "      <td>84.33</td>\n",
       "      <td>10+ years</td>\n",
       "      <td>RENT</td>\n",
       "      <td>12252.0</td>\n",
       "      <td>8.72</td>\n",
       "      <td>0.0</td>\n",
       "      <td>NaN</td>\n",
       "      <td>10.0</td>\n",
       "    </tr>\n",
       "    <tr>\n",
       "      <th>3</th>\n",
       "      <td>10000.0</td>\n",
       "      <td>10000.0</td>\n",
       "      <td>10000.0</td>\n",
       "      <td>36 months</td>\n",
       "      <td>13.49%</td>\n",
       "      <td>339.31</td>\n",
       "      <td>10+ years</td>\n",
       "      <td>RENT</td>\n",
       "      <td>49200.0</td>\n",
       "      <td>20.00</td>\n",
       "      <td>0.0</td>\n",
       "      <td>35.0</td>\n",
       "      <td>37.0</td>\n",
       "    </tr>\n",
       "    <tr>\n",
       "      <th>4</th>\n",
       "      <td>3000.0</td>\n",
       "      <td>3000.0</td>\n",
       "      <td>3000.0</td>\n",
       "      <td>60 months</td>\n",
       "      <td>12.69%</td>\n",
       "      <td>67.79</td>\n",
       "      <td>1 year</td>\n",
       "      <td>RENT</td>\n",
       "      <td>80000.0</td>\n",
       "      <td>17.94</td>\n",
       "      <td>0.0</td>\n",
       "      <td>38.0</td>\n",
       "      <td>38.0</td>\n",
       "    </tr>\n",
       "  </tbody>\n",
       "</table>\n",
       "</div>"
      ],
      "text/plain": [
       "   loan_amnt  funded_amnt  funded_amnt_inv        term int_rate  installment  \\\n",
       "0     5000.0       5000.0           4975.0   36 months   10.65%       162.87   \n",
       "1     2500.0       2500.0           2500.0   60 months   15.27%        59.83   \n",
       "2     2400.0       2400.0           2400.0   36 months   15.96%        84.33   \n",
       "3    10000.0      10000.0          10000.0   36 months   13.49%       339.31   \n",
       "4     3000.0       3000.0           3000.0   60 months   12.69%        67.79   \n",
       "\n",
       "  emp_length home_ownership  annual_inc    dti  delinq_2yrs  \\\n",
       "0  10+ years           RENT     24000.0  27.65          0.0   \n",
       "1   < 1 year           RENT     30000.0   1.00          0.0   \n",
       "2  10+ years           RENT     12252.0   8.72          0.0   \n",
       "3  10+ years           RENT     49200.0  20.00          0.0   \n",
       "4     1 year           RENT     80000.0  17.94          0.0   \n",
       "\n",
       "   mths_since_last_delinq  total_acc  \n",
       "0                     NaN        9.0  \n",
       "1                     NaN        4.0  \n",
       "2                     NaN       10.0  \n",
       "3                    35.0       37.0  \n",
       "4                    38.0       38.0  "
      ]
     },
     "execution_count": 13,
     "metadata": {},
     "output_type": "execute_result"
    }
   ],
   "source": [
    "df_lend = pd.read_csv('../Data/LoanStats3a.csv', skiprows=1, low_memory=False)\n",
    "print(df_lend.shape)\n",
    "\n",
    "keep_cols = ['loan_amnt', 'funded_amnt', 'funded_amnt_inv', 'term', 'int_rate', 'installment', 'emp_length', 'home_ownership', 'annual_inc', 'dti', 'delinq_2yrs', 'mths_since_last_delinq', 'total_acc']\n",
    "df_lend = df_lend[keep_cols]\n",
    "print(df_lend.shape)\n",
    "df_lend.head()"
   ]
  },
  {
   "cell_type": "markdown",
   "metadata": {},
   "source": [
    "Now, we will add an extra column in our dataset <code>df_lend</code> to be our **label vector**. Using the logic described earlier we compute **failed loans** as follows: \n",
    "\n",
    "$$\n",
    "\\text{failed loans} = \n",
    "\\begin{cases}\n",
    "  -1 \\Leftrightarrow \\frac{loan-funded}{loan}\\geq0.05   \\text{      (Expression True -> FAILED LOAN)}\\\\    \n",
    "  +1         \\quad\\quad \\text{otherwise  (SUCCESSFUL LOAN)}\n",
    "\\end{cases}\n",
    "$$\n",
    "\n",
    "then, we store the resulting values of the calculation above into the extra column."
   ]
  },
  {
   "cell_type": "code",
   "execution_count": 15,
   "metadata": {
    "scrolled": true
   },
   "outputs": [
    {
     "name": "stdout",
     "output_type": "stream",
     "text": [
      "Good/Failed Loans Count:\n",
      "failed_loan\n",
      " 1    34642\n",
      "-1     7896\n",
      "Name: count, dtype: int64\n",
      "Examples of Failed Loans:\n",
      "42533   -1\n",
      "42534   -1\n",
      "42535   -1\n",
      "42536    1\n",
      "42537    1\n",
      "Name: failed_loan, dtype: int64\n"
     ]
    }
   ],
   "source": [
    "loan = df_lend['loan_amnt'].values\n",
    "funded = df_lend['funded_amnt_inv'].values\n",
    "targets = np.abs(loan-funded)/loan\n",
    "\n",
    "df_lend['targets'] = targets\n",
    "y = [-1 if t >= .05 else 1 for t in targets]\n",
    "df_lend['failed_loan'] = y\n",
    "print(\"Good/Failed Loans Count:\")\n",
    "print(df_lend['failed_loan'].value_counts())\n",
    "print(\"Examples of Failed Loans:\")\n",
    "print(df_lend['failed_loan'].tail()) #examples of failed loans from data\n",
    "#df_lend#.tail()"
   ]
  },
  {
   "cell_type": "code",
   "execution_count": 16,
   "metadata": {},
   "outputs": [
    {
     "data": {
      "text/html": [
       "<div>\n",
       "<style scoped>\n",
       "    .dataframe tbody tr th:only-of-type {\n",
       "        vertical-align: middle;\n",
       "    }\n",
       "\n",
       "    .dataframe tbody tr th {\n",
       "        vertical-align: top;\n",
       "    }\n",
       "\n",
       "    .dataframe thead th {\n",
       "        text-align: right;\n",
       "    }\n",
       "</style>\n",
       "<table border=\"1\" class=\"dataframe\">\n",
       "  <thead>\n",
       "    <tr style=\"text-align: right;\">\n",
       "      <th></th>\n",
       "      <th>loan_amnt</th>\n",
       "      <th>funded_amnt</th>\n",
       "      <th>funded_amnt_inv</th>\n",
       "      <th>term</th>\n",
       "      <th>int_rate</th>\n",
       "      <th>installment</th>\n",
       "      <th>emp_length</th>\n",
       "      <th>home_ownership</th>\n",
       "      <th>annual_inc</th>\n",
       "      <th>dti</th>\n",
       "      <th>delinq_2yrs</th>\n",
       "      <th>mths_since_last_delinq</th>\n",
       "      <th>total_acc</th>\n",
       "      <th>targets</th>\n",
       "      <th>failed_loan</th>\n",
       "    </tr>\n",
       "  </thead>\n",
       "  <tbody>\n",
       "    <tr>\n",
       "      <th>0</th>\n",
       "      <td>5000.0</td>\n",
       "      <td>5000.0</td>\n",
       "      <td>4975.0</td>\n",
       "      <td>36 months</td>\n",
       "      <td>10.65%</td>\n",
       "      <td>162.87</td>\n",
       "      <td>10+ years</td>\n",
       "      <td>RENT</td>\n",
       "      <td>24000.0</td>\n",
       "      <td>27.65</td>\n",
       "      <td>0.0</td>\n",
       "      <td>NaN</td>\n",
       "      <td>9.0</td>\n",
       "      <td>0.005000</td>\n",
       "      <td>1</td>\n",
       "    </tr>\n",
       "    <tr>\n",
       "      <th>1</th>\n",
       "      <td>2500.0</td>\n",
       "      <td>2500.0</td>\n",
       "      <td>2500.0</td>\n",
       "      <td>60 months</td>\n",
       "      <td>15.27%</td>\n",
       "      <td>59.83</td>\n",
       "      <td>&lt; 1 year</td>\n",
       "      <td>RENT</td>\n",
       "      <td>30000.0</td>\n",
       "      <td>1.00</td>\n",
       "      <td>0.0</td>\n",
       "      <td>NaN</td>\n",
       "      <td>4.0</td>\n",
       "      <td>0.000000</td>\n",
       "      <td>1</td>\n",
       "    </tr>\n",
       "    <tr>\n",
       "      <th>2</th>\n",
       "      <td>2400.0</td>\n",
       "      <td>2400.0</td>\n",
       "      <td>2400.0</td>\n",
       "      <td>36 months</td>\n",
       "      <td>15.96%</td>\n",
       "      <td>84.33</td>\n",
       "      <td>10+ years</td>\n",
       "      <td>RENT</td>\n",
       "      <td>12252.0</td>\n",
       "      <td>8.72</td>\n",
       "      <td>0.0</td>\n",
       "      <td>NaN</td>\n",
       "      <td>10.0</td>\n",
       "      <td>0.000000</td>\n",
       "      <td>1</td>\n",
       "    </tr>\n",
       "    <tr>\n",
       "      <th>3</th>\n",
       "      <td>10000.0</td>\n",
       "      <td>10000.0</td>\n",
       "      <td>10000.0</td>\n",
       "      <td>36 months</td>\n",
       "      <td>13.49%</td>\n",
       "      <td>339.31</td>\n",
       "      <td>10+ years</td>\n",
       "      <td>RENT</td>\n",
       "      <td>49200.0</td>\n",
       "      <td>20.00</td>\n",
       "      <td>0.0</td>\n",
       "      <td>35.0</td>\n",
       "      <td>37.0</td>\n",
       "      <td>0.000000</td>\n",
       "      <td>1</td>\n",
       "    </tr>\n",
       "    <tr>\n",
       "      <th>4</th>\n",
       "      <td>3000.0</td>\n",
       "      <td>3000.0</td>\n",
       "      <td>3000.0</td>\n",
       "      <td>60 months</td>\n",
       "      <td>12.69%</td>\n",
       "      <td>67.79</td>\n",
       "      <td>1 year</td>\n",
       "      <td>RENT</td>\n",
       "      <td>80000.0</td>\n",
       "      <td>17.94</td>\n",
       "      <td>0.0</td>\n",
       "      <td>38.0</td>\n",
       "      <td>38.0</td>\n",
       "      <td>0.000000</td>\n",
       "      <td>1</td>\n",
       "    </tr>\n",
       "    <tr>\n",
       "      <th>...</th>\n",
       "      <td>...</td>\n",
       "      <td>...</td>\n",
       "      <td>...</td>\n",
       "      <td>...</td>\n",
       "      <td>...</td>\n",
       "      <td>...</td>\n",
       "      <td>...</td>\n",
       "      <td>...</td>\n",
       "      <td>...</td>\n",
       "      <td>...</td>\n",
       "      <td>...</td>\n",
       "      <td>...</td>\n",
       "      <td>...</td>\n",
       "      <td>...</td>\n",
       "      <td>...</td>\n",
       "    </tr>\n",
       "    <tr>\n",
       "      <th>42533</th>\n",
       "      <td>2525.0</td>\n",
       "      <td>2525.0</td>\n",
       "      <td>225.0</td>\n",
       "      <td>36 months</td>\n",
       "      <td>9.33%</td>\n",
       "      <td>80.69</td>\n",
       "      <td>&lt; 1 year</td>\n",
       "      <td>RENT</td>\n",
       "      <td>110000.0</td>\n",
       "      <td>10.00</td>\n",
       "      <td>NaN</td>\n",
       "      <td>NaN</td>\n",
       "      <td>NaN</td>\n",
       "      <td>0.910891</td>\n",
       "      <td>-1</td>\n",
       "    </tr>\n",
       "    <tr>\n",
       "      <th>42534</th>\n",
       "      <td>6500.0</td>\n",
       "      <td>6500.0</td>\n",
       "      <td>0.0</td>\n",
       "      <td>36 months</td>\n",
       "      <td>8.38%</td>\n",
       "      <td>204.84</td>\n",
       "      <td>&lt; 1 year</td>\n",
       "      <td>NONE</td>\n",
       "      <td>NaN</td>\n",
       "      <td>4.00</td>\n",
       "      <td>NaN</td>\n",
       "      <td>NaN</td>\n",
       "      <td>NaN</td>\n",
       "      <td>1.000000</td>\n",
       "      <td>-1</td>\n",
       "    </tr>\n",
       "    <tr>\n",
       "      <th>42535</th>\n",
       "      <td>5000.0</td>\n",
       "      <td>5000.0</td>\n",
       "      <td>0.0</td>\n",
       "      <td>36 months</td>\n",
       "      <td>7.75%</td>\n",
       "      <td>156.11</td>\n",
       "      <td>10+ years</td>\n",
       "      <td>MORTGAGE</td>\n",
       "      <td>70000.0</td>\n",
       "      <td>8.81</td>\n",
       "      <td>NaN</td>\n",
       "      <td>NaN</td>\n",
       "      <td>NaN</td>\n",
       "      <td>1.000000</td>\n",
       "      <td>-1</td>\n",
       "    </tr>\n",
       "    <tr>\n",
       "      <th>42536</th>\n",
       "      <td>NaN</td>\n",
       "      <td>NaN</td>\n",
       "      <td>NaN</td>\n",
       "      <td>NaN</td>\n",
       "      <td>NaN</td>\n",
       "      <td>NaN</td>\n",
       "      <td>NaN</td>\n",
       "      <td>NaN</td>\n",
       "      <td>NaN</td>\n",
       "      <td>NaN</td>\n",
       "      <td>NaN</td>\n",
       "      <td>NaN</td>\n",
       "      <td>NaN</td>\n",
       "      <td>NaN</td>\n",
       "      <td>1</td>\n",
       "    </tr>\n",
       "    <tr>\n",
       "      <th>42537</th>\n",
       "      <td>NaN</td>\n",
       "      <td>NaN</td>\n",
       "      <td>NaN</td>\n",
       "      <td>NaN</td>\n",
       "      <td>NaN</td>\n",
       "      <td>NaN</td>\n",
       "      <td>NaN</td>\n",
       "      <td>NaN</td>\n",
       "      <td>NaN</td>\n",
       "      <td>NaN</td>\n",
       "      <td>NaN</td>\n",
       "      <td>NaN</td>\n",
       "      <td>NaN</td>\n",
       "      <td>NaN</td>\n",
       "      <td>1</td>\n",
       "    </tr>\n",
       "  </tbody>\n",
       "</table>\n",
       "<p>42538 rows × 15 columns</p>\n",
       "</div>"
      ],
      "text/plain": [
       "       loan_amnt  funded_amnt  funded_amnt_inv        term int_rate  \\\n",
       "0         5000.0       5000.0           4975.0   36 months   10.65%   \n",
       "1         2500.0       2500.0           2500.0   60 months   15.27%   \n",
       "2         2400.0       2400.0           2400.0   36 months   15.96%   \n",
       "3        10000.0      10000.0          10000.0   36 months   13.49%   \n",
       "4         3000.0       3000.0           3000.0   60 months   12.69%   \n",
       "...          ...          ...              ...         ...      ...   \n",
       "42533     2525.0       2525.0            225.0   36 months    9.33%   \n",
       "42534     6500.0       6500.0              0.0   36 months    8.38%   \n",
       "42535     5000.0       5000.0              0.0   36 months    7.75%   \n",
       "42536        NaN          NaN              NaN         NaN      NaN   \n",
       "42537        NaN          NaN              NaN         NaN      NaN   \n",
       "\n",
       "       installment emp_length home_ownership  annual_inc    dti  delinq_2yrs  \\\n",
       "0           162.87  10+ years           RENT     24000.0  27.65          0.0   \n",
       "1            59.83   < 1 year           RENT     30000.0   1.00          0.0   \n",
       "2            84.33  10+ years           RENT     12252.0   8.72          0.0   \n",
       "3           339.31  10+ years           RENT     49200.0  20.00          0.0   \n",
       "4            67.79     1 year           RENT     80000.0  17.94          0.0   \n",
       "...            ...        ...            ...         ...    ...          ...   \n",
       "42533        80.69   < 1 year           RENT    110000.0  10.00          NaN   \n",
       "42534       204.84   < 1 year           NONE         NaN   4.00          NaN   \n",
       "42535       156.11  10+ years       MORTGAGE     70000.0   8.81          NaN   \n",
       "42536          NaN        NaN            NaN         NaN    NaN          NaN   \n",
       "42537          NaN        NaN            NaN         NaN    NaN          NaN   \n",
       "\n",
       "       mths_since_last_delinq  total_acc   targets  failed_loan  \n",
       "0                         NaN        9.0  0.005000            1  \n",
       "1                         NaN        4.0  0.000000            1  \n",
       "2                         NaN       10.0  0.000000            1  \n",
       "3                        35.0       37.0  0.000000            1  \n",
       "4                        38.0       38.0  0.000000            1  \n",
       "...                       ...        ...       ...          ...  \n",
       "42533                     NaN        NaN  0.910891           -1  \n",
       "42534                     NaN        NaN  1.000000           -1  \n",
       "42535                     NaN        NaN  1.000000           -1  \n",
       "42536                     NaN        NaN       NaN            1  \n",
       "42537                     NaN        NaN       NaN            1  \n",
       "\n",
       "[42538 rows x 15 columns]"
      ]
     },
     "execution_count": 16,
     "metadata": {},
     "output_type": "execute_result"
    }
   ],
   "source": [
    "df_lend"
   ]
  },
  {
   "cell_type": "markdown",
   "metadata": {},
   "source": [
    "Lets visualize the data, failed and succesful loans:"
   ]
  },
  {
   "cell_type": "code",
   "execution_count": 18,
   "metadata": {},
   "outputs": [
    {
     "name": "stdout",
     "output_type": "stream",
     "text": [
      "<class 'pandas.core.series.Series'> failed_loan\n",
      " 1    34642\n",
      "-1     7896\n",
      "Name: count, dtype: int64\n"
     ]
    },
    {
     "data": {
      "image/png": "[encoded data removed]",
      "text/plain": [
       "<Figure size 640x480 with 1 Axes>"
      ]
     },
     "metadata": {},
     "output_type": "display_data"
    }
   ],
   "source": [
    "labels = 'Succesful loan', 'Failed loan'\n",
    "sizes = df_lend['failed_loan'].value_counts()\n",
    "print(type(sizes), sizes)\n",
    "sizes = [sizes[1], sizes[-1] ]\n",
    "colors = ['gold', 'lightcoral']\n",
    "explode = (0.1, 0)\n",
    "# Plot\n",
    "plt.pie(sizes, explode=explode,labels=labels, colors=colors,\n",
    "        autopct='%1.1f%%', shadow=True, startangle=140)\n",
    " \n",
    "plot_ = plt.axis('equal')"
   ]
  },
  {
   "cell_type": "markdown",
   "metadata": {},
   "source": [
    "Note that there is a significant disporportion of positive labels to negative ones, making the dataset **unbalanced**. This can have drastic consequences for a classifier.\n",
    "\n",
    "We can also plot the histogram of:\n",
    "$$\\frac{loan-funded}{loan}\\geq0.05$$ "
   ]
  },
  {
   "cell_type": "code",
   "execution_count": 20,
   "metadata": {
    "scrolled": true
   },
   "outputs": [
    {
     "name": "stdout",
     "output_type": "stream",
     "text": [
      "0.07701981762404166\n",
      "0.1997447197699951\n"
     ]
    },
    {
     "data": {
      "image/png": "[encoded data removed]",
      "text/plain": [
       "<Figure size 640x480 with 1 Axes>"
      ]
     },
     "metadata": {},
     "output_type": "display_data"
    }
   ],
   "source": [
    "loan = df_lend['loan_amnt'].values\n",
    "funded = df_lend['funded_amnt_inv'].values\n",
    "targets = np.abs(loan-funded)/loan\n",
    "#cleaning data for histo\n",
    "wrk_records = np.where(~np.isnan(targets))\n",
    "targets_clean = targets[wrk_records]\n",
    "#ploting and calculating stats\n",
    "plt.hist(targets_clean,bins=30)\n",
    "print (np.mean(targets_clean))\n",
    "print (np.std(targets_clean))"
   ]
  },
  {
   "cell_type": "markdown",
   "metadata": {},
   "source": [
    "We observe that the mean is 0.07 which means that in average loan and funded are really close to each other. This explains why our **failed loan** variable has so few \"-1\" values. As a result, the vast mayority of our data contains succesful loans."
   ]
  },
  {
   "cell_type": "markdown",
   "metadata": {},
   "source": [
    "# Step 2: Select your model\n",
    "\n",
    "\n",
    "- We have 42,537 samples that contain 13 features (loan term, interest rate, employment length, annual income, etc)  each: feature matrix\n",
    "- We have calculated the \"ground truth\" for each of these samples: (-1) if the loan failed and (+1) otherwise: label vector.\n",
    "- As a result, our problem is a binary classification task. \n",
    "- There are many algorithms that are designed for classification tasks. \n",
    "- We will just start by picking one, later in the course we will see how to select a good one for our problem.\n",
    "\n",
    "A well known clustering algorithm is the k-nearest neighbor algorithm. Below a quick introduction. For more details about this algorithm, see pages 462-470 in Python for Data Science Handbook by Jake VanderPlas.\n",
    "\n",
    "### What is K-Nearest Neighbor?\n",
    "\n",
    "This algorithm, when used for classification, uses the neighboring values of a particular input value to make a prediction. The input is assigned to the class most common among its $k$ nearest neighbors where $k\\in\\mathbf{R}$. The parameter $k$ is defined in the beginning as a hyperparameter, or a configuration that is prior to the model fit and is not estimated from the data but can be tuned to be more beneficial to the fitting of the model on the data. Determining the distance between the input value and other values is commonly done by Euclidean distance for continuous variables or Hamming distance for discrete variables. We will not go into too much detail here, but we will use this algorithm as a starting example on sklearn. For more information on sklearn's package, see the <a href='http://scikit-learn.org/stable/modules/neighbors.html#neighbors'>sklearn.neighbors documentation.</a>\n",
    "\n",
    "One thing to note is this algorithm is computation heavy. This is because it must hold all other values in memory in order to measure the closest $k$ values to the input value.\n",
    "\n",
    "Note that we are loading preprocess ready to use values for $\\mathbf{X}$, our feature matrix and $\\mathbf{y}$, our label vector. The code to obtain these preprocess data is on a separate notebook.  "
   ]
  },
  {
   "cell_type": "markdown",
   "metadata": {},
   "source": [
    "## loading our previously preprocess data (X,y), load complete or small depending of your computer speed"
   ]
  },
  {
   "cell_type": "code",
   "execution_count": 24,
   "metadata": {},
   "outputs": [
    {
     "name": "stdout",
     "output_type": "stream",
     "text": [
      "(41394, 15)\n",
      "(41394,)\n"
     ]
    },
    {
     "data": {
      "text/html": [
       "<div>\n",
       "<style scoped>\n",
       "    .dataframe tbody tr th:only-of-type {\n",
       "        vertical-align: middle;\n",
       "    }\n",
       "\n",
       "    .dataframe tbody tr th {\n",
       "        vertical-align: top;\n",
       "    }\n",
       "\n",
       "    .dataframe thead th {\n",
       "        text-align: right;\n",
       "    }\n",
       "</style>\n",
       "<table border=\"1\" class=\"dataframe\">\n",
       "  <thead>\n",
       "    <tr style=\"text-align: right;\">\n",
       "      <th></th>\n",
       "      <th>0</th>\n",
       "      <th>1</th>\n",
       "      <th>2</th>\n",
       "      <th>3</th>\n",
       "      <th>4</th>\n",
       "      <th>5</th>\n",
       "      <th>6</th>\n",
       "      <th>7</th>\n",
       "      <th>8</th>\n",
       "      <th>9</th>\n",
       "      <th>10</th>\n",
       "      <th>11</th>\n",
       "      <th>12</th>\n",
       "      <th>13</th>\n",
       "      <th>14</th>\n",
       "    </tr>\n",
       "  </thead>\n",
       "  <tbody>\n",
       "    <tr>\n",
       "      <th>41389</th>\n",
       "      <td>5350.0</td>\n",
       "      <td>5350.0</td>\n",
       "      <td>180.57</td>\n",
       "      <td>4000.0</td>\n",
       "      <td>15.00</td>\n",
       "      <td>0.0</td>\n",
       "      <td>1.0</td>\n",
       "      <td>0.1312</td>\n",
       "      <td>1.0</td>\n",
       "      <td>1.0</td>\n",
       "      <td>-1.0</td>\n",
       "      <td>-1.0</td>\n",
       "      <td>-1.0</td>\n",
       "      <td>1.0</td>\n",
       "      <td>-1.0</td>\n",
       "    </tr>\n",
       "    <tr>\n",
       "      <th>41390</th>\n",
       "      <td>10000.0</td>\n",
       "      <td>10000.0</td>\n",
       "      <td>345.18</td>\n",
       "      <td>50000.0</td>\n",
       "      <td>7.22</td>\n",
       "      <td>2.0</td>\n",
       "      <td>20.0</td>\n",
       "      <td>0.1470</td>\n",
       "      <td>1.0</td>\n",
       "      <td>1.0</td>\n",
       "      <td>-1.0</td>\n",
       "      <td>-1.0</td>\n",
       "      <td>-1.0</td>\n",
       "      <td>-1.0</td>\n",
       "      <td>1.0</td>\n",
       "    </tr>\n",
       "    <tr>\n",
       "      <th>41391</th>\n",
       "      <td>2000.0</td>\n",
       "      <td>2000.0</td>\n",
       "      <td>61.87</td>\n",
       "      <td>150000.0</td>\n",
       "      <td>5.60</td>\n",
       "      <td>0.0</td>\n",
       "      <td>16.0</td>\n",
       "      <td>0.0712</td>\n",
       "      <td>1.0</td>\n",
       "      <td>7.0</td>\n",
       "      <td>1.0</td>\n",
       "      <td>-1.0</td>\n",
       "      <td>-1.0</td>\n",
       "      <td>-1.0</td>\n",
       "      <td>-1.0</td>\n",
       "    </tr>\n",
       "    <tr>\n",
       "      <th>41392</th>\n",
       "      <td>6000.0</td>\n",
       "      <td>6000.0</td>\n",
       "      <td>195.28</td>\n",
       "      <td>20000.0</td>\n",
       "      <td>12.90</td>\n",
       "      <td>0.0</td>\n",
       "      <td>6.0</td>\n",
       "      <td>0.1059</td>\n",
       "      <td>1.0</td>\n",
       "      <td>0.0</td>\n",
       "      <td>-1.0</td>\n",
       "      <td>-1.0</td>\n",
       "      <td>-1.0</td>\n",
       "      <td>-1.0</td>\n",
       "      <td>1.0</td>\n",
       "    </tr>\n",
       "    <tr>\n",
       "      <th>41393</th>\n",
       "      <td>4400.0</td>\n",
       "      <td>4400.0</td>\n",
       "      <td>141.25</td>\n",
       "      <td>30000.0</td>\n",
       "      <td>3.72</td>\n",
       "      <td>0.0</td>\n",
       "      <td>5.0</td>\n",
       "      <td>0.0964</td>\n",
       "      <td>1.0</td>\n",
       "      <td>2.0</td>\n",
       "      <td>1.0</td>\n",
       "      <td>-1.0</td>\n",
       "      <td>-1.0</td>\n",
       "      <td>-1.0</td>\n",
       "      <td>-1.0</td>\n",
       "    </tr>\n",
       "  </tbody>\n",
       "</table>\n",
       "</div>"
      ],
      "text/plain": [
       "            0        1       2         3      4    5     6       7    8    9   \\\n",
       "41389   5350.0   5350.0  180.57    4000.0  15.00  0.0   1.0  0.1312  1.0  1.0   \n",
       "41390  10000.0  10000.0  345.18   50000.0   7.22  2.0  20.0  0.1470  1.0  1.0   \n",
       "41391   2000.0   2000.0   61.87  150000.0   5.60  0.0  16.0  0.0712  1.0  7.0   \n",
       "41392   6000.0   6000.0  195.28   20000.0  12.90  0.0   6.0  0.1059  1.0  0.0   \n",
       "41393   4400.0   4400.0  141.25   30000.0   3.72  0.0   5.0  0.0964  1.0  2.0   \n",
       "\n",
       "        10   11   12   13   14  \n",
       "41389 -1.0 -1.0 -1.0  1.0 -1.0  \n",
       "41390 -1.0 -1.0 -1.0 -1.0  1.0  \n",
       "41391  1.0 -1.0 -1.0 -1.0 -1.0  \n",
       "41392 -1.0 -1.0 -1.0 -1.0  1.0  \n",
       "41393  1.0 -1.0 -1.0 -1.0 -1.0  "
      ]
     },
     "execution_count": 24,
     "metadata": {},
     "output_type": "execute_result"
    }
   ],
   "source": [
    "from sklearn import neighbors\n",
    "#from sklearn import datasets\n",
    "import pickle\n",
    "\n",
    "# if the model takes too long to fit, try this reduced version of the data (only 4K samples)\n",
    "##ofname = open('../Data/dataset_small.pkl','rb') \n",
    "\n",
    "ofname = open('../Data/dataset_complete.pkl','rb') \n",
    "\n",
    "(X,y) = pickle.load(ofname, encoding='latin1') #encoding='latin1' added since pkl was created in Python v2.x\n",
    "print (X.shape)\n",
    "print (y.shape)\n",
    "pd.DataFrame(X).tail()"
   ]
  },
  {
   "cell_type": "code",
   "execution_count": 25,
   "metadata": {},
   "outputs": [
    {
     "data": {
      "text/html": [
       "<div>\n",
       "<style scoped>\n",
       "    .dataframe tbody tr th:only-of-type {\n",
       "        vertical-align: middle;\n",
       "    }\n",
       "\n",
       "    .dataframe tbody tr th {\n",
       "        vertical-align: top;\n",
       "    }\n",
       "\n",
       "    .dataframe thead th {\n",
       "        text-align: right;\n",
       "    }\n",
       "</style>\n",
       "<table border=\"1\" class=\"dataframe\">\n",
       "  <thead>\n",
       "    <tr style=\"text-align: right;\">\n",
       "      <th></th>\n",
       "      <th>0</th>\n",
       "    </tr>\n",
       "  </thead>\n",
       "  <tbody>\n",
       "    <tr>\n",
       "      <th>41389</th>\n",
       "      <td>-1.0</td>\n",
       "    </tr>\n",
       "    <tr>\n",
       "      <th>41390</th>\n",
       "      <td>-1.0</td>\n",
       "    </tr>\n",
       "    <tr>\n",
       "      <th>41391</th>\n",
       "      <td>-1.0</td>\n",
       "    </tr>\n",
       "    <tr>\n",
       "      <th>41392</th>\n",
       "      <td>-1.0</td>\n",
       "    </tr>\n",
       "    <tr>\n",
       "      <th>41393</th>\n",
       "      <td>-1.0</td>\n",
       "    </tr>\n",
       "  </tbody>\n",
       "</table>\n",
       "</div>"
      ],
      "text/plain": [
       "         0\n",
       "41389 -1.0\n",
       "41390 -1.0\n",
       "41391 -1.0\n",
       "41392 -1.0\n",
       "41393 -1.0"
      ]
     },
     "execution_count": 25,
     "metadata": {},
     "output_type": "execute_result"
    }
   ],
   "source": [
    "pd.DataFrame(y).tail()"
   ]
  },
  {
   "cell_type": "code",
   "execution_count": 26,
   "metadata": {},
   "outputs": [],
   "source": [
    "#Create an instance of K-nearest neighbor classifier\n",
    "knn = neighbors.KNeighborsClassifier(n_neighbors=11)\n",
    "\n",
    "#knn5 = neighbors.KNeighborsClassifier(n_neighbors=5)"
   ]
  },
  {
   "cell_type": "markdown",
   "metadata": {},
   "source": [
    "# Step 3: Training your model\n",
    "To fit the model, we will use sklearn's object oriented interface. Firstly we create an object, which we name 'model' (<code>knn</code> in our case). We then can use the <code>model.fit</code> method to set the state of the object based on the training data. The data passed to the method must be in a two dimensional numpy array $\\mathbf{X}$ of shape(n_samples, n_predictors) holding the feature matrix and a one-dimensinal numpy array $\\mathbf{y}$ that holds the response variable values. To view the documentaiton on this method, <a href='http://scikit-learn.org/stable/modules/generated/sklearn.linear_model.LinearRegression.html'>visit here</a>.\n",
    "\n",
    "Once you have fit the model using the appropriate parameters passed to the fit method, the new state of the model object is stored in instances attributes with a trailing underscore '\\_' (i.e. model.coefficients_). The new state can also be accessed from different methods, where the instance will return the new state in response to a method call (i.e. get_params).\n",
    "\n",
    "Estimator objects that can generate predictions provide a <code>model.predict</code> method. In the case of regression, model.predict will return the predicted regression values, $\\hat{\\mathbf{y}}$."
   ]
  },
  {
   "cell_type": "code",
   "execution_count": 28,
   "metadata": {},
   "outputs": [
    {
     "name": "stdout",
     "output_type": "stream",
     "text": [
      "Complete!\n"
     ]
    }
   ],
   "source": [
    "#Train the classifier\n",
    "knn.fit(X, y)\n",
    "\n",
    "print(\"Complete!\")"
   ]
  },
  {
   "cell_type": "markdown",
   "metadata": {},
   "source": [
    "# Step 4: Test your model\n",
    "\n",
    "Sklearn's estimators come with a score method that calculates the accuracy of the model based on the predicted values.\n",
    "\n",
    "First lets calculate the predicted values of $\\mathbf{y}$ using <code>y_pred = knn.predict(X)</code>. Then lets calculate the percentage of time that the model is correct:\n",
    "\n",
    "$$ \\text{Accuracy} = \\frac{\\text{number of correctly predicted examples}}{\\text{total number of examples}}$$\n"
   ]
  },
  {
   "cell_type": "code",
   "execution_count": 30,
   "metadata": {},
   "outputs": [
    {
     "name": "stdout",
     "output_type": "stream",
     "text": [
      "41394\n",
      "[1. 1. 1. ... 1. 1. 1.]\n",
      "[ 1.  1.  1. ... -1. -1. -1.]\n",
      "35224.0\n",
      "Prediction match the ground truth (model is correct) 85.09445813402908 %\n"
     ]
    }
   ],
   "source": [
    "#Compute the prediction according to the model\n",
    "y_pred = knn.predict(X)\n",
    "\n",
    "#Compute how many times the model match the real data (ground truth data)\n",
    "print (len(y))\n",
    "print (y_pred)\n",
    "print (y)\n",
    "count =0.0\n",
    "for i in range(len(y)):\n",
    "    if y[i]==y_pred[i]:\n",
    "        count = count+1\n",
    "        #print \"match\"\n",
    "print (count)\n",
    "print (\"Prediction match the ground truth (model is correct)\", count/len(y)*100, \"%\")\n"
   ]
  },
  {
   "cell_type": "markdown",
   "metadata": {},
   "source": [
    "We can achieve the same result by simply using the build-in function <code>.score</code>"
   ]
  },
  {
   "cell_type": "code",
   "execution_count": 32,
   "metadata": {},
   "outputs": [
    {
     "data": {
      "text/plain": [
       "0.8509445813402908"
      ]
     },
     "execution_count": 32,
     "metadata": {},
     "output_type": "execute_result"
    }
   ],
   "source": [
    "knn.score(X,y)"
   ]
  },
  {
   "cell_type": "markdown",
   "metadata": {},
   "source": [
    "This value means that 85.1% of the time the model is correct! Is this accuracy really a good result? To undertand a bit better the problem, lets look at the labeled vector $\\mathbf{y}$"
   ]
  },
  {
   "cell_type": "code",
   "execution_count": 34,
   "metadata": {},
   "outputs": [
    {
     "name": "stdout",
     "output_type": "stream",
     "text": [
      "[33768, 7626]\n"
     ]
    },
    {
     "data": {
      "image/png": "[encoded data removed]",
      "text/plain": [
       "<Figure size 640x480 with 1 Axes>"
      ]
     },
     "metadata": {},
     "output_type": "display_data"
    }
   ],
   "source": [
    "labels = 'Succesful loan', 'Failed loan'\n",
    "#sizes = df_lend['failed_loan'].value_counts()\n",
    "\n",
    "# np.where(condition, val if true, val if false)\n",
    "sizes = [np.sum(np.where(y==1,1,0)), np.sum(np.where(y==-1,1,0))]\n",
    "print (sizes)\n",
    "colors = ['gold', 'lightcoral']\n",
    "explode = (0.1, 0)\n",
    " \n",
    "# Plot\n",
    "plt.pie(sizes, explode=explode, labels=labels, colors=colors,\n",
    "        autopct='%1.2f%%', shadow=True, startangle=140)\n",
    " \n",
    "ply_ = plt.axis('equal')"
   ]
  },
  {
   "cell_type": "markdown",
   "metadata": {},
   "source": [
    "This unbalanced labeling means that if we <b>always</b> predicted the loan will be a **failed loan**, we would be correct 81.57% of the time, very very close to the accuracy of our model. This demonstrates that accuracy may not be the best metric for understanding the the predictive power of our classifier. A better metric is the <i>confusion matrix</i>.\n",
    "\n",
    "<table style='border-style : hidden'>\n",
    "    <tr>\n",
    "        <th></th>\n",
    "        <th>Positive</th>\n",
    "        <th>Negative</th>\n",
    "        <th></th>\n",
    "    </tr>\n",
    "    <tr>\n",
    "        <th>Positive</th>\n",
    "        <td>TP: True Positive, when correctly predicted positively</td>\n",
    "        <td>FP: False Positive, when incorrectly predicted positively</td>\n",
    "        <td>$\\to$Precision $\\frac{TP}{TP+FP}$</td>\n",
    "    </tr>\n",
    "    <tr>\n",
    "        <th>Prediction Negative</th>\n",
    "        <td>FN: False Negative, when incorrectly predicted negative</td>\n",
    "        <td>TN: True Negative, when correctly predicted negative</td>\n",
    "        <td>$\\to$Negative Predictive Value $\\frac{TN}{TN+FN}$</td>\n",
    "    </tr>\n",
    "    <tr>\n",
    "        <th></th>\n",
    "        <td>$$\\downarrow$$Sensitivity (Recall) $\\frac{TP}{TP+FN}$</td>\n",
    "        <td>$$\\downarrow$$Specificity $\\frac{TN}{TN+FP}$</td>\n",
    "        <th></th>\n",
    "    </tr>\n",
    "<table>\n",
    "\n",
    "<br>\n",
    "$$\\text{accuracy: }=\\frac{TP+TN}{TP+TN+FP+FN}$$\n",
    "\n",
    "$$\\text{sensitivity or recall: }=\\frac{TP}{Real Positives}=\\frac{TP}{TP+FN}$$\n",
    "\n",
    "$$\\text{specificity: }=\\frac{TN}{Real Negatives}=\\frac{TN}{TN+FP}$$\n",
    "\n",
    "$$\\text{precision (positive predictive value): }=\\frac{TP}{Predicted Positives}=\\frac{TP}{TP+FP}$$\n",
    "\n",
    "$$\\text{negative predictive value: }=\\frac{TN}{Predicted Negatives}=\\frac{TN}{TN+FN}$$"
   ]
  },
  {
   "cell_type": "markdown",
   "metadata": {},
   "source": [
    "We can calculate the confusion matrix as follow:"
   ]
  },
  {
   "cell_type": "code",
   "execution_count": 37,
   "metadata": {},
   "outputs": [
    {
     "data": {
      "text/html": [
       "<div>\n",
       "<style scoped>\n",
       "    .dataframe tbody tr th:only-of-type {\n",
       "        vertical-align: middle;\n",
       "    }\n",
       "\n",
       "    .dataframe tbody tr th {\n",
       "        vertical-align: top;\n",
       "    }\n",
       "\n",
       "    .dataframe thead th {\n",
       "        text-align: right;\n",
       "    }\n",
       "</style>\n",
       "<table border=\"1\" class=\"dataframe\">\n",
       "  <thead>\n",
       "    <tr style=\"text-align: right;\">\n",
       "      <th></th>\n",
       "      <th>TP</th>\n",
       "      <th>TN</th>\n",
       "      <th>FP</th>\n",
       "      <th>FN</th>\n",
       "    </tr>\n",
       "  </thead>\n",
       "  <tbody>\n",
       "    <tr>\n",
       "      <th>results</th>\n",
       "      <td>1522</td>\n",
       "      <td>33702</td>\n",
       "      <td>66</td>\n",
       "      <td>6104</td>\n",
       "    </tr>\n",
       "  </tbody>\n",
       "</table>\n",
       "</div>"
      ],
      "text/plain": [
       "           TP     TN  FP    FN\n",
       "results  1522  33702  66  6104"
      ]
     },
     "execution_count": 37,
     "metadata": {},
     "output_type": "execute_result"
    }
   ],
   "source": [
    "confusion_matrix = dict()\n",
    "confusion_matrix['TP'] = np.sum(np.logical_and(y_pred==-1,y==-1))\n",
    "confusion_matrix['TN'] = np.sum(np.logical_and(y_pred==1,y==1))\n",
    "confusion_matrix['FP'] = np.sum(np.logical_and(y_pred==-1,y==1))\n",
    "confusion_matrix['FN'] = np.sum(np.logical_and(y_pred==1,y==-1))\n",
    "pd.DataFrame(data=confusion_matrix, index=['results'])"
   ]
  },
  {
   "cell_type": "markdown",
   "metadata": {},
   "source": [
    "Sklearn also has a method for this to make calculation easier. For a more elaborate example of how to use this, <a href='http://scikit-learn.org/stable/auto_examples/model_selection/plot_confusion_matrix.html#sphx-glr-auto-examples-model-selection-plot-confusion-matrix-py'>visit here</a>."
   ]
  },
  {
   "cell_type": "code",
   "execution_count": 39,
   "metadata": {},
   "outputs": [
    {
     "data": {
      "text/plain": [
       "array([[ 1522,    66],\n",
       "       [ 6104, 33702]])"
      ]
     },
     "execution_count": 39,
     "metadata": {},
     "output_type": "execute_result"
    }
   ],
   "source": [
    "from sklearn import metrics\n",
    "metrics.confusion_matrix(y_pred,y)"
   ]
  },
  {
   "cell_type": "markdown",
   "metadata": {},
   "source": [
    "Lets try now a different number of k=neighbors for our model. Lets try with k=1:"
   ]
  },
  {
   "cell_type": "code",
   "execution_count": 41,
   "metadata": {
    "scrolled": true
   },
   "outputs": [
    {
     "name": "stdout",
     "output_type": "stream",
     "text": [
      "classification accuracy: 0.8509445813402908\n",
      "confusion matrix: \n",
      "[[ 1522    66]\n",
      " [ 6104 33702]]\n"
     ]
    }
   ],
   "source": [
    "#Train a classifier using .fit()\n",
    "knn = neighbors.KNeighborsClassifier(n_neighbors=11)\n",
    "knn.fit(X,y)\n",
    "y_pred=knn.predict(X)\n",
    "\n",
    "print (\"classification accuracy:\", metrics.accuracy_score(y_pred, y))\n",
    "print (\"confusion matrix: \\n\" + str(metrics.confusion_matrix(y_pred, y)))"
   ]
  },
  {
   "cell_type": "code",
   "execution_count": 42,
   "metadata": {},
   "outputs": [
    {
     "name": "stdout",
     "output_type": "stream",
     "text": [
      "classification accuracy: 1.0\n",
      "confusion matrix: \n",
      "[[ 7626     0]\n",
      " [    0 33768]]\n"
     ]
    }
   ],
   "source": [
    "#Train a classifier using .fit()\n",
    "knn = neighbors.KNeighborsClassifier(n_neighbors=1)\n",
    "knn.fit(X,y)\n",
    "y_pred=knn.predict(X)\n",
    "\n",
    "print (\"classification accuracy:\", metrics.accuracy_score(y_pred, y))\n",
    "print (\"confusion matrix: \\n\" + str(metrics.confusion_matrix(y_pred, y)))"
   ]
  },
  {
   "cell_type": "markdown",
   "metadata": {},
   "source": [
    "Why do you think that we get perfect classification if we use only one neighbor?"
   ]
  },
  {
   "cell_type": "markdown",
   "metadata": {},
   "source": [
    "# Dividing data for training and testing\n",
    "We have previously used full dataset for fitting the model and evaluating the model, this is not good practice. It is better practice to use a subset of the data to train on and then test the accuracy of your model with a smaller subset of data that was not part of your training dataset. This is because we want to compare the <i>in-sample error rate</i> $E_{in}$ or the error on values in the training set and <i>out of sample error</i> $E_{out}$ which is the generalization error on unseen data, or our test set.\n",
    "\n",
    "$$E_{in}=\\frac{1}{N}\\sum_{i=1}^{N}e(x_i, y_i)$$\n",
    "$$E_{out}=E_{xy}(e(x,y))$$\n",
    "$$\\text{ where } e(x_i, y_i)=I[h(x)=y_i]= \n",
    "\\begin{cases}\n",
    "    1     & \\quad \\text{if } h(x_i)=y\\\\\n",
    "    0 & \\quad \\text{otherwise }\n",
    "  \\end{cases}$$\n",
    "$$\\text{observe that }E_{out}\\geq E_{in}$$\n",
    "\n",
    "<p style=\"font-size: 16px\">The goal of model learning is to minimize the genearalization error. Desirable:</p>\n",
    "<li>$E_{in}\\to 0$</li>\n",
    "<li>$E_{out}\\approx E_{in}$</li>"
   ]
  },
  {
   "cell_type": "markdown",
   "metadata": {},
   "source": [
    "Up to this point we used training data for \"assessing\" the performance of the method, as we will see later this is a bad practice. Let us simulate the exploitation stage by holding out a subset of the training data and assess the performance on that set. "
   ]
  },
  {
   "cell_type": "markdown",
   "metadata": {},
   "source": [
    "We can use the validation process for model selection."
   ]
  },
  {
   "cell_type": "code",
   "execution_count": 47,
   "metadata": {},
   "outputs": [
    {
     "name": "stdout",
     "output_type": "stream",
     "text": [
      "Training shape: (28975, 15), training targets shape: (28975,)\n",
      "Testing shape: (12419, 15), testing targets shape: (12419,)\n"
     ]
    },
    {
     "data": {
      "text/html": [
       "<div>\n",
       "<style scoped>\n",
       "    .dataframe tbody tr th:only-of-type {\n",
       "        vertical-align: middle;\n",
       "    }\n",
       "\n",
       "    .dataframe tbody tr th {\n",
       "        vertical-align: top;\n",
       "    }\n",
       "\n",
       "    .dataframe thead th {\n",
       "        text-align: right;\n",
       "    }\n",
       "</style>\n",
       "<table border=\"1\" class=\"dataframe\">\n",
       "  <thead>\n",
       "    <tr style=\"text-align: right;\">\n",
       "      <th></th>\n",
       "      <th>Training</th>\n",
       "      <th>Test</th>\n",
       "    </tr>\n",
       "  </thead>\n",
       "  <tbody>\n",
       "    <tr>\n",
       "      <th>classification_acc</th>\n",
       "      <td>1.0</td>\n",
       "      <td>0.760367</td>\n",
       "    </tr>\n",
       "    <tr>\n",
       "      <th>TP</th>\n",
       "      <td>5344.0</td>\n",
       "      <td>795.000000</td>\n",
       "    </tr>\n",
       "    <tr>\n",
       "      <th>FP</th>\n",
       "      <td>0.0</td>\n",
       "      <td>1487.000000</td>\n",
       "    </tr>\n",
       "    <tr>\n",
       "      <th>FN</th>\n",
       "      <td>0.0</td>\n",
       "      <td>1489.000000</td>\n",
       "    </tr>\n",
       "    <tr>\n",
       "      <th>TN</th>\n",
       "      <td>23631.0</td>\n",
       "      <td>8648.000000</td>\n",
       "    </tr>\n",
       "  </tbody>\n",
       "</table>\n",
       "</div>"
      ],
      "text/plain": [
       "                    Training         Test\n",
       "classification_acc       1.0     0.760367\n",
       "TP                    5344.0   795.000000\n",
       "FP                       0.0  1487.000000\n",
       "FN                       0.0  1489.000000\n",
       "TN                   23631.0  8648.000000"
      ]
     },
     "execution_count": 47,
     "metadata": {},
     "output_type": "execute_result"
    }
   ],
   "source": [
    "from sklearn.model_selection import train_test_split\n",
    "from sklearn.metrics import accuracy_score\n",
    "\n",
    "# train_test_split splits the data into random subsets.\n",
    "X_train, X_test, y_train, y_test = train_test_split(X, y, test_size=0.3, random_state=y.size)  \n",
    "print('Training shape: {}, training targets shape: {}'.format(X_train.shape, y_train.shape))\n",
    "print('Testing shape: {}, testing targets shape: {}'.format(X_test.shape, y_test.shape))\n",
    "\n",
    "knn = neighbors.KNeighborsClassifier(n_neighbors=1)\n",
    "knn.fit(X_train,y_train)\n",
    "\n",
    "#Check on the training set and visualize performance\n",
    "y_pred_train =knn.predict(X_train)\n",
    "y_pred_test = knn.predict(X_test)\n",
    "\n",
    "results = dict()\n",
    "train_cm = metrics.confusion_matrix(y_train, y_pred_train)\n",
    "results['Training'] = {'classification_acc': accuracy_score(y_pred_train, y_train),\n",
    "                      'TP': train_cm[0,0], 'FP': train_cm[0,1],\n",
    "                      'FN': train_cm[1,0], 'TN': train_cm[1,1]}\n",
    "\n",
    "test_cm = metrics.confusion_matrix(y_test, y_pred_test)\n",
    "results['Test'] = {'classification_acc': accuracy_score(y_pred_test, y_test),\n",
    "                      'TP': test_cm[0,0], 'FP': test_cm[0,1],\n",
    "                      'FN': test_cm[1,0], 'TN': test_cm[1,1]}\n",
    "\n",
    "pd.DataFrame(data=results)\n"
   ]
  },
  {
   "cell_type": "markdown",
   "metadata": {},
   "source": [
    "As we will see in our next Notebook, we can use the validation process for model selection."
   ]
  },
  {
   "cell_type": "markdown",
   "metadata": {},
   "source": [
    "# References\n",
    "\n",
    "1. Deep Learning, https://arxiv.org/pdf/1404.7828.pdf\n",
    "2. Pytorch, Deep Learning Python Library, https://pytorch.org\n",
    "3. Scikit-Learn, Python Library for Machine Learning, http://scikit-learn.org/stable/index.html\n",
    "4. Next Generation AI: Common Sense, https://www.youtube.com/watch?time_continue=2564&v=7ROelYvo8f0"
   ]
  },
  {
   "cell_type": "markdown",
   "metadata": {},
   "source": [
    "_Last updated on 9.5.25 23:18pm<br>\n",
    "(C) 2025 Complex Adaptive Systems Laboratory, all rights reserved._"
   ]
  },
  {
   "cell_type": "code",
   "execution_count": null,
   "metadata": {},
   "outputs": [],
   "source": []
  }
 ],
 "metadata": {
  "kernelspec": {
   "display_name": "Python [conda env:base] *",
   "language": "python",
   "name": "conda-base-py"
  },
  "language_info": {
   "codemirror_mode": {
    "name": "ipython",
    "version": 3
   },
   "file_extension": ".py",
   "mimetype": "text/x-python",
   "name": "python",
   "nbconvert_exporter": "python",
   "pygments_lexer": "ipython3",
   "version": "3.12.2"
  }
 },
 "nbformat": 4,
 "nbformat_minor": 4
}
