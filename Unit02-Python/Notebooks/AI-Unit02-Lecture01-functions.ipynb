{
 "cells": [
  {
   "cell_type": "markdown",
   "metadata": {},
   "source": [
    "# Unit 2 Lecture 1 -  Functions in Python\n",
    "\n",
    "CAI 4823: Artificial Intelligence for Industrial Engineers<br>\n",
    "University of Central Florida\n",
    "Dr. Ivan Garibay, Ramya Akula.<br> \n"
   ]
  },
  {
   "cell_type": "markdown",
   "metadata": {},
   "source": [
    "## Notebook Learning Objectives\n",
    "After studying this notebook students should be able to:\n",
    "- Write code using control statements such as: If, If Else, and Loops\n",
    "- Understand and use functions "
   ]
  },
  {
   "cell_type": "markdown",
   "metadata": {},
   "source": [
    "# ```If``` Statements"
   ]
  },
  {
   "cell_type": "markdown",
   "metadata": {},
   "source": [
    "The general python syntax for a ```if``` statement is\n",
    "\n",
    "```if``` condition:\n",
    "\n",
    "    statements "
   ]
  },
  {
   "cell_type": "code",
   "execution_count": 1,
   "metadata": {},
   "outputs": [
    {
     "name": "stdout",
     "output_type": "stream",
     "text": [
      "Enter your number (<100)5\n",
      "5 : smaller than 10\n"
     ]
    }
   ],
   "source": [
    "number = int(input(\"Enter your number (<100)\"))\n",
    "\n",
    "if number > 10:\n",
    "    print (number, \": greather than 10\")\n",
    "if number == 10:\n",
    "    print (number, \": equal to 10\")\n",
    "if number < 10:\n",
    "    print (number, \": smaller than 10\")"
   ]
  },
  {
   "cell_type": "code",
   "execution_count": 2,
   "metadata": {},
   "outputs": [
    {
     "name": "stdout",
     "output_type": "stream",
     "text": [
      "Enter your number: 6\n",
      "Number is Even\n",
      "Done!\n"
     ]
    }
   ],
   "source": [
    "# odd or even\n",
    "\n",
    "num = int(input(\"Enter your number: \"))\n",
    "\n",
    "if num%2 == 0:\n",
    "    print(\"Number is Even\")\n",
    "\n",
    "if num%2 != 0:\n",
    "    print(\"Number is odd\")\n",
    "    \n",
    "    \n",
    "print(\"Done!\")"
   ]
  },
  {
   "cell_type": "markdown",
   "metadata": {},
   "source": [
    "```if``` statements can be nested. <br> \n",
    "__Question:__ What is the input that would yield the maximum output for the code below?"
   ]
  },
  {
   "cell_type": "code",
   "execution_count": 8,
   "metadata": {},
   "outputs": [
    {
     "name": "stdin",
     "output_type": "stream",
     "text": [
      "Enter your number  98\n"
     ]
    },
    {
     "name": "stdout",
     "output_type": "stream",
     "text": [
      "490\n",
      "Done!\n"
     ]
    }
   ],
   "source": [
    "number = int(input(\"Enter your number \"))\n",
    "\n",
    "if number < 100:\n",
    "    if number%2 == 0:\n",
    "        if number%5 == 0:\n",
    "            print (number)\n",
    "        if number%5 != 0:\n",
    "            print (number * 5)\n",
    "            \n",
    "    if number%2 != 0:\n",
    "        print (number * 2)\n",
    "        \n",
    "if number >= 100:\n",
    "    print (\"The number is out of range!\")\n",
    "    \n",
    "print(\"Done!\")\n",
    "            \n",
    "        \n",
    "    "
   ]
  },
  {
   "cell_type": "markdown",
   "metadata": {},
   "source": [
    "#### ```if - else``` Statements"
   ]
  },
  {
   "cell_type": "markdown",
   "metadata": {},
   "source": [
    " "
   ]
  },
  {
   "cell_type": "markdown",
   "metadata": {},
   "source": [
    "The general python syntax for a <code>If... Else</code> statement is\n",
    "<br>\n",
    "<br>\n",
    "<code>If</code> condition:<br>\n",
    "statements <br>\n",
    "   \n",
    "<code>Elif</code> condition:<br>\n",
    "    statements<br>\n",
    "   \n",
    "<code>Else</code>:<br>\n",
    "    statements\n",
    "    \n",
    " By using this statement we can simplify the previous example:"
   ]
  },
  {
   "cell_type": "code",
   "execution_count": 4,
   "metadata": {},
   "outputs": [
    {
     "name": "stdout",
     "output_type": "stream",
     "text": [
      "Enter your number (<100)6\n",
      "6 : smaller than 10\n"
     ]
    }
   ],
   "source": [
    "number = int(input(\"Enter your number (<100)\"))\n",
    "if number > 10:\n",
    "    print (number, \": greather than 10\")\n",
    "elif number == 10:\n",
    "    print (number, \": equal to 10\")\n",
    "else:\n",
    "    print (number, \": smaller than 10\")"
   ]
  },
  {
   "cell_type": "code",
   "execution_count": 5,
   "metadata": {},
   "outputs": [
    {
     "name": "stdout",
     "output_type": "stream",
     "text": [
      "Enter your number: 101\n",
      "The number is out of range!\n",
      "Done!\n"
     ]
    }
   ],
   "source": [
    "number = int(input(\"Enter your number: \"))\n",
    "\n",
    "if number < 100:\n",
    "    if number%2 == 0:\n",
    "        if number%5 == 0:\n",
    "            print (number)\n",
    "        else:\n",
    "            print (number * 5)\n",
    "            \n",
    "    else:\n",
    "        print (number * 2)\n",
    "        \n",
    "if number > 100:\n",
    "    print (\"The number is out of range!\")\n",
    "    \n",
    "print(\"Done!\")\n",
    "            "
   ]
  },
  {
   "cell_type": "code",
   "execution_count": 6,
   "metadata": {},
   "outputs": [
    {
     "name": "stdout",
     "output_type": "stream",
     "text": [
      "How many days are in February? 4\n",
      "Try again!\n",
      "Thank you\n"
     ]
    }
   ],
   "source": [
    "# The number of days in a month\n",
    "\n",
    "days = int(input(\"How many days are in February? \"))\n",
    "\n",
    "if days == 28:\n",
    "    print(\"You got it.\")\n",
    "    \n",
    "else:\n",
    "    print(\"Try again!\")\n",
    "    \n",
    "print(\"Thank you\")"
   ]
  },
  {
   "cell_type": "markdown",
   "metadata": {},
   "source": [
    "# Loops in Python"
   ]
  },
  {
   "cell_type": "markdown",
   "metadata": {},
   "source": [
    "- When you want to repeat a fixed number of times, loops are useful to reduce the number of iterations.\n",
    "\n",
    "- There are two types of loops in python: ```for``` and ```while```"
   ]
  },
  {
   "cell_type": "markdown",
   "metadata": {},
   "source": [
    "# While loop\n",
    "\n",
    "```while``` condition:\n",
    "\n",
    "    statements"
   ]
  },
  {
   "cell_type": "code",
   "execution_count": 7,
   "metadata": {},
   "outputs": [
    {
     "name": "stdout",
     "output_type": "stream",
     "text": [
      "7\n",
      "6\n",
      "5\n",
      "4\n",
      "3\n",
      "2\n",
      "1\n"
     ]
    }
   ],
   "source": [
    "num = 7\n",
    "\n",
    "while num > 0:\n",
    "    print (num)\n",
    "    num = num - 1\n",
    "    #input() #use input to step execution of loop to debug"
   ]
  },
  {
   "cell_type": "code",
   "execution_count": 8,
   "metadata": {},
   "outputs": [
    {
     "name": "stdout",
     "output_type": "stream",
     "text": [
      "Today is :  sunday\n",
      "Today is :  Monday\n",
      "Today is :  Tuesday\n",
      "Today is :  Wednesday\n",
      "Today is :  Thursday\n",
      "Today is :  Friday\n",
      "Today is :  Saturday\n"
     ]
    }
   ],
   "source": [
    "Day = [\"sunday\", \"Monday\", \"Tuesday\", \"Wednesday\", \"Thursday\", \"Friday\", \"Saturday\"]\n",
    "\n",
    "Count = 0\n",
    "\n",
    "while Count <= 6:\n",
    "    print (\"Today is : \", Day[Count])\n",
    "    Count = Count + 1"
   ]
  },
  {
   "cell_type": "markdown",
   "metadata": {},
   "source": [
    "With the ```else``` statement we can run a block of code once when the condition no longer is true:"
   ]
  },
  {
   "cell_type": "code",
   "execution_count": 9,
   "metadata": {},
   "outputs": [
    {
     "name": "stdout",
     "output_type": "stream",
     "text": [
      "Enter your number : 3\n",
      "12\n",
      "16\n",
      "20\n",
      "5\n",
      "6\n",
      "7\n",
      "8\n",
      "3\n",
      "Done!\n"
     ]
    }
   ],
   "source": [
    "num = int(input(\"Enter your number : \"))\n",
    "\n",
    "while num < 10:\n",
    "    while num <= 5:\n",
    "        print (num * 4)\n",
    "        num = num + 1\n",
    "        \n",
    "    else:\n",
    "        print (num - 1)\n",
    "        num = num + 1\n",
    "        \n",
    "else:\n",
    "    print (num // 3)\n",
    "    num = num + 1\n",
    "    \n",
    "print(\"Done!\")"
   ]
  },
  {
   "cell_type": "code",
   "execution_count": 10,
   "metadata": {},
   "outputs": [
    {
     "name": "stdout",
     "output_type": "stream",
     "text": [
      "Enter your word: TEST\n",
      "['T', 'E', 'S', 'T']\n"
     ]
    }
   ],
   "source": [
    "#converting a \"string\" variable into a List of letters\n",
    "Word = str (input(\"Enter your word: \")) \n",
    "\n",
    "index = 0\n",
    "List_Word = []\n",
    "\n",
    "while index < len (Word):\n",
    "    letter = Word[index]\n",
    "    List_Word.append(letter)\n",
    "    index = index + 1\n",
    "    \n",
    "print (List_Word)"
   ]
  },
  {
   "cell_type": "markdown",
   "metadata": {},
   "source": [
    "# For loop\n",
    "\n",
    "```for``` variable ```in``` iterator:\n",
    "\n",
    "    statements"
   ]
  },
  {
   "cell_type": "code",
   "execution_count": 11,
   "metadata": {},
   "outputs": [
    {
     "name": "stdout",
     "output_type": "stream",
     "text": [
      "['Python', 'C', 'Java', 'Julia', 'R', 'C++']\n"
     ]
    }
   ],
   "source": [
    "MyExampleList = [\"Python\", \"C\", \"Java\", \"Julia\", \"R\", \"C++\"]\n",
    "print (MyExampleList)"
   ]
  },
  {
   "cell_type": "code",
   "execution_count": 12,
   "metadata": {},
   "outputs": [
    {
     "name": "stdout",
     "output_type": "stream",
     "text": [
      "Python\n",
      "C\n",
      "Java\n",
      "Julia\n",
      "R\n",
      "C++\n"
     ]
    }
   ],
   "source": [
    "for l in MyExampleList:\n",
    "    print (l)"
   ]
  },
  {
   "cell_type": "code",
   "execution_count": 13,
   "metadata": {},
   "outputs": [
    {
     "name": "stdout",
     "output_type": "stream",
     "text": [
      "Enter your word: TEST\n",
      "T\n",
      "E\n",
      "S\n",
      "T\n"
     ]
    }
   ],
   "source": [
    "Word = str (input(\"Enter your word: \"))\n",
    "\n",
    "for letter in range (len(Word)):\n",
    "    print (Word[letter])\n",
    "    "
   ]
  },
  {
   "cell_type": "code",
   "execution_count": 14,
   "metadata": {},
   "outputs": [
    {
     "name": "stdout",
     "output_type": "stream",
     "text": [
      "2 3 6\n",
      "2 4 8\n",
      "2 5 10\n",
      "3 3 9\n",
      "3 4 12\n",
      "3 5 15\n"
     ]
    }
   ],
   "source": [
    "for x in range (2,4):\n",
    "    for y in range (3,6):\n",
    "        print (x, y, (x * y))"
   ]
  },
  {
   "cell_type": "code",
   "execution_count": 15,
   "metadata": {},
   "outputs": [
    {
     "name": "stdout",
     "output_type": "stream",
     "text": [
      "Enter your sentence: this is a sentence\n",
      "1\n"
     ]
    }
   ],
   "source": [
    "# counting the number of specific letter in a sentence\n",
    "\n",
    "Sentence = str(input(\"Enter your sentence: \"))\n",
    "\n",
    "count = 0\n",
    "\n",
    "for char in Sentence:\n",
    "    if char == \"a\":\n",
    "        count = count + 1\n",
    "        \n",
    "print(count)"
   ]
  },
  {
   "cell_type": "markdown",
   "metadata": {},
   "source": [
    "Some more examples:\n"
   ]
  },
  {
   "cell_type": "code",
   "execution_count": 16,
   "metadata": {},
   "outputs": [
    {
     "name": "stdout",
     "output_type": "stream",
     "text": [
      "7\n",
      "6\n",
      "5\n",
      "End\n"
     ]
    }
   ],
   "source": [
    "# using \"break\" in loop \n",
    "\n",
    "value = 7\n",
    "\n",
    "while value > 0:\n",
    "    print(value)\n",
    "    value = value - 1\n",
    "    if value == 4:\n",
    "        break\n",
    "        \n",
    "print(\"End\")"
   ]
  },
  {
   "cell_type": "code",
   "execution_count": 17,
   "metadata": {},
   "outputs": [
    {
     "name": "stdout",
     "output_type": "stream",
     "text": [
      "6\n",
      "5\n",
      "3\n",
      "2\n",
      "1\n",
      "0\n",
      "End\n"
     ]
    }
   ],
   "source": [
    "# using \"continue\" in loop \n",
    "\n",
    "value = 7\n",
    "\n",
    "while value > 0:\n",
    "    value = value - 1\n",
    "    if value == 4:\n",
    "        continue\n",
    "    print (value)\n",
    "        \n",
    "print(\"End\")"
   ]
  },
  {
   "cell_type": "code",
   "execution_count": 10,
   "metadata": {
    "scrolled": true
   },
   "outputs": [
    {
     "name": "stdout",
     "output_type": "stream",
     "text": [
      "2 is prime!\n",
      "3 is prime!\n",
      "4 is not prime!\n",
      "5 is prime!\n",
      "6 is not prime!\n",
      "7 is prime!\n",
      "8 is not prime!\n",
      "9 is not prime!\n",
      "10 is not prime!\n",
      "11 is prime!\n",
      "12 is not prime!\n",
      "13 is prime!\n",
      "14 is not prime!\n",
      "15 is not prime!\n",
      "16 is not prime!\n",
      "17 is prime!\n",
      "18 is not prime!\n",
      "19 is prime!\n",
      "20 is not prime!\n",
      "21 is not prime!\n",
      "22 is not prime!\n",
      "23 is prime!\n",
      "24 is not prime!\n",
      "25 is not prime!\n",
      "26 is not prime!\n",
      "27 is not prime!\n",
      "28 is not prime!\n",
      "29 is prime!\n"
     ]
    }
   ],
   "source": [
    "# Identify the prime numbers in the list 2,3,4,...,29\n",
    "\n",
    "for number in range (2,30):\n",
    "    for x in range (2,number):\n",
    "        if number % x == 0:\n",
    "            print (number, \"is not prime!\")\n",
    "            break               # check the result with/without break and compare them. \n",
    "    else:\n",
    "        print (number, \"is prime!\" )"
   ]
  },
  {
   "cell_type": "code",
   "execution_count": 19,
   "metadata": {},
   "outputs": [
    {
     "name": "stdout",
     "output_type": "stream",
     "text": [
      "16\n",
      "17\n",
      "18\n",
      "19\n",
      "31\n",
      "32\n",
      "33\n",
      "34\n",
      "35\n",
      "36\n",
      "37\n",
      "38\n",
      "39\n"
     ]
    }
   ],
   "source": [
    "for i in range (16,40):\n",
    "    if 20 <= i <= 30:\n",
    "        continue\n",
    "    print (i)"
   ]
  },
  {
   "cell_type": "code",
   "execution_count": 12,
   "metadata": {},
   "outputs": [
    {
     "name": "stdin",
     "output_type": "stream",
     "text": [
      "Enter your number:  1\n"
     ]
    },
    {
     "name": "stdout",
     "output_type": "stream",
     "text": [
      "1 is not prime\n"
     ]
    }
   ],
   "source": [
    "number = int (input(\"Enter your number: \"))\n",
    "\n",
    "if number > 1:\n",
    "    for x in range (2,number):\n",
    "        if number % x == 0:\n",
    "            print (number, \"is not prime\")\n",
    "            break\n",
    "            \n",
    "    else:\n",
    "        print (number, \"is prime\")\n",
    "        \n",
    "else:\n",
    "    print (number, \"is not prime\")\n"
   ]
  },
  {
   "cell_type": "markdown",
   "metadata": {},
   "source": [
    "# Built-in functions\n",
    "Functions that are allways available in Python. Few examples:"
   ]
  },
  {
   "cell_type": "markdown",
   "metadata": {},
   "source": [
    "-```input(prompt)```                             \n",
    "\n",
    "-```abs(x)```\n",
    "\n",
    "-```help()```\n",
    "\n",
    "-```float(obj)```\n",
    "\n",
    "-```int(obj)```\n",
    "\n",
    "-```long(obj)```\n",
    "\n",
    "-```print()```\n",
    "\n",
    "-```round()```\n",
    "\n",
    "-```type()```\n",
    "\n",
    "-```range()```\n"
   ]
  },
  {
   "cell_type": "markdown",
   "metadata": {},
   "source": [
    "# Mathematic functions\n",
    "-The math module gives access to the C library functions for floating point mathematics. Few examples:\n",
    "\n",
    "-```math.sqrt(x)``` Return the square root of x.\n",
    "\n",
    "-```math.floor(x)``` Return the floor of x, the largest integer less than or equal to x.\n",
    "\n",
    "-```math.pow(x,y,z)``` Return x raised to the power y.\n",
    "\n",
    "-```math.cos(x)``` Return the cosine of x radians.\n",
    "\n",
    "- More functions at: https://docs.python.org/3/library/math.html#module-math"
   ]
  },
  {
   "cell_type": "code",
   "execution_count": 21,
   "metadata": {},
   "outputs": [],
   "source": [
    "import math"
   ]
  },
  {
   "cell_type": "code",
   "execution_count": 22,
   "metadata": {},
   "outputs": [
    {
     "data": {
      "text/plain": [
       "8.0"
      ]
     },
     "execution_count": 22,
     "metadata": {},
     "output_type": "execute_result"
    }
   ],
   "source": [
    "x = 2\n",
    "y = 3\n",
    "z = 4\n",
    "math.pow(x,y)"
   ]
  },
  {
   "cell_type": "code",
   "execution_count": 23,
   "metadata": {},
   "outputs": [
    {
     "data": {
      "text/plain": [
       "3"
      ]
     },
     "execution_count": 23,
     "metadata": {},
     "output_type": "execute_result"
    }
   ],
   "source": [
    "math.floor(3.2)"
   ]
  },
  {
   "cell_type": "code",
   "execution_count": 24,
   "metadata": {},
   "outputs": [
    {
     "data": {
      "text/plain": [
       "-0.9991351502732795"
      ]
     },
     "execution_count": 24,
     "metadata": {},
     "output_type": "execute_result"
    }
   ],
   "source": [
    "math.cos(3.1)"
   ]
  },
  {
   "cell_type": "markdown",
   "metadata": {},
   "source": [
    "# Defining Functions "
   ]
  },
  {
   "cell_type": "markdown",
   "metadata": {},
   "source": [
    "If you want to define a function in python,you need to use the keyword ```def``` \n",
    "\n",
    "The structure of defining a function is like below:\n",
    "\n",
    "\n",
    "\n",
    "```def``` functionName (V,a):\n",
    "\n",
    "    statements"
   ]
  },
  {
   "cell_type": "code",
   "execution_count": 26,
   "metadata": {},
   "outputs": [
    {
     "name": "stdout",
     "output_type": "stream",
     "text": [
      "True\n"
     ]
    }
   ],
   "source": [
    "# Is a number prime?\n",
    "\n",
    "def prime (Candidate_num):\n",
    "    if Candidate_num > 1:\n",
    "        for x in range (2,Candidate_num):\n",
    "            if Candidate_num % x == 0:\n",
    "                return False\n",
    "    return True\n",
    "\n",
    "\n",
    "print (prime(23))"
   ]
  },
  {
   "cell_type": "code",
   "execution_count": 26,
   "metadata": {},
   "outputs": [
    {
     "name": "stdout",
     "output_type": "stream",
     "text": [
      "Enter your number: 3\n",
      "True\n"
     ]
    }
   ],
   "source": [
    "Number = int (input(\"Enter your number: \"))\n",
    "\n",
    "print (prime (Number))\n",
    "\n"
   ]
  },
  {
   "cell_type": "code",
   "execution_count": 27,
   "metadata": {},
   "outputs": [
    {
     "name": "stdout",
     "output_type": "stream",
     "text": [
      "5040\n"
     ]
    }
   ],
   "source": [
    "# Defining factorial function\n",
    "\n",
    "def factorial (number):\n",
    "    #print(\"entering factorial with input \", number )\n",
    "    if number == 0:   #factorial of 0 is 1\n",
    "        return 1\n",
    "    else:\n",
    "        return number * factorial (number - 1)\n",
    "    \n",
    "    \n",
    "    \n",
    "print (factorial (7))"
   ]
  },
  {
   "cell_type": "markdown",
   "metadata": {},
   "source": [
    "# Exercises"
   ]
  },
  {
   "cell_type": "markdown",
   "metadata": {},
   "source": [
    "__1.__ Calculate the following mathematical expression using Phyton conditional statements (loops): \n",
    "$\\sum_1^{10} 6x^5+x^2$ "
   ]
  },
  {
   "cell_type": "markdown",
   "metadata": {},
   "source": [
    "__2.__ Calculate the following mathematical expression using Phyton conditional statements (loops): \n",
    "$\\prod_{20}^{30} 3x^6$ "
   ]
  },
  {
   "cell_type": "markdown",
   "metadata": {},
   "source": [
    "__3.__ Consider the following list:"
   ]
  },
  {
   "cell_type": "code",
   "execution_count": 28,
   "metadata": {},
   "outputs": [],
   "source": [
    "MyWords = ['cat', 'window', 'defenestrate', 'ludicrous']"
   ]
  },
  {
   "cell_type": "markdown",
   "metadata": {},
   "source": [
    "use conditional statements to print each word followed by its length"
   ]
  },
  {
   "cell_type": "markdown",
   "metadata": {},
   "source": [
    "__4.__ define a function (Count_vowels) to return the number of vowels on a given input string (word)"
   ]
  },
  {
   "cell_type": "markdown",
   "metadata": {},
   "source": [
    "__5.__ use conditional statements and Count_vowels defined above to print each word from MyWords list defined in exercise 3 followed by how many vowels it contains "
   ]
  },
  {
   "cell_type": "markdown",
   "metadata": {},
   "source": [
    "\n",
    "\n",
    "# Homework (not graded)\n",
    "Please complete all the exercises on this Notebook. Some exercises will be solved in class, but you should complete solving all the remaining exersices at the end of each Notebook on every class. If you can not solve an exercise, please contact the class teaching assistant for help inmmediately."
   ]
  },
  {
   "cell_type": "markdown",
   "metadata": {},
   "source": [
    "# References\n",
    "\n",
    "- If... Else, While, Lists: https://www.w3schools.com/python/python_while_loops.asp\n",
    "- Mathematics module: https://docs.python.org/2/tutorial/stdlib.html\n",
    "- Built-in functions: https://docs.python.org/2/library/functions.html\n"
   ]
  },
  {
   "cell_type": "markdown",
   "metadata": {},
   "source": [
    "_Last updated on 9.5.2023 1:31pm<br>\n",
    "(C) 2023 Complex Adaptive Systems Laboratory all rights reserved._"
   ]
  },
  {
   "cell_type": "code",
   "execution_count": null,
   "metadata": {},
   "outputs": [],
   "source": []
  }
 ],
 "metadata": {
  "kernelspec": {
   "display_name": "Python [conda env:base] *",
   "language": "python",
   "name": "conda-base-py"
  },
  "language_info": {
   "codemirror_mode": {
    "name": "ipython",
    "version": 3
   },
   "file_extension": ".py",
   "mimetype": "text/x-python",
   "name": "python",
   "nbconvert_exporter": "python",
   "pygments_lexer": "ipython3",
   "version": "3.12.2"
  }
 },
 "nbformat": 4,
 "nbformat_minor": 4
}
